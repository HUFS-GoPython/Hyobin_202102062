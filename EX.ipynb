{
 "cells": [
  {
   "cell_type": "code",
   "execution_count": null,
   "id": "6360244b-2c93-4b60-94ad-cd898b46aa1f",
   "metadata": {
    "tags": []
   },
   "outputs": [],
   "source": [
    "## 프로그래밍이란?\n",
    "   - 프로그래밍 언어를 사용하여 프로그램을 개발하는 것\n",
    "   - 논리적인 사고를 가질 수 있다.\n",
    "## programming language?\n",
    "   - 프로그램을 개발할 때 사용하는 도구\n",
    "   - 인간이 원하는 것을 컴퓨터에게 명령할 때 사용하는 컴퓨터가 이해할 수 있는 언어\n",
    "## 파이썬?\n",
    "   - 쉽다. 간결하다.\n",
    "   - 라이브러리가 많다."
   ]
  },
  {
   "cell_type": "markdown",
   "id": "a77471a8-013a-4180-a974-e2b9514193e0",
   "metadata": {
    "tags": []
   },
   "source": [
    "## Chapter 2. Data: Types, Values, Variables, and Names"
   ]
  },
  {
   "cell_type": "markdown",
   "id": "8c5279f1-1818-4141-a7cc-c6e9fcfcb240",
   "metadata": {},
   "source": [
    "- 변수ㅣVarialble : 특정 값을 저장하는 공간\n",
    "- 값 ㅣ value\n",
    "     2\n",
    "- 할당하다 : 변수에 값을 넣는 과정\n",
    "    \" 2를 a에 넣었다.\"\n",
    "    \n",
    "    *** a는 2다. a == 2\n",
    "- 자료형ㅣtype: 데이터의 형태\n",
    "     a 데이터의 형태? integer"
   ]
  },
  {
   "cell_type": "markdown",
   "id": "9dee188c-4fd4-420e-925a-2c8c76d84ef3",
   "metadata": {},
   "source": [
    "### Type\n",
    "- integer : 정수 : 1,2,3...\n",
    "- floating point number : 부동소수점 : 1.0, 2.0, 0.4, ....\n",
    "- string : 문자열: \"1\", \"apple\"\n",
    "- boolean : 불라인 : Ture/False"
   ]
  },
  {
   "cell_type": "code",
   "execution_count": 8,
   "id": "0d753c26-159b-4b2b-a1d4-3baf8f8226a7",
   "metadata": {},
   "outputs": [
    {
     "data": {
      "text/plain": [
       "'kim'"
      ]
     },
     "execution_count": 8,
     "metadata": {},
     "output_type": "execute_result"
    }
   ],
   "source": [
    "name = 'kim'\n",
    "name"
   ]
  },
  {
   "cell_type": "code",
   "execution_count": 9,
   "id": "a84f4463-d9d1-4216-ae58-2a31569b17bb",
   "metadata": {},
   "outputs": [
    {
     "name": "stdout",
     "output_type": "stream",
     "text": [
      "kim\n"
     ]
    }
   ],
   "source": [
    "print(name)"
   ]
  },
  {
   "cell_type": "markdown",
   "id": "1adfa5a6-5286-4e1a-8105-ddc01589abb4",
   "metadata": {},
   "source": [
    "### 할당\n",
    "- = 이 기호를 사용\n",
    "- 수학에서 '양변이 같다'라는 의미로 사용되지만, 프로그래밍에서는 '할당하다'라는 의미가 추가된다.\n",
    "- \"오른쪽의 값을 왼쪽에 할당한다'\n",
    "- 1. 오른쪽에 있는 모든 것은 값을 가져야 한다.(초기화를 해야 한다.)\n",
    "- 2. 같은 변수에 다른 값을 넣을 수 있다. "
   ]
  },
  {
   "cell_type": "code",
   "execution_count": 10,
   "id": "700f243c-7b59-44fa-9949-e7f8251b9f3d",
   "metadata": {},
   "outputs": [
    {
     "data": {
      "text/plain": [
       "7"
      ]
     },
     "execution_count": 10,
     "metadata": {},
     "output_type": "execute_result"
    }
   ],
   "source": [
    "x = 4\n",
    "y = x+3\n",
    "y"
   ]
  },
  {
   "cell_type": "code",
   "execution_count": 11,
   "id": "4fcada1f-3493-4c1b-9d5f-e8b218f78736",
   "metadata": {},
   "outputs": [
    {
     "data": {
      "text/plain": [
       "'park'"
      ]
     },
     "execution_count": 11,
     "metadata": {},
     "output_type": "execute_result"
    }
   ],
   "source": [
    "name = 'kim'\n",
    "name = 'lee'\n",
    "name = 'park'\n",
    "name\n",
    "#변수명 동일하게 사용하지 말라"
   ]
  },
  {
   "cell_type": "markdown",
   "id": "e2e3c6d0-92c5-4c0f-bb02-8345ab50e8fe",
   "metadata": {},
   "source": [
    "### 변수명 정하기\n",
    "- 나쁜 변수명 : a, b, c, d ....\n",
    "- 의미있는 이름으로 선언해야 한다.\n",
    "- 소문자, 대문자, 숫자, 언더바를 사용한다.\n",
    "  예: name, name2, my_name...."
   ]
  },
  {
   "cell_type": "code",
   "execution_count": 18,
   "id": "abe0e2b9-ff4f-4f94-b324-8323a52cb77b",
   "metadata": {},
   "outputs": [
    {
     "name": "stdout",
     "output_type": "stream",
     "text": [
      "yang,hyo,bin\n"
     ]
    }
   ],
   "source": [
    "name = 'yang'\n",
    "name2 = 'hyo'\n",
    "my_name = 'bin'\n",
    "# myName = 카멜표기법\n",
    "\n",
    "print(name, name2, my_name, sep =',')"
   ]
  },
  {
   "cell_type": "markdown",
   "id": "06245836-b1b5-4b4e-b7c0-7f2f77e0d56d",
   "metadata": {},
   "source": [
    "- 안되는 것\n",
    "    - 숫자로 시작할 수 없다.\n",
    "        예 : 22name, 22_name\n",
    "    - 예약어로 선언할 수 없다.\n",
    "        예 : def, False, if ...."
   ]
  },
  {
   "cell_type": "code",
   "execution_count": 14,
   "id": "f82494c1-f602-45be-be32-a2664bd0b6b7",
   "metadata": {},
   "outputs": [
    {
     "name": "stdout",
     "output_type": "stream",
     "text": [
      "\n",
      "Here is a list of the Python keywords.  Enter any keyword to get more help.\n",
      "\n",
      "False               break               for                 not\n",
      "None                class               from                or\n",
      "True                continue            global              pass\n",
      "__peg_parser__      def                 if                  raise\n",
      "and                 del                 import              return\n",
      "as                  elif                in                  try\n",
      "assert              else                is                  while\n",
      "async               except              lambda              with\n",
      "await               finally             nonlocal            yield\n",
      "\n"
     ]
    }
   ],
   "source": [
    "help('keywords')"
   ]
  },
  {
   "cell_type": "markdown",
   "id": "d0492a73-d8cb-4504-bcea-7f525db57216",
   "metadata": {},
   "source": [
    "- 조심할 것 : 특별한 용도가 있기 때문에\n",
    "    - 언더바로 시작하는 변수명 : _name\n",
    "    - 더블 언더바로 시작하는 변수명 : __name\n",
    "    - 대문자로 시작하는 변수명 : Name\n",
    "    - 전체 대문자 : NAME"
   ]
  },
  {
   "cell_type": "code",
   "execution_count": 15,
   "id": "d29b941c-c96d-4a81-be71-016c754599c7",
   "metadata": {},
   "outputs": [],
   "source": [
    "# 변수명은 대소문자 구분한다.\n",
    "num = 43\n",
    "Num = 44"
   ]
  },
  {
   "cell_type": "code",
   "execution_count": 16,
   "id": "f28ab211-4a6c-45be-a9d4-6e920a5fa394",
   "metadata": {},
   "outputs": [
    {
     "data": {
      "text/plain": [
       "False"
      ]
     },
     "execution_count": 16,
     "metadata": {},
     "output_type": "execute_result"
    }
   ],
   "source": [
    "num == Num"
   ]
  },
  {
   "cell_type": "code",
   "execution_count": 17,
   "id": "dd681b05-ddf7-4640-9c09-20dc523d7fbe",
   "metadata": {},
   "outputs": [
    {
     "data": {
      "text/plain": [
       "True"
      ]
     },
     "execution_count": 17,
     "metadata": {},
     "output_type": "execute_result"
    }
   ],
   "source": [
    "num != Num"
   ]
  }
 ],
 "metadata": {
  "kernelspec": {
   "display_name": "Python 3 (ipykernel)",
   "language": "python",
   "name": "python3"
  },
  "language_info": {
   "codemirror_mode": {
    "name": "ipython",
    "version": 3
   },
   "file_extension": ".py",
   "mimetype": "text/x-python",
   "name": "python",
   "nbconvert_exporter": "python",
   "pygments_lexer": "ipython3",
   "version": "3.9.7"
  }
 },
 "nbformat": 4,
 "nbformat_minor": 5
}

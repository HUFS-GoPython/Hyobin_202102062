{
 "cells": [
  {
   "cell_type": "markdown",
   "id": "b0b083e3-126c-4914-9519-8ad5841862ec",
   "metadata": {
    "tags": []
   },
   "source": [
    "# Ch02. Variable\n",
    "- string : 문자열\n",
    "- float : 실수\n",
    "- integer : 정수\n",
    "- boolean : 논리값(T/F)"
   ]
  },
  {
   "cell_type": "markdown",
   "id": "9a973479-36b1-4003-80f9-3c4797d1da00",
   "metadata": {
    "jp-MarkdownHeadingCollapsed": true,
    "tags": []
   },
   "source": [
    "* 여러 이름 동시에 할당 가능\n",
    "* int는 불변객체(변하지 않음)"
   ]
  },
  {
   "cell_type": "code",
   "execution_count": 18,
   "id": "6690d2fb-b763-4045-9c0d-2dd830b773b9",
   "metadata": {},
   "outputs": [
    {
     "data": {
      "text/plain": [
       "2"
      ]
     },
     "execution_count": 18,
     "metadata": {},
     "output_type": "execute_result"
    }
   ],
   "source": [
    "two = dos = deux = 2\n",
    "# deux -> dos -> two (오른쪽 끝부터 할당)\n",
    "two"
   ]
  },
  {
   "cell_type": "code",
   "execution_count": 19,
   "id": "ceef4f0e-e75b-4cf7-8808-8b684560bfe4",
   "metadata": {},
   "outputs": [
    {
     "name": "stdout",
     "output_type": "stream",
     "text": [
      "4 2\n"
     ]
    }
   ],
   "source": [
    "two = 4\n",
    "print(two, deux)"
   ]
  },
  {
   "cell_type": "code",
   "execution_count": 20,
   "id": "7d91579f-e004-4865-b119-a9d51e821237",
   "metadata": {},
   "outputs": [
    {
     "data": {
      "text/plain": [
       "(2641898596752, 2641898596688)"
      ]
     },
     "execution_count": 20,
     "metadata": {},
     "output_type": "execute_result"
    }
   ],
   "source": [
    "# id() = 메모리 주소\n",
    "id(two), id(deux)"
   ]
  },
  {
   "cell_type": "code",
   "execution_count": 21,
   "id": "d5d81184-39c6-48ff-bb76-9c4ee17da502",
   "metadata": {},
   "outputs": [
    {
     "data": {
      "text/plain": [
       "([1, 2, 3], [1, 2, 3])"
      ]
     },
     "execution_count": 21,
     "metadata": {},
     "output_type": "execute_result"
    }
   ],
   "source": [
    "# 참고: 리스트는 가변 객체\n",
    "p = [1, 2, 3]\n",
    "q = p\n",
    "p, q"
   ]
  },
  {
   "cell_type": "code",
   "execution_count": 12,
   "id": "bef98823-affa-48d8-b585-f0e702163e99",
   "metadata": {},
   "outputs": [
    {
     "data": {
      "text/plain": [
       "([1, 2, 9], [1, 2, 9])"
      ]
     },
     "execution_count": 12,
     "metadata": {},
     "output_type": "execute_result"
    }
   ],
   "source": [
    "p[2] = 9\n",
    "p, q"
   ]
  },
  {
   "cell_type": "code",
   "execution_count": 13,
   "id": "2e5bf66d-a6c3-4eab-910d-c1f1723de7b6",
   "metadata": {},
   "outputs": [
    {
     "data": {
      "text/plain": [
       "(2641978528768, 2641978528768)"
      ]
     },
     "execution_count": 13,
     "metadata": {},
     "output_type": "execute_result"
    }
   ],
   "source": [
    "id(p), id(q)"
   ]
  },
  {
   "cell_type": "markdown",
   "id": "cde31953-b2e8-4929-b51a-f4b26e3f1579",
   "metadata": {},
   "source": [
    "### 좋은 변수명\n",
    "- 간결하고 명확한 이름\n",
    "- 의미가 담겨야 함\n",
    "- 코드에는 의미가 담기고 주석에는 의도가 담긴다.\n",
    "    - 예 : the number of students\n",
    "    n < the_number_of_students < 'num_students'(good)\n",
    "    - 카멜표기법: numStudents\n",
    "    - 안 좋은 예:\n",
    "        a, b, c...\n",
    "        NAME, AGE...."
   ]
  },
  {
   "cell_type": "markdown",
   "id": "38c460e2-9f27-4af7-ada2-3cfd50c5335c",
   "metadata": {},
   "source": [
    "### 자료형 변환, 형 변환\n",
    "- 형(변환할 값)\n",
    "- 예: int(), float(), bool()"
   ]
  },
  {
   "cell_type": "code",
   "execution_count": 28,
   "id": "67f2849d-0fb6-41cd-924a-789717e2917a",
   "metadata": {},
   "outputs": [
    {
     "name": "stdout",
     "output_type": "stream",
     "text": [
      "10\n",
      "10.0\n",
      "True\n"
     ]
    }
   ],
   "source": [
    "a = 10\n",
    "\n",
    "print(str(a))\n",
    "print(float(a))\n",
    "print(bool(a))    # 어떤 값이 False로 변환이 되는지 파악(True값의 수보다 적기 때문에)"
   ]
  },
  {
   "cell_type": "markdown",
   "id": "1fc62d9b-feb7-4f28-a454-90bfa064238d",
   "metadata": {},
   "source": [
    "#### 주의할 점 1: float -> int"
   ]
  },
  {
   "cell_type": "code",
   "execution_count": 29,
   "id": "fd84f81a-a1ef-4efb-949c-94ed597acf26",
   "metadata": {},
   "outputs": [
    {
     "data": {
      "text/plain": [
       "10"
      ]
     },
     "execution_count": 29,
     "metadata": {},
     "output_type": "execute_result"
    }
   ],
   "source": [
    "x = 10.7 # float 변환 시 소수점 이하 사라짐\n",
    "int(x)"
   ]
  },
  {
   "cell_type": "code",
   "execution_count": 33,
   "id": "20c3f37a-272d-458e-97c9-4c368d226965",
   "metadata": {},
   "outputs": [
    {
     "name": "stdout",
     "output_type": "stream",
     "text": [
      "30\n",
      "29\n"
     ]
    }
   ],
   "source": [
    "y = 19.8\n",
    "print(int(x + y))\n",
    "print(int(x) + int(y))\n",
    "\n",
    "# 결과값 다름"
   ]
  },
  {
   "cell_type": "markdown",
   "id": "0f6bea98-7a70-45df-9382-a0355a346604",
   "metadata": {},
   "source": [
    "#### 주의할 점 2: str -> int / float"
   ]
  },
  {
   "cell_type": "code",
   "execution_count": 5,
   "id": "fa909bf2-b78f-4d89-8edf-2b25b4e283ad",
   "metadata": {},
   "outputs": [
    {
     "data": {
      "text/plain": [
       "(10, 10.0)"
      ]
     },
     "execution_count": 5,
     "metadata": {},
     "output_type": "execute_result"
    }
   ],
   "source": [
    "i = '10'\n",
    "int(i), float(i)"
   ]
  },
  {
   "cell_type": "markdown",
   "id": "ab42c4fe-7c11-4a9a-9521-31bfa3743dc1",
   "metadata": {
    "tags": []
   },
   "source": [
    "j = '10.7' => int(j) / float(j)\n",
    "\n",
    "=> error"
   ]
  },
  {
   "cell_type": "markdown",
   "id": "7ccf8902-4629-4fd5-8f9a-6ceec1bcc8c3",
   "metadata": {
    "tags": []
   },
   "source": [
    "### print() : TIP!!"
   ]
  },
  {
   "cell_type": "markdown",
   "id": "970f5c60-459e-47b0-aa34-15a90df26159",
   "metadata": {},
   "source": [
    "* space(\\n) 유무"
   ]
  },
  {
   "cell_type": "code",
   "execution_count": 39,
   "id": "aa56c2cf-26aa-4bed-8025-c2342f488290",
   "metadata": {},
   "outputs": [
    {
     "name": "stdout",
     "output_type": "stream",
     "text": [
      "dogcatlion\n",
      "dog cat lion\n"
     ]
    }
   ],
   "source": [
    "dog = 'dog'\n",
    "cat = 'cat'\n",
    "lion = 'lion'\n",
    "\n",
    "print(dog + cat + lion) # space 없음 \\n\n",
    "print(dog, cat, lion)   # space 있음 \\n"
   ]
  },
  {
   "cell_type": "markdown",
   "id": "5d6dbb0d-736b-4de4-b517-969ad527d661",
   "metadata": {},
   "source": [
    "* sep =' ',   end ='\\n' 용도"
   ]
  },
  {
   "cell_type": "code",
   "execution_count": 42,
   "id": "707b6ad8-e49c-4c39-8cfd-dc73fac67e52",
   "metadata": {},
   "outputs": [
    {
     "name": "stdout",
     "output_type": "stream",
     "text": [
      "dog cat lion\n",
      "dog/cat/lion\n",
      "\n",
      "EOL\n"
     ]
    }
   ],
   "source": [
    "print(dog, cat, lion, sep = ' ', end = '\\n') #default\n",
    "print(dog, cat, lion, sep = '/', end = '\\n\\n')\n",
    "print('EOL')\n",
    "\n",
    "# sep = '구분자' / end = '\\n'은 줄 바꿈"
   ]
  },
  {
   "cell_type": "code",
   "execution_count": 44,
   "id": "cea300c1-5521-4245-841d-15489b4d76ed",
   "metadata": {},
   "outputs": [
    {
     "name": "stdout",
     "output_type": "stream",
     "text": [
      "My favorite animal is dog .\n",
      "My favorite animal is dog.\n"
     ]
    }
   ],
   "source": [
    "print(\"My favorite animal is\", dog, '.')\n",
    "print(f\"My favorite animal is {dog}.\")  # 권고"
   ]
  },
  {
   "cell_type": "markdown",
   "id": "08e92331-8ba6-4719-81db-e31bfb0f8db9",
   "metadata": {
    "tags": []
   },
   "source": [
    "* 코드 줄이 짧을 때 ;(semicolon)을 이용해 한 줄로 쓸 수 있다."
   ]
  },
  {
   "cell_type": "code",
   "execution_count": 15,
   "id": "af23db9f-724e-49b8-8418-2ee260b89727",
   "metadata": {},
   "outputs": [
    {
     "name": "stdout",
     "output_type": "stream",
     "text": [
      "dog\n"
     ]
    }
   ],
   "source": [
    "dog = 'dog'; cat = 'cat'; lion = 'lion'\n",
    "print(dog)"
   ]
  },
  {
   "cell_type": "markdown",
   "id": "8626ea30-689d-4cb3-862d-cf1beaad8987",
   "metadata": {},
   "source": [
    "## 'input()' 함수\n",
    "- console에서 '사용자'가 입력하는 값을 받을 수 있는 함수\n",
    "- 입력받는 값은 기본적으로 문자열로 인식\n",
    "- 입력 받은 값을 변수에 담아서 사용한다. 안 그러면 사라짐\n",
    "- 숫자일 경우 형 변환 (int, float)"
   ]
  },
  {
   "cell_type": "code",
   "execution_count": 45,
   "id": "5c96900d-6e8a-48da-8ff9-87b8450dbf33",
   "metadata": {},
   "outputs": [
    {
     "name": "stdin",
     "output_type": "stream",
     "text": [
      "Hello? hi\n",
      "나이가 어떻게 되나요? 44\n"
     ]
    },
    {
     "data": {
      "text/plain": [
       "44"
      ]
     },
     "execution_count": 45,
     "metadata": {},
     "output_type": "execute_result"
    }
   ],
   "source": [
    "input(\"Hello?\")\n",
    "int(input('나이가 어떻게 되나요?'))"
   ]
  },
  {
   "cell_type": "markdown",
   "id": "63416cf5-d9cb-4aa0-8969-939d566184ea",
   "metadata": {},
   "source": [
    "* 변수에 할당하는 방법"
   ]
  },
  {
   "cell_type": "code",
   "execution_count": 46,
   "id": "1f1c97ee-9e88-4f41-ba3d-b311421b22ac",
   "metadata": {},
   "outputs": [
    {
     "name": "stdin",
     "output_type": "stream",
     "text": [
      "나이가 어떻게 되나요? 15\n"
     ]
    },
    {
     "data": {
      "text/plain": [
       "'15'"
      ]
     },
     "execution_count": 46,
     "metadata": {},
     "output_type": "execute_result"
    }
   ],
   "source": [
    "#1\n",
    "age = input('나이가 어떻게 되나요?')\n",
    "age #문자열로 인식"
   ]
  },
  {
   "cell_type": "code",
   "execution_count": 49,
   "id": "95050a9c-6d72-4c76-b304-c7745f928e3f",
   "metadata": {},
   "outputs": [
    {
     "name": "stdout",
     "output_type": "stream",
     "text": [
      "나이가?\n"
     ]
    },
    {
     "name": "stdin",
     "output_type": "stream",
     "text": [
      " 15\n"
     ]
    },
    {
     "data": {
      "text/plain": [
       "15"
      ]
     },
     "execution_count": 49,
     "metadata": {},
     "output_type": "execute_result"
    }
   ],
   "source": [
    "#2\n",
    "print('나이가?')\n",
    "age = int(input())\n",
    "age # 정수로 인식"
   ]
  },
  {
   "cell_type": "markdown",
   "id": "7398b9b9-245e-4e4e-86cc-6bc59f84f931",
   "metadata": {},
   "source": [
    "### Quiz1\n",
    "- 섭씨를 입력 받아서 화씨로 변환하기\n",
    "- 섭씨 * 1.8 + 32 = 화씨"
   ]
  },
  {
   "cell_type": "code",
   "execution_count": 51,
   "id": "ca3b8cd6-e191-40fe-8838-d732b0171bd0",
   "metadata": {
    "tags": []
   },
   "outputs": [
    {
     "name": "stdin",
     "output_type": "stream",
     "text": [
      "섭씨를 입력하시오 55\n"
     ]
    },
    {
     "name": "stdout",
     "output_type": "stream",
     "text": [
      "화씨 = 131.0 입니다.\n"
     ]
    }
   ],
   "source": [
    "Celsius = float(input('섭씨를 입력하시오'))\n",
    "Fahrenheit = Celsius * 1.8 + 32\n",
    "print('화씨 =', Fahrenheit, '입니다.')\n",
    "\n",
    "# 변수명 주의(코드를 처음보는 사람도 알아볼 수 있도록)"
   ]
  },
  {
   "cell_type": "markdown",
   "id": "5c991108-c1f7-457d-a62e-da2eab6eb570",
   "metadata": {},
   "source": [
    "### Quiz 2\n",
    "- 택배 정보 입력 받고, 총 합계 계산하기\n",
    "- 출력값:\n",
    "    - \"==택배 정보==\"\n",
    "    - 수취인 성명: <이름>\n",
    "    - 수취인 주소: <주소>\n",
    "    - 배송비: 3000원\n",
    "    - 물건 비용: <가격>원\n",
    "    - 총 합계 : <가격>원\n",
    "- 물건 비용 = 무게(g) *5\n",
    "- 합계 = 배송비 + 물건 비용"
   ]
  },
  {
   "cell_type": "code",
   "execution_count": 53,
   "id": "84574ab5-f792-4614-917c-14825d20e661",
   "metadata": {
    "tags": []
   },
   "outputs": [
    {
     "name": "stdin",
     "output_type": "stream",
     "text": [
      "수취인 성명:  양효빈\n",
      "수취인 주소:  이문동\n",
      "물건 무게(g):  50\n"
     ]
    },
    {
     "name": "stdout",
     "output_type": "stream",
     "text": [
      "\n",
      "====택배 정보====\n",
      "수취인 성명: 양효빈\n",
      "수취인 주소: 이문동\n",
      "배송비: 3000원\n",
      "물건 비용: 250.0원\n",
      "총 합계: 3250.0원\n"
     ]
    }
   ],
   "source": [
    "name = input('수취인 성명: ')\n",
    "address = input('수취인 주소: ')\n",
    "weight = float(input('물건 무게(g): '))\n",
    "cost = weight * 5\n",
    "total = 3000 + cost\n",
    "\n",
    "print()\n",
    "print(\"====택배 정보====\")\n",
    "print(f'수취인 성명: {name}')\n",
    "print(f'수취인 주소: {address}')\n",
    "print('배송비: 3000원')\n",
    "print(f'물건 비용: {cost}원')\n",
    "print(f'총 합계: {total}원')"
   ]
  },
  {
   "cell_type": "markdown",
   "id": "c85ce342-f1c3-4927-b335-1dfdadf33935",
   "metadata": {},
   "source": [
    "# Ch03. Numbers"
   ]
  },
  {
   "cell_type": "markdown",
   "id": "bd251d4d-f73e-4c98-abc4-9b079101e4f4",
   "metadata": {
    "tags": []
   },
   "source": [
    "#### 1. boolean\n",
    "- 형 변환할 때 True, False인지 기억하라 (False값 기억하기)\n",
    "    - '', None, 0 = False\n",
    "- 조건식에서 많이 사용 (ex : 만약 이 조건이 True라면...)"
   ]
  },
  {
   "cell_type": "code",
   "execution_count": 56,
   "id": "fb4cc11f-0fd4-43d1-bcf1-c626e94876a1",
   "metadata": {},
   "outputs": [
    {
     "name": "stdout",
     "output_type": "stream",
     "text": [
      "True True False False False\n"
     ]
    }
   ],
   "source": [
    "print(bool(1), bool(' '), bool(''), bool(None), bool(0))"
   ]
  },
  {
   "cell_type": "markdown",
   "id": "80056bd9-2bed-4f92-8ed3-112e1efb3ed8",
   "metadata": {},
   "source": [
    "#### 2. integer\n",
    "- 소수점 없는 정수\n",
    "- default 양수, 음수는 앞에 -를 붙인다.\n",
    "- 숫자 앞에는 0을 붙일 수 없다. 예: 05\n",
    "    - 예외적으로 0bxxx, => 다른 진수 표현법\n",
    "- 리터럴: 4\n",
    "- 공백이 많아도 무시가 된다.\n",
    "- 10,000원 -> 10, 000원 두 개로 인식 => _사용\n",
    "    - 예: 10_000"
   ]
  },
  {
   "cell_type": "code",
   "execution_count": 59,
   "id": "68b9ef38-7073-4b11-ba23-bcd624eb6e5f",
   "metadata": {},
   "outputs": [
    {
     "name": "stdout",
     "output_type": "stream",
     "text": [
      "-1\n",
      "10000\n"
     ]
    }
   ],
   "source": [
    "a = -9\n",
    "print(8 + a)\n",
    "\n",
    "b = 10_000\n",
    "print(b)"
   ]
  },
  {
   "cell_type": "markdown",
   "id": "9ad22a41-48e3-463f-a585-bde1b765b973",
   "metadata": {},
   "source": [
    "#### 3. 연산\n",
    "- 연산자(operator): +, - ...\n",
    "- 피연산자(operand): 4, 5...\n",
    "- 수식(expression): x + y....\n",
    "    - 거듭제곱(exponential): 4**2\n",
    "- 나눗셈에서 주의할 사항"
   ]
  },
  {
   "cell_type": "code",
   "execution_count": 62,
   "id": "dc9a14b2-f0e8-40bb-996f-6afbdf9d40f4",
   "metadata": {},
   "outputs": [
    {
     "data": {
      "text/plain": [
       "(0.0, 10.7, 0.5404040404040403)"
      ]
     },
     "execution_count": 62,
     "metadata": {},
     "output_type": "execute_result"
    }
   ],
   "source": [
    "#1. dicision by zero => 주의 (y != 0)\n",
    "#2. 몫(//), 나머지(%)\n",
    "x // y, x % y, x / y"
   ]
  },
  {
   "cell_type": "code",
   "execution_count": 80,
   "id": "54a9d3fa-4d1a-4456-bc79-34159cda71b0",
   "metadata": {},
   "outputs": [
    {
     "data": {
      "text/plain": [
       "(9, 2)"
      ]
     },
     "execution_count": 80,
     "metadata": {},
     "output_type": "execute_result"
    }
   ],
   "source": [
    "# divmod(a, b) = (몫, 나머지)\n",
    "num1 = 56\n",
    "num2 = 6\n",
    "divmod(num1, num2)"
   ]
  },
  {
   "cell_type": "markdown",
   "id": "3c85fa8e-9fbb-4034-a272-51618b759221",
   "metadata": {
    "tags": []
   },
   "source": [
    "#### 4. 복합 대입연산자ㅣcompound assignment operator\n",
    "\n",
    "* +=\n",
    "* -=\n",
    "* *=\n",
    "* /="
   ]
  },
  {
   "cell_type": "code",
   "execution_count": 85,
   "id": "05bd0809-7e5a-4f00-80ef-256191ce2c9c",
   "metadata": {},
   "outputs": [
    {
     "name": "stdout",
     "output_type": "stream",
     "text": [
      "17\n"
     ]
    }
   ],
   "source": [
    "a = 20\n",
    "#1. a-3 계산\n",
    "#2. 임시변수 temp = a - 3\n",
    "#3. a -= 3\n",
    "\n",
    "a -= 3\n",
    "print(a)"
   ]
  },
  {
   "cell_type": "code",
   "execution_count": 87,
   "id": "def86656-42c5-4bff-b320-23746e25371d",
   "metadata": {},
   "outputs": [
    {
     "name": "stdout",
     "output_type": "stream",
     "text": [
      "8\n"
     ]
    }
   ],
   "source": [
    "# 주의: 초기값 설정!!\n",
    "u = 7  #초기값 설정\n",
    "u += 1\n",
    "print(u)"
   ]
  },
  {
   "cell_type": "markdown",
   "id": "f0046a63-1af5-4a3f-80fc-703e9cc9d7da",
   "metadata": {},
   "source": [
    "#### Quiz 1.\n",
    "- 정수를 입력 받고 3의 배수인지 확인하세요.\n",
    "- = 홀수인지 확인하세요."
   ]
  },
  {
   "cell_type": "code",
   "execution_count": 55,
   "id": "78520516-5af0-4eb5-875d-ddb4195af434",
   "metadata": {},
   "outputs": [
    {
     "name": "stdin",
     "output_type": "stream",
     "text": [
      "정수를 입력하시오 9\n"
     ]
    },
    {
     "data": {
      "text/plain": [
       "True"
      ]
     },
     "execution_count": 55,
     "metadata": {},
     "output_type": "execute_result"
    }
   ],
   "source": [
    "num = int(input('정수를 입력하시오'))\n",
    "num % 3 == 0"
   ]
  },
  {
   "cell_type": "code",
   "execution_count": 56,
   "id": "7c17cf0d-50c8-4fa4-97a4-b593ecca8907",
   "metadata": {},
   "outputs": [
    {
     "name": "stdin",
     "output_type": "stream",
     "text": [
      "정수를 입력하시오 6\n"
     ]
    },
    {
     "data": {
      "text/plain": [
       "False"
      ]
     },
     "execution_count": 56,
     "metadata": {},
     "output_type": "execute_result"
    }
   ],
   "source": [
    "num2 = int(input('정수를 입력하시오'))\n",
    "num2 % 2 != 0"
   ]
  },
  {
   "cell_type": "markdown",
   "id": "cdc1982e-457f-42ab-93aa-124ff3360ab5",
   "metadata": {},
   "source": [
    "#### 5. 지수 표현\n",
    "- e, E 둘 다 가능\n",
    "- 앞부분은 float, int\n",
    "- 뒷부분은 int만 온다\n",
    "    - 양수면 0 앞으로\n",
    "    - 음수면 0 뒤로(소수점)"
   ]
  },
  {
   "cell_type": "code",
   "execution_count": 99,
   "id": "70a17c46-2abd-45fc-9780-83bbf60f18d3",
   "metadata": {},
   "outputs": [
    {
     "data": {
      "text/plain": [
       "1000000.0"
      ]
     },
     "execution_count": 99,
     "metadata": {},
     "output_type": "execute_result"
    }
   ],
   "source": [
    "1.0e6 #float"
   ]
  },
  {
   "cell_type": "code",
   "execution_count": 100,
   "id": "ff95e8d5-079d-4a60-a03f-ecbfa0753824",
   "metadata": {},
   "outputs": [
    {
     "data": {
      "text/plain": [
       "2000000.0"
      ]
     },
     "execution_count": 100,
     "metadata": {},
     "output_type": "execute_result"
    }
   ],
   "source": [
    "2.0e6"
   ]
  },
  {
   "cell_type": "code",
   "execution_count": 101,
   "id": "64339cb7-678c-46f5-b709-e3c62168dba7",
   "metadata": {},
   "outputs": [
    {
     "data": {
      "text/plain": [
       "230000.0"
      ]
     },
     "execution_count": 101,
     "metadata": {},
     "output_type": "execute_result"
    }
   ],
   "source": [
    "2.3e5"
   ]
  },
  {
   "cell_type": "code",
   "execution_count": 94,
   "id": "f6f895a9-9ce1-4a64-acc0-65988fdcfc31",
   "metadata": {},
   "outputs": [
    {
     "name": "stdout",
     "output_type": "stream",
     "text": [
      "0.000789\n",
      "0.000789\n"
     ]
    }
   ],
   "source": [
    "# 0.000789 => 지수표현\n",
    "print(7.89e-4)\n",
    "print(789e-6)"
   ]
  },
  {
   "cell_type": "markdown",
   "id": "d86153b0-c685-43c0-9f54-b51fe7890458",
   "metadata": {
    "tags": []
   },
   "source": [
    "#### 6. 조건문, if\n",
    "#### <코드 짜는 룰>\n",
    "- 주석 다는 법\n",
    "    - 주석: 설명하는 부분\n",
    "    - 목적: 의도 표현, 의사소통\n",
    "    - 방법: #(hash, sharp,...)\n",
    "    - 시작된 부분부터 그 라인의 끝까지가 주석\n",
    "    - 문자열(str) 안에 들어있는 해시는 문자열로 인식\n",
    "    - 라인 변경하며 주석 달 때: \"\"\"<주석>\"\"\"\n",
    "    \n",
    "- 라인 유지하기\n",
    "    - 들여쓰기, 공백 4개 = 탭 1개\n",
    "    - 한 줄에 최대 80자 넘지 않게\n",
    "    - 만약 넘으면 백슬래시로 끊어준다(\\)"
   ]
  },
  {
   "cell_type": "code",
   "execution_count": 104,
   "id": "66f5cd2e-8526-44a6-933c-036623041c99",
   "metadata": {},
   "outputs": [
    {
     "name": "stdout",
     "output_type": "stream",
     "text": [
      "hey ##\n"
     ]
    },
    {
     "data": {
      "text/plain": [
       "'\\n주석1\\n주석2\\n주석3\\n'"
      ]
     },
     "execution_count": 104,
     "metadata": {},
     "output_type": "execute_result"
    }
   ],
   "source": [
    "example = 'hey ##'\n",
    "print(example)\n",
    "\n",
    "\"\"\"\n",
    "주석1\n",
    "주석2\n",
    "주석3\n",
    "\"\"\""
   ]
  },
  {
   "cell_type": "markdown",
   "id": "6b4b8ed9-1643-4863-8220-d71644b51687",
   "metadata": {},
   "source": [
    "- 조건 1개\n",
    "if <조건식>:\n",
    "    <실행할 코드>\n",
    "\n",
    "- 조건 2개:\n",
    "if <조건식>:\n",
    "    <실행할 코드1>\n",
    "else:\n",
    "    <실행할 코드2>\n",
    "    \n",
    "- 조건 3개 이상\n",
    "if <조건식>:\n",
    "    <실행할 코드1>\n",
    "elif <조건식>:\n",
    "    <실행할 코드2>\n",
    "else:\n",
    "    <실행할 코드3>"
   ]
  },
  {
   "cell_type": "code",
   "execution_count": 68,
   "id": "b4fa7b27-7480-4134-b7b3-8e179cfe8f03",
   "metadata": {},
   "outputs": [
    {
     "name": "stdout",
     "output_type": "stream",
     "text": [
      "Yaay!\n"
     ]
    }
   ],
   "source": [
    "if 4 != 9:\n",
    "    print('Yaay!')"
   ]
  },
  {
   "cell_type": "code",
   "execution_count": 69,
   "id": "1b4f3b06-9602-4cb1-ab5b-c31c7b5fb61d",
   "metadata": {},
   "outputs": [
    {
     "name": "stdout",
     "output_type": "stream",
     "text": [
      "hey!\n"
     ]
    }
   ],
   "source": [
    "if 4 == 9:\n",
    "    print('Yaay!')\n",
    "else:\n",
    "    print('hey!')"
   ]
  },
  {
   "cell_type": "markdown",
   "id": "4a061a3d-7995-454d-ab7b-630c8146fea4",
   "metadata": {
    "tags": []
   },
   "source": [
    "#### 7. 비교연산자\n",
    "- x < y, x <= y\n",
    "- x > y, x >= y\n",
    "- x == y (값)\n",
    "- x != y (값)\n",
    "- x is y (값, 메모리주소 모두 동일)\n",
    "- x is not y"
   ]
  },
  {
   "cell_type": "markdown",
   "id": "65f37e6a-36bf-4520-b77e-b15e494ec485",
   "metadata": {},
   "source": [
    "#### Quiz1.\n",
    "- 학점 부여하기\n",
    "- 학점을 입력 받아서\n",
    "    - 90점 이상이면 A\n",
    "    - 80, B\n",
    "    - 70, C\n",
    "    - 그 외, D\n",
    "- 변수 설정"
   ]
  },
  {
   "cell_type": "code",
   "execution_count": 76,
   "id": "99d789d5-14dd-441b-adcb-a7521ac683af",
   "metadata": {},
   "outputs": [
    {
     "name": "stdin",
     "output_type": "stream",
     "text": [
      "학점을 입력하세요 89\n"
     ]
    },
    {
     "name": "stdout",
     "output_type": "stream",
     "text": [
      "89.0점이므로 B입니다\n"
     ]
    }
   ],
   "source": [
    "# 방법 1\n",
    "score = float(input('학점을 입력하세요'))\n",
    "\n",
    "if score >= 90:\n",
    "    print(f'{score}점이므로 A입니다.')\n",
    "elif score >= 80:\n",
    "    print(f'{score}점이므로 B입니다')\n",
    "elif score >= 70:\n",
    "    print(f'{score}점이므로 C입니다')\n",
    "else:\n",
    "    print(f'{score}점이므로 D입니다.')"
   ]
  },
  {
   "cell_type": "code",
   "execution_count": 125,
   "id": "2bb94df8-c7e5-46e3-a1b1-30decb859050",
   "metadata": {},
   "outputs": [
    {
     "name": "stdin",
     "output_type": "stream",
     "text": [
      "학점을 입력하세요 55\n"
     ]
    },
    {
     "name": "stdout",
     "output_type": "stream",
     "text": [
      "점수가 55.0점이므로 학점은 D입니다.\n"
     ]
    }
   ],
   "source": [
    "# 방법 2 (더 간결한 코딩)\n",
    "score = float(input('학점을 입력하세요'))\n",
    "\n",
    "if score >= 90:\n",
    "    grade = 'A'\n",
    "elif score >= 80:\n",
    "    grade = 'B'\n",
    "elif score >= 70:\n",
    "    grade = 'C'\n",
    "else:\n",
    "    grade = 'D'\n",
    "\n",
    "print(f'점수가 {score}점이므로 학점은 {grade}입니다.')"
   ]
  },
  {
   "cell_type": "markdown",
   "id": "89e0fde7-f5b8-41af-aecf-c8423d68bc7d",
   "metadata": {},
   "source": [
    "#### Quiz2.\n",
    "- 아이디와 비번 입력 받아서 둘 다 일치하면 로그인하기\n",
    "- 아이디, 비번 각자 정해놓기\n",
    "- 일치하지 않을 때에는 창의적으로 어떤 걸로 반환하기"
   ]
  },
  {
   "cell_type": "code",
   "execution_count": 75,
   "id": "a5b1adfb-30c3-486f-b01e-70df9ecd0d20",
   "metadata": {},
   "outputs": [
    {
     "name": "stdin",
     "output_type": "stream",
     "text": [
      "아이디를 입력하세요 abc123\n",
      "비밀번호를 입력하세요 hello python\n"
     ]
    },
    {
     "name": "stdout",
     "output_type": "stream",
     "text": [
      "환영합니다!\n"
     ]
    }
   ],
   "source": [
    "your_id = 'abc123'\n",
    "your_password = 'hello python'\n",
    "\n",
    "put_id = input('아이디를 입력하세요')\n",
    "put_password = input('비밀번호를 입력하세요')\n",
    "\n",
    "if your_id == put_id and your_password == put_password:\n",
    "    print('환영합니다!')\n",
    "else:\n",
    "    print('아이디 혹은 비밀번호가 일치하지 않습니다. 다시 시도하십시오')"
   ]
  },
  {
   "cell_type": "markdown",
   "id": "f3c2d40c-1e4c-4565-a222-224ee21e841c",
   "metadata": {},
   "source": [
    "### 8. 논리연산자\n",
    "- 여러 조건식을 비교할 때\n",
    "- 예: 10 < x < 20\n",
    "    - 파이썬에서만 가능한 표현\n",
    "    - x > 10 혹은 x < 20\n",
    "\n",
    "- and, & : 둘 다 참일 때 True\n",
    "- or, | (shift + 백슬래시) : 둘 중 하나만 참이여도 True\n",
    "- not : 참 -> False, 거짓 -> True"
   ]
  },
  {
   "cell_type": "markdown",
   "id": "4a66d4c6-a091-4962-a163-b5ec478d25a7",
   "metadata": {},
   "source": [
    "#### Quiz 3.\n",
    "- quiz 1 확장판\n",
    "- 결석 횟수를 받아서 점수가 80점 이상인데 결석이 2번 이상이면 F, 나머지는 점수대로\n",
    "    - 논리연산자 사용\n",
    "    - if 구조를 크게 2번 가져갈 수 있다"
   ]
  },
  {
   "cell_type": "code",
   "execution_count": 135,
   "id": "041d85e5-d351-4104-af15-e6b7584e2b88",
   "metadata": {},
   "outputs": [
    {
     "name": "stdin",
     "output_type": "stream",
     "text": [
      "학점을 입력하세요 85\n",
      "결석횟수를 입력하세요 2\n"
     ]
    },
    {
     "name": "stdout",
     "output_type": "stream",
     "text": [
      "학점은 F입니다.\n"
     ]
    }
   ],
   "source": [
    "# 논리연산자 사용 + if 구조 2번 사용\n",
    "# 점수가 80점 이상일 경우에만 결석에 따른 학점 변화 준 것이고 나머지는 결석 관계없이 점수대로 코딩했습니다!\n",
    "\n",
    "score = float(input('학점을 입력하세요'))\n",
    "absence = int(input('결석횟수를 입력하세요'))\n",
    "\n",
    "if score >= 80:\n",
    "    if absence >= 2:\n",
    "        grade = 'F'\n",
    "    elif score >= 90:\n",
    "        grade = 'A'\n",
    "    else:\n",
    "        grade = 'B'\n",
    "elif score >= 70:\n",
    "    grade = 'C'\n",
    "else:\n",
    "    grade = 'D'\n",
    "\n",
    "print(f'학점은 {grade}입니다.')"
   ]
  }
 ],
 "metadata": {
  "kernelspec": {
   "display_name": "Python 3 (ipykernel)",
   "language": "python",
   "name": "python3"
  },
  "language_info": {
   "codemirror_mode": {
    "name": "ipython",
    "version": 3
   },
   "file_extension": ".py",
   "mimetype": "text/x-python",
   "name": "python",
   "nbconvert_exporter": "python",
   "pygments_lexer": "ipython3",
   "version": "3.9.7"
  }
 },
 "nbformat": 4,
 "nbformat_minor": 5
}

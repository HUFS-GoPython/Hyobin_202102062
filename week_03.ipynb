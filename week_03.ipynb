{
 "cells": [
  {
   "cell_type": "markdown",
   "id": "b54dfe39-d15b-44e5-b7f7-81b4a15c547e",
   "metadata": {},
   "source": [
    "## 중첩조건문\n",
    "- if 블록 안에 또 if 블록이 만들어지는 경우\n",
    "       if...\n",
    "           if...\n",
    "              if...\n",
    "              \n",
    "    - 구분은 들여쓰기로 한다.\n",
    "    - 조건이 여러 개일 경우 사용한다.\n",
    "    - 그러나 과도한 중첩 사용은 지양!! 더 간단한 방법 찾아보기!!"
   ]
  },
  {
   "cell_type": "code",
   "execution_count": 1,
   "id": "bb979a86-3927-4f44-a850-b9962b2ea5ef",
   "metadata": {},
   "outputs": [
    {
     "name": "stdout",
     "output_type": "stream",
     "text": [
      "Block B\n"
     ]
    }
   ],
   "source": [
    "x = 0\n",
    "y = 4\n",
    "\n",
    "if x == y:\n",
    "    print('Block A')\n",
    "else:\n",
    "    if x < y:\n",
    "        print('Block B')\n",
    "    else:\n",
    "        print('Block C')"
   ]
  },
  {
   "cell_type": "markdown",
   "id": "35586c8d-f105-446e-a088-a1aebe9557ff",
   "metadata": {},
   "source": [
    "# 중첩 없이 더 간단하게!\n",
    "if x == y:\n",
    "    print('a')\n",
    "elif x < y:\n",
    "    print('b')\n",
    "else:\n",
    "    print('c')"
   ]
  },
  {
   "cell_type": "code",
   "execution_count": null,
   "id": "09689dca-2860-40d9-a084-96bc01b37f0d",
   "metadata": {},
   "outputs": [],
   "source": [
    "# 0 < x < 10\n",
    "if x > 0:\n",
    "    print('A')\n",
    "    if x < 10:\n",
    "        print('B')\n",
    "    else:\n",
    "        print('C')\n",
    "else:\n",
    "    print('D')"
   ]
  },
  {
   "cell_type": "code",
   "execution_count": null,
   "id": "884432c0-340c-4b2e-8239-250d9e27a74a",
   "metadata": {},
   "outputs": [],
   "source": [
    "# 방법1: 논리연산자 사용\n",
    "if x > 0 and x < 10:\n",
    "    #A\n",
    "else:\n",
    "    #B\n",
    "    \n",
    "# 방법 2: 파이썬만 사용 가능\n",
    "if 0 < x < 10:\n",
    "    # block A\n",
    "else:\n",
    "    # block A"
   ]
  },
  {
   "cell_type": "markdown",
   "id": "8bb51ae3-14a2-4e35-861d-43d7a55535a2",
   "metadata": {},
   "source": [
    "### 논리연산자\n",
    "- 비교연산 조건을 여러 번 사용하는 경우\n",
    "    - x > 0, x < 10\n",
    "- and, or, not\n",
    "    - A and B: \n",
    "        - A 그리고 B\n",
    "        - A, B 둘 다 참일 때 True (&)\n",
    "    - A or B:\n",
    "        - A 혹은 B\n",
    "        - 둘 중 하나만 참이면 True (|)\n",
    "    - not A:\n",
    "        - A가 참이면 False, 거짓이면 True (~)"
   ]
  },
  {
   "cell_type": "markdown",
   "id": "7d185529-f9f1-4f4e-af41-c97258abea57",
   "metadata": {},
   "source": [
    "### True/False\n",
    "- A = True\n",
    "- \"만약 A가 참이면, ...\""
   ]
  },
  {
   "cell_type": "markdown",
   "id": "ef3e1a85-f1e7-4530-acfd-321f41dadcf7",
   "metadata": {},
   "source": [
    "#### 주의!!!!\n",
    "\n",
    "##틀린 경우\n",
    "if a == True:\n",
    "    print()\n",
    "##맞는 경우\n",
    "if a:\n",
    "    print()"
   ]
  },
  {
   "cell_type": "markdown",
   "id": "6b2dea16-2976-4dae-9f57-908b054e4cd0",
   "metadata": {},
   "source": [
    "### in\n",
    "- membership operator\n",
    "- 요소가 안에 포함되어 있는가 or 비슷한 조건문이 여럿일 때\n",
    "- A in B = A가 B에 포함되어 있냐"
   ]
  },
  {
   "cell_type": "code",
   "execution_count": 2,
   "id": "120d500a-7544-4c53-abd2-840b9268d701",
   "metadata": {},
   "outputs": [
    {
     "name": "stdout",
     "output_type": "stream",
     "text": [
      "자음\n"
     ]
    }
   ],
   "source": [
    "# ex. 모음인지 아닌지 판단 (a, e, i, o, u)\n",
    "letter = 'k'\n",
    "## if letter == 'a' or letter == 'e', ......\n",
    "if letter in ['a','e','i', 'o', 'u']:\n",
    "    print('모음')\n",
    "else:\n",
    "    print('자음')"
   ]
  },
  {
   "cell_type": "code",
   "execution_count": 4,
   "id": "83e3e115-5b67-4619-be8b-a55b4a541fc2",
   "metadata": {},
   "outputs": [
    {
     "name": "stdout",
     "output_type": "stream",
     "text": [
      "yes\n"
     ]
    }
   ],
   "source": [
    "# 단어에 모음이 있냐 없냐\n",
    "word = 'apple'\n",
    "\n",
    "if 'a' or 'e' or 'i' or 'o' or 'u' in word:\n",
    "    print('yes')"
   ]
  },
  {
   "cell_type": "markdown",
   "id": "8db08e3c-211c-4e81-a7f7-24af8d33bbde",
   "metadata": {},
   "source": [
    "### 코끼리 연산자\n",
    "- walrus operator\n",
    "- :=\n",
    "- 할당 + 테스트 동시에 하는 기능"
   ]
  },
  {
   "cell_type": "code",
   "execution_count": 8,
   "id": "4ab10c08-8191-406a-982c-03da2786cc8f",
   "metadata": {},
   "outputs": [
    {
     "data": {
      "text/plain": [
       "200"
      ]
     },
     "execution_count": 8,
     "metadata": {},
     "output_type": "execute_result"
    }
   ],
   "source": [
    "tweet_limit = 200\n",
    "tweet_string = 'blah' * 50\n",
    "len(tweet_string)"
   ]
  },
  {
   "cell_type": "code",
   "execution_count": 10,
   "id": "8a612548-fcdc-4221-a63f-8f7dca2a2fed",
   "metadata": {},
   "outputs": [
    {
     "name": "stdout",
     "output_type": "stream",
     "text": [
      "불가능하다\n"
     ]
    }
   ],
   "source": [
    "diff = tweet_limit - len(tweet_string)\n",
    "if diff > 0:\n",
    "    print('가능하다')\n",
    "else:\n",
    "    print('불가능하다')"
   ]
  },
  {
   "cell_type": "code",
   "execution_count": 11,
   "id": "360743b1-38e1-4980-8f0b-1c6da35afe13",
   "metadata": {},
   "outputs": [
    {
     "name": "stdout",
     "output_type": "stream",
     "text": [
      "no\n"
     ]
    }
   ],
   "source": [
    "# 코끼리 연산자!! => 할당과 테스트 동시에\n",
    "if diff := tweet_limit - len(tweet_string) > 0:\n",
    "    print('yes')\n",
    "else:\n",
    "    print('no')"
   ]
  },
  {
   "cell_type": "markdown",
   "id": "cb9d3d52-9a25-4106-bc44-55bf8ee8b2b7",
   "metadata": {},
   "source": [
    "### 퀴즈 1\n",
    "- 윤년을 구해봅시다.\n",
    "    - 연도 입력받는다.\n",
    "    - 4로 나눠지면 윤년\n",
    "    - 100으로 나눠지면 안 된다\n",
    "    - 400으로 나눠지면 윤년\n",
    "- 출력: '{}년 윤년입니다/윤년이 아닙니다'"
   ]
  },
  {
   "cell_type": "code",
   "execution_count": 19,
   "id": "94d5c823-e48d-4a20-ac15-78267f1109ef",
   "metadata": {},
   "outputs": [
    {
     "name": "stdin",
     "output_type": "stream",
     "text": [
      "연도를 입력하시오:  2022\n"
     ]
    },
    {
     "name": "stdout",
     "output_type": "stream",
     "text": [
      "2022년은 윤년이 아닙니다.\n"
     ]
    }
   ],
   "source": [
    "year = int(input('연도를 입력하시오: '))\n",
    "\n",
    "if (year%4 == 0 and year%100 != 0) or (year%400 == 0):\n",
    "    print(f'{year}은 윤년입니다.')\n",
    "else:\n",
    "    print(f'{year}년은 윤년이 아닙니다.')"
   ]
  },
  {
   "cell_type": "markdown",
   "id": "afbd412e-47ba-406b-8d46-d589c9e82369",
   "metadata": {},
   "source": [
    "## String | 문자열\n",
    "- 시스템에서 가장 작은 단위\n",
    "- 불변적인 성격을 가진다. immutable\n",
    "    - 예: jack -> jeck\n",
    "- ', \"으로 선언한다.\n",
    "    - 예: \"25.5\"\n",
    "    - ''', \"\"\"은 주석이다\n",
    "- 형변환은 str()\n",
    "\n",
    "### escape character | 이스케이프 문자\n",
    "- 특수한 형태의 문자열. 눈에 보이는 대로 인식되지 않는 문자, 그 기능을 살릴 수 있음\n",
    "- \\ + ch\n",
    "- 예: \\n, \\t, \\b, \\', \\\",....\n",
    "    - \\n을 출력하고 싶을 때? => \\ 하나 더 추가!!\n",
    "    - 또는 r'출력문장'\n",
    "- 다른 스트링을 만드는 것이 아님. 출력의 문제"
   ]
  },
  {
   "cell_type": "code",
   "execution_count": 28,
   "id": "61eeba7f-da19-4fd7-9360-58d8e49a1fe8",
   "metadata": {},
   "outputs": [
    {
     "name": "stdout",
     "output_type": "stream",
     "text": [
      "hello\n",
      "world\n"
     ]
    }
   ],
   "source": [
    "sent = \"hello\\nworld\"\n",
    "sent\n",
    "print(sent)"
   ]
  },
  {
   "cell_type": "code",
   "execution_count": 27,
   "id": "6dd1ad7f-a005-4acd-95c6-480104326fca",
   "metadata": {},
   "outputs": [
    {
     "name": "stdout",
     "output_type": "stream",
     "text": [
      "hello\\npython\n"
     ]
    }
   ],
   "source": [
    "sent2 = r'hello\\npython'\n",
    "print(sent2)"
   ]
  },
  {
   "cell_type": "markdown",
   "id": "7f3ca362-4011-4166-b856-9b0b9888313e",
   "metadata": {},
   "source": [
    "### 연산\n",
    "- concatenatation\n",
    "    - '' + '' => 공백 없이 결합하는 방법\n",
    "- 곱하기\n",
    "    - '' * 5 => 복제\n",
    "- 즉 연산을 통해 문자도 반복 가능!!"
   ]
  },
  {
   "cell_type": "code",
   "execution_count": 29,
   "id": "65f42866-999b-4e1d-9388-4732accf5aca",
   "metadata": {},
   "outputs": [
    {
     "data": {
      "text/plain": [
       "'jackjack'"
      ]
     },
     "execution_count": 29,
     "metadata": {},
     "output_type": "execute_result"
    }
   ],
   "source": [
    "name = 'jack'\n",
    "name + name"
   ]
  },
  {
   "cell_type": "code",
   "execution_count": 30,
   "id": "c6aa6073-e805-4fcd-abf6-d549e7bb2fb8",
   "metadata": {},
   "outputs": [
    {
     "data": {
      "text/plain": [
       "'jackjackjackjack'"
      ]
     },
     "execution_count": 30,
     "metadata": {},
     "output_type": "execute_result"
    }
   ],
   "source": [
    "name * 4"
   ]
  },
  {
   "cell_type": "code",
   "execution_count": 32,
   "id": "a65b1049-81b2-45ff-8d43-7e5d097f011c",
   "metadata": {},
   "outputs": [],
   "source": [
    "# immutable(불변적인 성격)\n",
    "# name[1] = 'e' => error"
   ]
  },
  {
   "cell_type": "markdown",
   "id": "d9570805-0b9c-455e-9250-34bb99aaac36",
   "metadata": {},
   "source": [
    "### 슬라이싱 추출\n",
    "- 문자열의 일부분을 떼어내는 작업\n",
    "- 대괄호 사용, 그 안에 오프셋을 지정\n",
    "- 오프셋은 0부터 시작\n",
    "    - 0123\n",
    "    - jack\n",
    "    -    -1(k)\n",
    "- 오프셋은 음수도 가능(-1부터 뒤부터 시작)\n",
    "- 오프셋은 [시작:끝:스텝] # step의 디폴트값 = 1\n",
    "- 주의!!!! 시작은 포함, 끝은 포함하지 않음(이상 - 미만)"
   ]
  },
  {
   "cell_type": "code",
   "execution_count": 34,
   "id": "4089e4cc-a905-43e2-b316-4566e174942d",
   "metadata": {},
   "outputs": [
    {
     "data": {
      "text/plain": [
       "'k'"
      ]
     },
     "execution_count": 34,
     "metadata": {},
     "output_type": "execute_result"
    }
   ],
   "source": [
    "name = 'jack'\n",
    "name[-1]"
   ]
  },
  {
   "cell_type": "code",
   "execution_count": 37,
   "id": "1b9c3251-ecea-4736-a7c3-ad227f8e1572",
   "metadata": {},
   "outputs": [
    {
     "data": {
      "text/plain": [
       "'hello\\nworld'"
      ]
     },
     "execution_count": 37,
     "metadata": {},
     "output_type": "execute_result"
    }
   ],
   "source": [
    "sent"
   ]
  },
  {
   "cell_type": "code",
   "execution_count": 38,
   "id": "caa3540d-fc5a-4cc7-9cbf-9e89ee555971",
   "metadata": {},
   "outputs": [
    {
     "data": {
      "text/plain": [
       "'l'"
      ]
     },
     "execution_count": 38,
     "metadata": {},
     "output_type": "execute_result"
    }
   ],
   "source": [
    "sent[3:4]"
   ]
  },
  {
   "cell_type": "code",
   "execution_count": 40,
   "id": "0bc5aa76-5484-4ec2-ace4-b48b24ef56eb",
   "metadata": {},
   "outputs": [
    {
     "data": {
      "text/plain": [
       "'hello\\n'"
      ]
     },
     "execution_count": 40,
     "metadata": {},
     "output_type": "execute_result"
    }
   ],
   "source": [
    "# 처음부터 5까지 출력\n",
    "sent[:6]"
   ]
  },
  {
   "cell_type": "code",
   "execution_count": 41,
   "id": "a41b4233-bb6d-420e-a151-5a7ed89562aa",
   "metadata": {},
   "outputs": [
    {
     "data": {
      "text/plain": [
       "'hlowrd'"
      ]
     },
     "execution_count": 41,
     "metadata": {},
     "output_type": "execute_result"
    }
   ],
   "source": [
    "# 처음부터 끝까지 2스텝씩\n",
    "sent[::2]"
   ]
  },
  {
   "cell_type": "code",
   "execution_count": 45,
   "id": "55d91aae-e45d-4e60-8fe6-76e414f480e5",
   "metadata": {
    "tags": []
   },
   "outputs": [
    {
     "data": {
      "text/plain": [
       "'dlrow\\nolleh'"
      ]
     },
     "execution_count": 45,
     "metadata": {},
     "output_type": "execute_result"
    }
   ],
   "source": [
    "# 모든 글자를 거꾸로 출력\n",
    "sent[::-1]"
   ]
  },
  {
   "cell_type": "markdown",
   "id": "16fd4d73-8b8a-485b-9cd1-7ab53ef74dd8",
   "metadata": {},
   "source": [
    "### NLTK"
   ]
  },
  {
   "cell_type": "markdown",
   "id": "d614c8b4-7bc2-45f6-950a-a6e4fab548c3",
   "metadata": {},
   "source": [
    "- natural language toolkit\n",
    "- 자연어 분석을 위해 교육용으로 배포된 패키지\n",
    "- 내장함수, 기능들이 추가됨\n",
    "    - 토크나이즈, 파싱, 태깅, ..."
   ]
  },
  {
   "cell_type": "code",
   "execution_count": 47,
   "id": "b25b783d-1ff5-4ddb-81e0-b49fca0ce9d8",
   "metadata": {},
   "outputs": [
    {
     "name": "stdout",
     "output_type": "stream",
     "text": [
      "Requirement already satisfied: nltk in c:\\users\\hyobi\\anaconda3\\lib\\site-packages (3.6.5)\n",
      "Requirement already satisfied: click in c:\\users\\hyobi\\anaconda3\\lib\\site-packages (from nltk) (8.0.3)\n",
      "Requirement already satisfied: joblib in c:\\users\\hyobi\\anaconda3\\lib\\site-packages (from nltk) (1.1.0)\n",
      "Requirement already satisfied: regex>=2021.8.3 in c:\\users\\hyobi\\anaconda3\\lib\\site-packages (from nltk) (2021.8.3)\n",
      "Requirement already satisfied: tqdm in c:\\users\\hyobi\\anaconda3\\lib\\site-packages (from nltk) (4.62.3)\n",
      "Requirement already satisfied: colorama in c:\\users\\hyobi\\anaconda3\\lib\\site-packages (from click->nltk) (0.4.4)\n"
     ]
    }
   ],
   "source": [
    "# !pip install nltk"
   ]
  },
  {
   "cell_type": "code",
   "execution_count": 49,
   "id": "6ba854d6-de65-4718-80c8-6c0520e2209d",
   "metadata": {},
   "outputs": [
    {
     "data": {
      "text/plain": [
       "True"
      ]
     },
     "execution_count": 49,
     "metadata": {},
     "output_type": "execute_result"
    }
   ],
   "source": [
    "import nltk # 가져오기\n",
    "nltk.download('book', quiet=True) # nltk를 부분적으로 다운받기"
   ]
  },
  {
   "cell_type": "code",
   "execution_count": 3,
   "id": "a272a940-39e3-47a9-aeaa-ce150e596d7f",
   "metadata": {},
   "outputs": [
    {
     "name": "stdout",
     "output_type": "stream",
     "text": [
      "*** Introductory Examples for the NLTK Book ***\n",
      "Loading text1, ..., text9 and sent1, ..., sent9\n",
      "Type the name of the text or sentence to view it.\n",
      "Type: 'texts()' or 'sents()' to list the materials.\n",
      "text1: Moby Dick by Herman Melville 1851\n",
      "text2: Sense and Sensibility by Jane Austen 1811\n",
      "text3: The Book of Genesis\n",
      "text4: Inaugural Address Corpus\n",
      "text5: Chat Corpus\n",
      "text6: Monty Python and the Holy Grail\n",
      "text7: Wall Street Journal\n",
      "text8: Personals Corpus\n",
      "text9: The Man Who Was Thursday by G . K . Chesterton 1908\n"
     ]
    }
   ],
   "source": [
    "from nltk import book # 가져오기"
   ]
  },
  {
   "cell_type": "code",
   "execution_count": 51,
   "id": "644ef226-d045-4524-a7b7-0a8104896696",
   "metadata": {},
   "outputs": [
    {
     "data": {
      "text/plain": [
       "['[',\n",
       " 'Moby',\n",
       " 'Dick',\n",
       " 'by',\n",
       " 'Herman',\n",
       " 'Melville',\n",
       " '1851',\n",
       " ']',\n",
       " 'ETYMOLOGY',\n",
       " '.']"
      ]
     },
     "execution_count": 51,
     "metadata": {},
     "output_type": "execute_result"
    }
   ],
   "source": [
    "moby = book.text1\n",
    "moby.tokens[:10] # 토큰에 접근하는 방법\n",
    "# 토큰: 프로그래밍의 단어 단위 hello world, I'm not a coward.\n",
    "    # I'm / I, 'm / I, am"
   ]
  },
  {
   "cell_type": "code",
   "execution_count": 54,
   "id": "27a6240b-a375-43f4-93be-779b9fe37665",
   "metadata": {},
   "outputs": [
    {
     "data": {
      "text/plain": [
       "260819"
      ]
     },
     "execution_count": 54,
     "metadata": {},
     "output_type": "execute_result"
    }
   ],
   "source": [
    "# 1. 길이 세기\n",
    "len(moby) # 26만자"
   ]
  },
  {
   "cell_type": "code",
   "execution_count": 55,
   "id": "91b2ece0-135d-46a2-81bb-db8a487fd8d8",
   "metadata": {},
   "outputs": [
    {
     "data": {
      "text/plain": [
       "19317"
      ]
     },
     "execution_count": 55,
     "metadata": {},
     "output_type": "execute_result"
    }
   ],
   "source": [
    "#2. 중복 없이 단어 몇 개?\n",
    "len(set(moby)) #1.9만 자 list -> set"
   ]
  },
  {
   "cell_type": "markdown",
   "id": "965d0642-6f73-43c5-9de5-204f5f8cbaa7",
   "metadata": {},
   "source": [
    "- list\n",
    "    - ['a', a, True] => 대괄호\n",
    "    - 순서가 있고\n",
    "    - 중복이 허용된다\n",
    "    - list()\n",
    "- set\n",
    "    - {'a', 2. True} => 중괄호\n",
    "    - 순서 없고\n",
    "    - 중복 허용 안 됨\n",
    "    - set()\n",
    "    - 수학의 집합 개념"
   ]
  },
  {
   "cell_type": "code",
   "execution_count": 5,
   "id": "e42ee56a-90be-4b2e-86f6-856413079357",
   "metadata": {},
   "outputs": [
    {
     "data": {
      "text/plain": [
       "['kia', 'hyundai', 'kia', 'benz']"
      ]
     },
     "execution_count": 5,
     "metadata": {},
     "output_type": "execute_result"
    }
   ],
   "source": [
    "cars = ['kia', 'hyundai', 'kia', 'benz']\n",
    "cars"
   ]
  },
  {
   "cell_type": "code",
   "execution_count": 58,
   "id": "d3f79d33-8ae9-457e-9a9b-9e226b3db27c",
   "metadata": {},
   "outputs": [
    {
     "data": {
      "text/plain": [
       "{'benz', 'hyundai', 'kia'}"
      ]
     },
     "execution_count": 58,
     "metadata": {},
     "output_type": "execute_result"
    }
   ],
   "source": [
    "set(cars)"
   ]
  },
  {
   "cell_type": "code",
   "execution_count": 59,
   "id": "eeaed39a-bfa2-4b49-9f91-a9d58e952b25",
   "metadata": {},
   "outputs": [
    {
     "data": {
      "text/plain": [
       "0.07406285585022564"
      ]
     },
     "execution_count": 59,
     "metadata": {},
     "output_type": "execute_result"
    }
   ],
   "source": [
    "# lexical diversity\n",
    "len(set(moby)) / len(moby)"
   ]
  },
  {
   "cell_type": "code",
   "execution_count": 61,
   "id": "f418ca26-a893-40f1-8d49-e1ee7d4cc529",
   "metadata": {},
   "outputs": [
    {
     "data": {
      "text/plain": [
       "['benz', 'hyundai', 'kia', 'kia']"
      ]
     },
     "execution_count": 61,
     "metadata": {},
     "output_type": "execute_result"
    }
   ],
   "source": [
    "# 정렬 (알파벳순)\n",
    "sorted(cars)"
   ]
  },
  {
   "cell_type": "code",
   "execution_count": 7,
   "id": "b6291409-b7d2-4d97-8f81-2964bd34bc56",
   "metadata": {},
   "outputs": [
    {
     "data": {
      "text/plain": [
       "['kia', 'kia', 'hyundai', 'benz']"
      ]
     },
     "execution_count": 7,
     "metadata": {},
     "output_type": "execute_result"
    }
   ],
   "source": [
    "# reverse = True (반대로 정렬)\n",
    "sorted(cars, reverse = True)"
   ]
  },
  {
   "cell_type": "code",
   "execution_count": 65,
   "id": "efab5a90-ba11-4fed-96f5-7fc074843a54",
   "metadata": {},
   "outputs": [
    {
     "data": {
      "text/plain": [
       "['.',\n",
       " '1851',\n",
       " 'Dick',\n",
       " 'ETYMOLOGY',\n",
       " 'Herman',\n",
       " 'Melville',\n",
       " 'Moby',\n",
       " '[',\n",
       " ']',\n",
       " 'by']"
      ]
     },
     "execution_count": 65,
     "metadata": {},
     "output_type": "execute_result"
    }
   ],
   "source": [
    "sorted(moby[:10])"
   ]
  },
  {
   "cell_type": "markdown",
   "id": "f5b9cca0-0226-46c5-829f-8846f22960f1",
   "metadata": {
    "tags": []
   },
   "source": [
    "### Quiz 1\n",
    "- text6 가져와서 토큰을 변수에 담고\n",
    "- 중복 없는 셋으로 저장하고 내림차순\n",
    "    - 앞에서 10개 단어 출력\n",
    "    - 단어에 z가 있으면 대문자로 바꾸시오\n",
    "    - z가 없는데 길이가 4개 이상이면 끝 글자를 대문자로 바꿔라\n",
    "\n",
    "### Quiz 2\n",
    "- 주민번호, 휴대폰 번호, 이메일 주소 입력 받는다.\n",
    "- 주민번호, 휴대폰 번호는 숫자만 입력받는다 (-없이)\n",
    "- 이메일주소는 아이디만 입력받는다. (@ 없이)\n",
    "    - 1. \"당신은 {}년 {}월 {}일 출생의 {남성/여성}입니다.\"\n",
    "    - 2. 휴대폰 번호: 하이픈으로 연결\n",
    "    - 3. 이메일 주소: XXXX@gmail.com\n",
    "\n",
    "(주민번호 7번째 자리 홀수 = 남자, 짝수 = 여자)"
   ]
  },
  {
   "cell_type": "code",
   "execution_count": 32,
   "id": "c66a2ebd-90ee-41af-8a5a-56595a1dcc56",
   "metadata": {},
   "outputs": [
    {
     "name": "stdout",
     "output_type": "stream",
     "text": [
      "['Zoosh', 'Zoop', 'Zoo', 'Zone', 'Zhiv', 'yourselF', 'yourS', 'youR', 'younG', 'you']\n"
     ]
    }
   ],
   "source": [
    "#QUIZ 1\n",
    "\n",
    "moby = book.text6\n",
    "sentence = moby.tokens[:10]\n",
    "sentence = sorted(set(book.text6), reverse = True)\n",
    "words = sentence[:10]\n",
    "\n",
    "for i in range(0, 10):\n",
    "        word = words[i]\n",
    "        \n",
    "        if 'z' in word:\n",
    "            words[i] = word.replace('z', 'Z')\n",
    "        elif len(word) >= 4:\n",
    "            words[i] = word.replace(word[-1], word[-1].upper())\n",
    "\n",
    "print(words)"
   ]
  },
  {
   "cell_type": "code",
   "execution_count": 17,
   "id": "9d5c2c40-eedf-4510-985a-43f470e2243c",
   "metadata": {},
   "outputs": [
    {
     "name": "stdin",
     "output_type": "stream",
     "text": [
      "주민번호를 입력하시오:  0103262345678\n",
      "휴대폰 번호를 입력하시오:  01012345678\n",
      "이메일 주소를 입력하시오:  hello\n"
     ]
    },
    {
     "name": "stdout",
     "output_type": "stream",
     "text": [
      "당신은 01년 03월 26일 출생의 여성입니다.\n",
      "당신의 휴대폰 번호는 010-1234-5678입니다.\n",
      "당신의 이메일 주소는 hello@gmail.com입니다.\n"
     ]
    }
   ],
   "source": [
    "# QUIZ 2\n",
    "resident_num = input('주민번호를 입력하시오: ')\n",
    "phone_num = input('휴대폰 번호를 입력하시오: ')\n",
    "email_address = input('이메일 주소를 입력하시오: ')\n",
    "\n",
    "gender = ''\n",
    "if int(resident_num[6]) % 2 == 0:\n",
    "    gender = '여성'\n",
    "else: gender = '남성'\n",
    "\n",
    "print(f'당신은 {resident_num[:2]}년 {resident_num[2:4]}월 {resident_num[4:6]}일 출생의 {gender}입니다.')\n",
    "print(f'당신의 휴대폰 번호는 {phone_num[0:3]}-{phone_num[3:7]}-{phone_num[7:11]}입니다.')\n",
    "print(f'당신의 이메일 주소는 {email_address}@gmail.com입니다.')"
   ]
  }
 ],
 "metadata": {
  "kernelspec": {
   "display_name": "Python 3 (ipykernel)",
   "language": "python",
   "name": "python3"
  },
  "language_info": {
   "codemirror_mode": {
    "name": "ipython",
    "version": 3
   },
   "file_extension": ".py",
   "mimetype": "text/x-python",
   "name": "python",
   "nbconvert_exporter": "python",
   "pygments_lexer": "ipython3",
   "version": "3.9.7"
  }
 },
 "nbformat": 4,
 "nbformat_minor": 5
}

{
 "cells": [
  {
   "cell_type": "markdown",
   "id": "84ab188a-a864-4574-b065-8fbff6af58e4",
   "metadata": {},
   "source": [
    "## String with NLTK"
   ]
  },
  {
   "cell_type": "code",
   "execution_count": 9,
   "id": "994e73d2-33a4-438d-85c8-07cc8c5d4e39",
   "metadata": {
    "collapsed": true,
    "jupyter": {
     "outputs_hidden": true
    },
    "tags": []
   },
   "outputs": [
    {
     "name": "stdout",
     "output_type": "stream",
     "text": [
      "*** Introductory Examples for the NLTK Book ***\n",
      "Loading text1, ..., text9 and sent1, ..., sent9\n",
      "Type the name of the text or sentence to view it.\n",
      "Type: 'texts()' or 'sents()' to list the materials.\n",
      "text1: Moby Dick by Herman Melville 1851\n",
      "text2: Sense and Sensibility by Jane Austen 1811\n",
      "text3: The Book of Genesis\n",
      "text4: Inaugural Address Corpus\n",
      "text5: Chat Corpus\n",
      "text6: Monty Python and the Holy Grail\n",
      "text7: Wall Street Journal\n",
      "text8: Personals Corpus\n",
      "text9: The Man Who Was Thursday by G . K . Chesterton 1908\n"
     ]
    },
    {
     "data": {
      "text/plain": [
       "True"
      ]
     },
     "execution_count": 9,
     "metadata": {},
     "output_type": "execute_result"
    }
   ],
   "source": [
    "import nltk\n",
    "from nltk.book import *\n",
    "nltk.download('book', quiet=True)"
   ]
  },
  {
   "cell_type": "markdown",
   "id": "5014d524-492c-4dc0-966c-a10cedc7e1b1",
   "metadata": {},
   "source": [
    "#### 내장함수 1\n",
    "- string1.method(string2)\n",
    "- list.method(string)\n",
    "\n",
    "- list.count(string): string이 나타나는 개수\n",
    "- replace('A', 'B'): A -> B 변경\n",
    "- strip(): 공백 등을 제거하는 기능\n",
    "    - lstrip(), rstrip()\n",
    "- find(string): 오프셋(위치)을 반환\n",
    "    - lfind(), rfind()\n",
    "    - 공백 포함\n",
    "    - 1번째 값의 인덱스\n",
    "    - 만족하는 값이 없는 경우 -1 반환\n",
    "- index(string): 오프셋(위치)을 반환\n",
    "    - 만족하는 값이 없는 경우 error\n",
    "    - 나머지는 find랑 유사"
   ]
  },
  {
   "cell_type": "code",
   "execution_count": 22,
   "id": "6ca9acd1-de1d-45af-9e8b-c8c3196b9ff8",
   "metadata": {},
   "outputs": [
    {
     "data": {
      "text/plain": [
       "4569"
      ]
     },
     "execution_count": 22,
     "metadata": {},
     "output_type": "execute_result"
    }
   ],
   "source": [
    "text1.count('a')"
   ]
  },
  {
   "cell_type": "code",
   "execution_count": 23,
   "id": "0a1b8cd7-846a-4513-87de-b1908f33b9de",
   "metadata": {},
   "outputs": [
    {
     "data": {
      "text/plain": [
       "'Word'"
      ]
     },
     "execution_count": 23,
     "metadata": {},
     "output_type": "execute_result"
    }
   ],
   "source": [
    "'word'.replace('w', 'W')"
   ]
  },
  {
   "cell_type": "code",
   "execution_count": 2,
   "id": "c818ef42-3641-4b4f-b1e4-14793973d05d",
   "metadata": {},
   "outputs": [
    {
     "name": "stdout",
     "output_type": "stream",
     "text": [
      "word\n",
      "word\n"
     ]
    }
   ],
   "source": [
    "print('   \\t   word'.strip())\n",
    "print('    \\t   word'.lstrip())"
   ]
  },
  {
   "cell_type": "code",
   "execution_count": 3,
   "id": "7ad53109-b861-4dd0-9b52-2963ee841fbb",
   "metadata": {},
   "outputs": [
    {
     "data": {
      "text/plain": [
       "'chorD'"
      ]
     },
     "execution_count": 3,
     "metadata": {},
     "output_type": "execute_result"
    }
   ],
   "source": [
    "word = '   \\t    word'\n",
    "word = word.replace('w', 'ch').strip().replace('d', 'D') #연속해서 사용 가능\n",
    "word"
   ]
  },
  {
   "cell_type": "code",
   "execution_count": 5,
   "id": "8498ef82-8d86-4d02-977f-a6a4b7ce765f",
   "metadata": {},
   "outputs": [
    {
     "data": {
      "text/plain": [
       "15"
      ]
     },
     "execution_count": 5,
     "metadata": {},
     "output_type": "execute_result"
    }
   ],
   "source": [
    "word2 = '   \\t    wordwwww'\n",
    "word2.rfind('w')\n",
    "# 15이 나오는 이유? => \\t은 하나로 치는 건지?"
   ]
  },
  {
   "cell_type": "code",
   "execution_count": 6,
   "id": "81ee9129-a6f0-4ff1-ad30-722586e3be5a",
   "metadata": {},
   "outputs": [
    {
     "data": {
      "text/plain": [
       "8"
      ]
     },
     "execution_count": 6,
     "metadata": {},
     "output_type": "execute_result"
    }
   ],
   "source": [
    "word2.index('w')"
   ]
  },
  {
   "cell_type": "markdown",
   "id": "c76d572c-0ffa-4258-bbe3-323fd1944c99",
   "metadata": {
    "tags": []
   },
   "source": [
    "### NLTK 내장 함수\n",
    "- list.mothod(var)\n",
    "- 자연어 처리와 관련된 함수들\n",
    "\n",
    "- concordance(): 주어진 string의 앞뒤 문맥을 알 수 있음\n",
    "- similar(): 문맥이 비슷한 단어들\n",
    "- common_contexts(): 주어진 스트링이 어떤 문맥을 공유하는지\n",
    "- dispersion_plot(): 주어진 스트링이 텍스트에서 출현하는 위치를 이미지로 보여줌"
   ]
  },
  {
   "cell_type": "code",
   "execution_count": 40,
   "id": "982202f0-73d3-46ca-8083-52a11951e1d3",
   "metadata": {},
   "outputs": [
    {
     "name": "stdout",
     "output_type": "stream",
     "text": [
      "Displaying 25 of 1226 matches:\n",
      "s , and to teach them by what name a whale - fish is to be called in our tongue\n",
      "t which is not true .\" -- HACKLUYT \" WHALE . ... Sw . and Dan . HVAL . This ani\n",
      "ulted .\" -- WEBSTER ' S DICTIONARY \" WHALE . ... It is more immediately from th\n",
      "ISH . WAL , DUTCH . HWAL , SWEDISH . WHALE , ICELANDIC . WHALE , ENGLISH . BALE\n",
      "HWAL , SWEDISH . WHALE , ICELANDIC . WHALE , ENGLISH . BALEINE , FRENCH . BALLE\n",
      "least , take the higgledy - piggledy whale statements , however authentic , in \n",
      " dreadful gulf of this monster ' s ( whale ' s ) mouth , are immediately lost a\n",
      " patient Job .\" -- RABELAIS . \" This whale ' s liver was two cartloads .\" -- ST\n",
      " Touching that monstrous bulk of the whale or ork we have received nothing cert\n",
      " of oil will be extracted out of one whale .\" -- IBID . \" HISTORY OF LIFE AND D\n",
      "ise .\" -- KING HENRY . \" Very like a whale .\" -- HAMLET . \" Which to secure , n\n",
      "restless paine , Like as the wounded whale to shore flies thro ' the maine .\" -\n",
      ". OF SPERMA CETI AND THE SPERMA CETI WHALE . VIDE HIS V . E . \" Like Spencer ' \n",
      "t had been a sprat in the mouth of a whale .\" -- PILGRIM ' S PROGRESS . \" That \n",
      "EN ' S ANNUS MIRABILIS . \" While the whale is floating at the stern of the ship\n",
      "e ship called The Jonas - in - the - Whale . ... Some say the whale can ' t ope\n",
      " in - the - Whale . ... Some say the whale can ' t open his mouth , but that is\n",
      " masts to see whether they can see a whale , for the first discoverer has a duc\n",
      " for his pains . ... I was told of a whale taken near Shetland , that had above\n",
      "oneers told me that he caught once a whale in Spitzbergen that was white all ov\n",
      "2 , one eighty feet in length of the whale - bone kind came in , which ( as I w\n",
      "n master and kill this Sperma - ceti whale , for I could never hear of any of t\n",
      " . 1729 . \"... and the breath of the whale is frequendy attended with such an i\n",
      "ed with hoops and armed with ribs of whale .\" -- RAPE OF THE LOCK . \" If we com\n",
      "contemptible in the comparison . The whale is doubtless the largest animal in c\n"
     ]
    }
   ],
   "source": [
    "text1.concordance('whale')"
   ]
  },
  {
   "cell_type": "code",
   "execution_count": 41,
   "id": "f99a90d9-5097-4b0e-9b9f-a237a08440d8",
   "metadata": {},
   "outputs": [
    {
     "name": "stdout",
     "output_type": "stream",
     "text": [
      "ship boat sea time captain world man deck pequod other whales air\n",
      "water head crew line thing side way body\n"
     ]
    }
   ],
   "source": [
    "text1.similar('whale')"
   ]
  },
  {
   "cell_type": "code",
   "execution_count": 42,
   "id": "b3368b70-0afe-4abc-b11e-8db4d5ba9a01",
   "metadata": {},
   "outputs": [
    {
     "name": "stdout",
     "output_type": "stream",
     "text": [
      "am_glad a_pretty a_lucky is_pretty be_glad\n"
     ]
    }
   ],
   "source": [
    "text2.common_contexts(['monstrous', 'very'])"
   ]
  },
  {
   "cell_type": "code",
   "execution_count": 44,
   "id": "2958f36c-62d8-4ddf-9eb5-acf24b86bab2",
   "metadata": {},
   "outputs": [
    {
     "data": {
      "image/png": "[encoded data removed]",
      "text/plain": [
       "<Figure size 432x288 with 1 Axes>"
      ]
     },
     "metadata": {
      "needs_background": "light"
     },
     "output_type": "display_data"
    }
   ],
   "source": [
    "text4.dispersion_plot(['citizens', 'America', 'freedom'])"
   ]
  },
  {
   "cell_type": "markdown",
   "id": "b74485a1-3913-4621-91de-dcdd52142b48",
   "metadata": {},
   "source": [
    "### Frequency Distribution\n",
    "- 단어의 빈도수를 활용할 수 있는 많은 메소드 제공\n",
    "- 인간 언어 -> 컴퓨터가 인식\n",
    "    - 전체 단어 수\n",
    "    - 특정 단어의 빈도수"
   ]
  },
  {
   "cell_type": "code",
   "execution_count": 10,
   "id": "e612112d-f26a-470e-aa8b-df71630d31c6",
   "metadata": {},
   "outputs": [
    {
     "data": {
      "text/plain": [
       "FreqDist({',': 18713, 'the': 13721, '.': 6862, 'of': 6536, 'and': 6024, 'a': 4569, 'to': 4542, ';': 4072, 'in': 3916, 'that': 2982, ...})"
      ]
     },
     "execution_count": 10,
     "metadata": {},
     "output_type": "execute_result"
    }
   ],
   "source": [
    "fdist = FreqDist(text1)\n",
    "fdist # dictionary = key:value"
   ]
  },
  {
   "cell_type": "code",
   "execution_count": 46,
   "id": "d26aad13-8267-4d6f-ad1e-720b46c9ed32",
   "metadata": {},
   "outputs": [
    {
     "data": {
      "text/plain": [
       "[(',', 18713),\n",
       " ('the', 13721),\n",
       " ('.', 6862),\n",
       " ('of', 6536),\n",
       " ('and', 6024),\n",
       " ('a', 4569),\n",
       " ('to', 4542),\n",
       " (';', 4072),\n",
       " ('in', 3916),\n",
       " ('that', 2982)]"
      ]
     },
     "execution_count": 46,
     "metadata": {},
     "output_type": "execute_result"
    }
   ],
   "source": [
    "fdist.most_common(10) #가장 빈번한 단어 10개 출력"
   ]
  },
  {
   "cell_type": "code",
   "execution_count": 47,
   "id": "2d926187-dbb8-4f01-a483-e539daffb090",
   "metadata": {},
   "outputs": [
    {
     "data": {
      "text/plain": [
       "906"
      ]
     },
     "execution_count": 47,
     "metadata": {},
     "output_type": "execute_result"
    }
   ],
   "source": [
    "fdist['whale'] # = text1.count('whale')"
   ]
  },
  {
   "cell_type": "code",
   "execution_count": 48,
   "id": "25fbd408-2129-49d8-912a-36805896e526",
   "metadata": {},
   "outputs": [
    {
     "data": {
      "text/plain": [
       "0.003473673313677301"
      ]
     },
     "execution_count": 48,
     "metadata": {},
     "output_type": "execute_result"
    }
   ],
   "source": [
    "fdist.freq('whale') # 단어가 등장하는 비율"
   ]
  },
  {
   "cell_type": "code",
   "execution_count": 11,
   "id": "bd65c3fc-b467-40cd-bbf8-9d8475815683",
   "metadata": {},
   "outputs": [
    {
     "data": {
      "image/png": "[encoded data removed]",
      "text/plain": [
       "<Figure size 432x288 with 1 Axes>"
      ]
     },
     "metadata": {
      "needs_background": "light"
     },
     "output_type": "display_data"
    },
    {
     "data": {
      "text/plain": [
       "<AxesSubplot:xlabel='Samples', ylabel='Cumulative Counts'>"
      ]
     },
     "execution_count": 11,
     "metadata": {},
     "output_type": "execute_result"
    }
   ],
   "source": [
    "fdist.plot(50, cumulative=True) # True값은 상승곡선, False 값은 하강 곡선 보여줌"
   ]
  },
  {
   "cell_type": "code",
   "execution_count": 14,
   "id": "fea21172-d470-4b3b-8005-9ac56bd11829",
   "metadata": {
    "tags": []
   },
   "outputs": [
    {
     "data": {
      "text/plain": [
       "9002"
      ]
     },
     "execution_count": 14,
     "metadata": {},
     "output_type": "execute_result"
    }
   ],
   "source": [
    "# 1번 나타나는 단어들\n",
    "# print(fdist.hapaxes())  # 대소문자 구분됨\n",
    "len(fdist.hapaxes())"
   ]
  },
  {
   "cell_type": "markdown",
   "id": "e41eb5a6-9cd4-4855-87fe-fb15ba374d09",
   "metadata": {},
   "source": [
    "### 리스트 & 리스트 컴프리핸션\n",
    "- 리스트: 배열(array), 리스트(list)\n",
    "- 하나의 변수에 여러 값을 할당하는 자료형\n",
    "    - a = [1,2,3,5,6]\n",
    "- 대괄호로 선언 []\n",
    "- 내부 요소들은 자료형이 달라도 됨\n",
    "    - a = [1, True, 'hello']\n",
    "- 순서가 있다 => 인덱싱, 슬라이싱 가능\n",
    "- 빈 리스트 선언 list(), []"
   ]
  },
  {
   "cell_type": "code",
   "execution_count": 52,
   "id": "83e3c57a-b17c-42a1-b56d-1d8f8bb4bf6c",
   "metadata": {},
   "outputs": [
    {
     "data": {
      "text/plain": [
       "1"
      ]
     },
     "execution_count": 52,
     "metadata": {},
     "output_type": "execute_result"
    }
   ],
   "source": [
    "a = [1, True, 'hello']\n",
    "a[0]"
   ]
  },
  {
   "cell_type": "code",
   "execution_count": null,
   "id": "37e09ecb-6097-46a9-8c73-d67de0b99d4f",
   "metadata": {},
   "outputs": [],
   "source": [
    "b = []\n",
    "b = list()\n",
    "# 빈 리스트 선언"
   ]
  },
  {
   "cell_type": "code",
   "execution_count": 53,
   "id": "2852742a-a58b-49e5-8c7b-2d6b8c571cfe",
   "metadata": {},
   "outputs": [
    {
     "data": {
      "text/plain": [
       "'soju'"
      ]
     },
     "execution_count": 53,
     "metadata": {},
     "output_type": "execute_result"
    }
   ],
   "source": [
    "drinks = ['rum', 'mojito', 'soju']\n",
    "drinks[-1]"
   ]
  },
  {
   "cell_type": "code",
   "execution_count": 54,
   "id": "fcd58d07-1b42-4d04-b056-d3809bdf3708",
   "metadata": {},
   "outputs": [
    {
     "data": {
      "text/plain": [
       "2"
      ]
     },
     "execution_count": 54,
     "metadata": {},
     "output_type": "execute_result"
    }
   ],
   "source": [
    "# drinks에서 soju의 위치(오프셋)을 알고 싶다\n",
    "drinks.index('soju')"
   ]
  },
  {
   "cell_type": "markdown",
   "id": "83aae195-89aa-4337-8d2e-df1f59d198d6",
   "metadata": {},
   "source": [
    "#### list comprehension\n",
    "- 지능형 리스트\n",
    "- 주어진 리스트를 포함하는 새로운 리스트를 형성하는 것\n",
    "- list + for loop(for 반복문) 한 줄로 해결하는 방식\n",
    "- [A for A' in B]\n",
    "    - B에 있는 A'에서 A를 가진 리스트를 반환\n",
    "    - B: 기존의 리스트\n",
    "    - A': B의 자료 형태\n",
    "    - A: 새로운 리스트의 요소\n",
    "\n",
    "- 조건+ : [A for A' in B if <조건식>]\n",
    "    - [A for A' in B if <조건식> and <조건식>....]"
   ]
  },
  {
   "cell_type": "code",
   "execution_count": 56,
   "id": "8fff20c8-a529-4334-bcb0-6b25e370bafc",
   "metadata": {},
   "outputs": [
    {
     "data": {
      "text/plain": [
       "['rum', 'mojito', 'soju']"
      ]
     },
     "execution_count": 56,
     "metadata": {},
     "output_type": "execute_result"
    }
   ],
   "source": [
    "[d for d in drinks]"
   ]
  },
  {
   "cell_type": "code",
   "execution_count": 57,
   "id": "3280e006-0169-466f-a875-effccfc2abb3",
   "metadata": {},
   "outputs": [
    {
     "data": {
      "text/plain": [
       "['r', 'm', 's']"
      ]
     },
     "execution_count": 57,
     "metadata": {},
     "output_type": "execute_result"
    }
   ],
   "source": [
    "[d[0] for d in drinks]"
   ]
  },
  {
   "cell_type": "code",
   "execution_count": 15,
   "id": "c517862b-65bc-4b17-943c-60d0e0fd9abd",
   "metadata": {
    "tags": []
   },
   "outputs": [],
   "source": [
    "# text1 알파벳 수가 10이상인 단어\n",
    "# [word for word in text1] # text1 출력한 것과 동일\n",
    "# [word for word in text1 if len(word) >= 10]"
   ]
  },
  {
   "cell_type": "code",
   "execution_count": 16,
   "id": "be54fb4a-b10d-48bd-b325-6f0d8c718bda",
   "metadata": {},
   "outputs": [
    {
     "data": {
      "text/plain": [
       "{'Sovereignty', 'sovereignties', 'sovereignty'}"
      ]
     },
     "execution_count": 16,
     "metadata": {},
     "output_type": "execute_result"
    }
   ],
   "source": [
    "# text4에서 'gnt'를 포함하는 단어 반환\n",
    "[word for word in text4 if 'gnt' in word]\n",
    "[word for word in set(text4) if 'gnt' in word] # text4에서 중복 없애기 / 리스트 형태 \n",
    "set([word for word in set(text4) if 'gnt' in word]) # 전체에서 중복 없애기 / 위에것과 순서 다름 / 셋 형태"
   ]
  },
  {
   "cell_type": "markdown",
   "id": "d082ee95-b20e-4f14-acfc-9a965826b581",
   "metadata": {},
   "source": [
    "### 조건을 위한 함수: uncased, cased\n",
    "- 'the' != 'The'\n",
    "- upper(): 단어 전체 대문자로\n",
    "- lower(): 단어 전체 소문자로\n",
    "- title(): 맨 첫 글자만 대문자로\n",
    "- capitalize(), swapcase()\n",
    "- isupper(), islower(), istitle(): True, False 반환 (istitle()은 첫 문자가 대문자인지)\n",
    "- endswith(), startswith(): ~로 끝나거나 시작하는지 아닌지에 따라 True, Fasle 값 반환\n",
    "- isalpha(): 알파벳으로 이루어졌는지 아닌지에 따라 True, False 값 반환"
   ]
  },
  {
   "cell_type": "code",
   "execution_count": 21,
   "id": "2353d0a3-f142-418c-81bc-afcdb6040b6b",
   "metadata": {},
   "outputs": [
    {
     "data": {
      "text/plain": [
       "False"
      ]
     },
     "execution_count": 21,
     "metadata": {},
     "output_type": "execute_result"
    }
   ],
   "source": [
    "'word'.upper()\n",
    "'word'.title()\n",
    "'word'.capitalize()\n",
    "'word'.swapcase()\n",
    "'word'.endswith('r')"
   ]
  },
  {
   "cell_type": "code",
   "execution_count": 67,
   "id": "3b97b5f3-ac31-4b1f-a2d9-cff476998f44",
   "metadata": {},
   "outputs": [
    {
     "data": {
      "text/plain": [
       "['uncomfortableness',\n",
       " 'comfortableness',\n",
       " 'intolerableness',\n",
       " 'immutableness',\n",
       " 'indomitableness',\n",
       " 'reasonableness',\n",
       " 'indispensableness',\n",
       " 'indomitableness',\n",
       " 'honourableness',\n",
       " 'palpableness']"
      ]
     },
     "execution_count": 67,
     "metadata": {},
     "output_type": "execute_result"
    }
   ],
   "source": [
    "# text1에서 'ableness'로 끝나는 단어 반환\n",
    "[word for word in text1 if word.endswith('ableness')]"
   ]
  },
  {
   "cell_type": "code",
   "execution_count": 22,
   "id": "60dda199-22c8-4756-bcb5-fe58725d5102",
   "metadata": {
    "tags": []
   },
   "outputs": [],
   "source": [
    "# text3에서 대문자로 시작하는 단어들 중에 길이가 3이상인 단어 -> 중복없이 -> 전부 대문자로 변환\n",
    "# set([word.upper() for word in text3 if word[0].isupper() and len(word) >= 3])\n",
    "\n",
    "# [word.upper() for word in set(text3) if word[0].isupper() and len(word) >= 3]\n",
    "# 중복 완전히 걸러지지 않음(set은 god와 God를 다르게 인식하므로   ex. GOD, GOD 두 개 나옴)"
   ]
  },
  {
   "cell_type": "code",
   "execution_count": 23,
   "id": "18b978bb-0c93-4551-8feb-850be3a03a1f",
   "metadata": {
    "tags": []
   },
   "outputs": [],
   "source": [
    "# text4에서 알파벳인 단어 중, 길이가 4개 이상이고, 빈도수가 5이상인 단어의 길이 반환\n",
    "# [len(word) for word in text4 if fdist[word] >= 5 and len(word) >= 4 and word.isalpha()]"
   ]
  },
  {
   "cell_type": "markdown",
   "id": "eed3e787-8cc5-4dc2-a7de-4b9770de1ee7",
   "metadata": {},
   "source": [
    "### 리스트, 스트링\n",
    "- str.split(sep): str -> list\n",
    "- join(): list -> str"
   ]
  },
  {
   "cell_type": "code",
   "execution_count": 25,
   "id": "1e1576bc-39ee-4aac-bb98-1d9f03df7f43",
   "metadata": {},
   "outputs": [
    {
     "data": {
      "text/plain": [
       "['I', ' am', ' thirsty']"
      ]
     },
     "execution_count": 25,
     "metadata": {},
     "output_type": "execute_result"
    }
   ],
   "source": [
    "sent = 'I, am, thirsty'\n",
    "#['I', 'am' 'thirsty'] # tokens\n",
    "\n",
    "sent.split(',') # 불필요한 여백 생김\n",
    "\n",
    "# 여백 제거하기 위해 list comprehension\n",
    "tokens = sent.split(',')\n",
    "tokens"
   ]
  },
  {
   "cell_type": "code",
   "execution_count": 26,
   "id": "bb6ce427-62ba-4ddf-a234-dcf8c679f7e8",
   "metadata": {},
   "outputs": [
    {
     "data": {
      "text/plain": [
       "['I', 'am', 'thirsty']"
      ]
     },
     "execution_count": 26,
     "metadata": {},
     "output_type": "execute_result"
    }
   ],
   "source": [
    "tokens = [word.lstrip() for word in tokens]\n",
    "tokens"
   ]
  },
  {
   "cell_type": "code",
   "execution_count": 106,
   "id": "8366a94c-c5d7-4bb6-ae12-ceda54e8340b",
   "metadata": {},
   "outputs": [
    {
     "data": {
      "text/plain": [
       "'I-am-thirsty'"
      ]
     },
     "execution_count": 106,
     "metadata": {},
     "output_type": "execute_result"
    }
   ],
   "source": [
    "'-'.join(tokens)"
   ]
  },
  {
   "cell_type": "markdown",
   "id": "01c120ac-3a7a-4df1-8ab1-b571cd69e68f",
   "metadata": {},
   "source": [
    "### 반복문\n",
    "- [word for word in text1]\n",
    "- 자료구조를 순회할 때 사용\n",
    "- 정해진 동작을 반복적으로 수행할 때 내리는 명령어\n",
    "- 시작조건, 종료조건, 수행명령으로 구성됨\n",
    "- for 요소 in 반복범위:\n",
    "    수행명령\n",
    "\n",
    "- for, while\n",
    "- 들여쓰기, 불록 => 논리구조\n",
    "- 무한루프가 되지 않도록 주의"
   ]
  },
  {
   "cell_type": "code",
   "execution_count": 107,
   "id": "6b2b7d88-f05e-4263-9100-4c7d5bf125c4",
   "metadata": {},
   "outputs": [
    {
     "data": {
      "text/plain": [
       "True"
      ]
     },
     "execution_count": 107,
     "metadata": {},
     "output_type": "execute_result"
    }
   ],
   "source": [
    "import nltk\n",
    "from nltk.book import *\n",
    "nltk.download('book', quiet = True)"
   ]
  },
  {
   "cell_type": "code",
   "execution_count": 108,
   "id": "15cc5edf-1566-4346-83c5-9a64c47b650a",
   "metadata": {},
   "outputs": [
    {
     "name": "stdout",
     "output_type": "stream",
     "text": [
      "[\n",
      "Moby\n",
      "Dick\n",
      "by\n",
      "Herman\n",
      "Melville\n",
      "1851\n",
      "]\n",
      "ETYMOLOGY\n",
      ".\n"
     ]
    }
   ],
   "source": [
    "#[word for word in text1]\n",
    "for word in text1[:10]:\n",
    "    print(word)"
   ]
  },
  {
   "cell_type": "code",
   "execution_count": 109,
   "id": "f3519476-ea1f-4923-a4e6-c98ac6cf83c1",
   "metadata": {},
   "outputs": [
    {
     "name": "stdout",
     "output_type": "stream",
     "text": [
      "a\n",
      "b\n",
      "c\n"
     ]
    }
   ],
   "source": [
    "alphabet = ['a','b','c']\n",
    "for w in alphabet:\n",
    "    print(w)"
   ]
  },
  {
   "cell_type": "code",
   "execution_count": 110,
   "id": "978113ca-c6a0-4b7c-8741-2a80154ad11f",
   "metadata": {},
   "outputs": [
    {
     "name": "stdout",
     "output_type": "stream",
     "text": [
      "1\n",
      "3\n",
      "5\n",
      "7\n",
      "9\n"
     ]
    }
   ],
   "source": [
    "# 숫자 반복: range(start, end, step)\n",
    "for i in range(1, 10, 2):\n",
    "    print(i)"
   ]
  },
  {
   "cell_type": "code",
   "execution_count": 28,
   "id": "d8481207-ef03-4e20-adff-b16dbde59879",
   "metadata": {
    "tags": []
   },
   "outputs": [
    {
     "name": "stdout",
     "output_type": "stream",
     "text": [
      "260819\n",
      "141576\n",
      "44764\n",
      "152901\n",
      "45010\n",
      "16967\n",
      "100676\n",
      "4867\n",
      "69213\n"
     ]
    }
   ],
   "source": [
    "# text1-9 각 텍스트의 단어 수를 반환\n",
    "# 10만, 20만, 24만,....,\n",
    "\n",
    "texts = [text1, text2, text3, text4, text5, text6, text7, text8, text9]\n",
    "for i in range(0, 9):\n",
    "    print(len(texts[i]))"
   ]
  },
  {
   "cell_type": "markdown",
   "id": "da4e39a3-d944-4d8b-8bf0-bcd5715b89c7",
   "metadata": {},
   "source": [
    "### 출력 포메팅\n",
    "- 1. f''\n",
    "    - f, F 둘 다 가능\n",
    "- 2. % # 옛날 방식\n",
    "- 3. '....{}'.format(var)"
   ]
  },
  {
   "cell_type": "code",
   "execution_count": 115,
   "id": "f2b632d1-674c-4705-a228-9a30c424152f",
   "metadata": {},
   "outputs": [
    {
     "name": "stdout",
     "output_type": "stream",
     "text": [
      "My name is lee\n"
     ]
    }
   ],
   "source": [
    "name ='lee'\n",
    "print('My name is', name)"
   ]
  },
  {
   "cell_type": "code",
   "execution_count": 116,
   "id": "381c2efb-2ee5-4f53-ac16-73d467a86b89",
   "metadata": {},
   "outputs": [
    {
     "name": "stdout",
     "output_type": "stream",
     "text": [
      "My name is lee\n"
     ]
    }
   ],
   "source": [
    "print(f'My name is {name}')"
   ]
  },
  {
   "cell_type": "code",
   "execution_count": 117,
   "id": "c179bf5c-c6e9-4c5d-9446-6f079ece2750",
   "metadata": {},
   "outputs": [
    {
     "name": "stdout",
     "output_type": "stream",
     "text": [
      "My name is lee\n"
     ]
    }
   ],
   "source": [
    "print('My name is %s'%name)"
   ]
  },
  {
   "cell_type": "code",
   "execution_count": 118,
   "id": "069cea85-0eca-4413-a9ab-db54d5916fec",
   "metadata": {},
   "outputs": [
    {
     "name": "stdout",
     "output_type": "stream",
     "text": [
      "My name is lee\n"
     ]
    }
   ],
   "source": [
    "print('My name is {}'.format(name))"
   ]
  },
  {
   "cell_type": "code",
   "execution_count": 122,
   "id": "a82f5aa9-fbdf-4fc9-b431-f5272cf34b33",
   "metadata": {},
   "outputs": [
    {
     "name": "stdout",
     "output_type": "stream",
     "text": [
      "My name is lee, and I am 0.6 years old\n"
     ]
    }
   ],
   "source": [
    "age = 14\n",
    "a = 0.555555555\n",
    "print('My name is {}, and I am {:.1} years old'.format(name, a))"
   ]
  },
  {
   "cell_type": "code",
   "execution_count": 121,
   "id": "a74544e8-fe4b-4d8d-867f-ff8bb3a42b79",
   "metadata": {},
   "outputs": [
    {
     "name": "stdout",
     "output_type": "stream",
     "text": [
      "My name is 0.556\n"
     ]
    }
   ],
   "source": [
    "a = 0.555555555\n",
    "print('My name is %.3f'%a)"
   ]
  }
 ],
 "metadata": {
  "kernelspec": {
   "display_name": "Python 3 (ipykernel)",
   "language": "python",
   "name": "python3"
  },
  "language_info": {
   "codemirror_mode": {
    "name": "ipython",
    "version": 3
   },
   "file_extension": ".py",
   "mimetype": "text/x-python",
   "name": "python",
   "nbconvert_exporter": "python",
   "pygments_lexer": "ipython3",
   "version": "3.9.7"
  }
 },
 "nbformat": 4,
 "nbformat_minor": 5
}

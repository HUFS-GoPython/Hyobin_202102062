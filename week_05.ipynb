{
 "cells": [
  {
   "cell_type": "markdown",
   "id": "a859ed47-a6dc-431d-9eb3-df71547550d7",
   "metadata": {},
   "source": [
    "### 반복문\n",
    "- while, for loop\n",
    "\n",
    "#### while loop\n",
    "- 어떤 조건이 만족하는 동안 명령 블록을 수행한다.\n",
    "- if + for loop\n",
    "- 해당 조건이 거짓이면 멈춘다 => 언제 멈추는지 그 시점을 정확히 파악해야 함 / 무한루프 주의!!\n",
    "\n",
    "#### for vs. while\n",
    "- for: 반복 횟수가 정해짐, 정확함. 변하지 않음\n",
    "    - 예: 성적 산출\n",
    "- while: 횟수 정해지지 않음. (중요하지 않다) 어떤 조건을 만족시킬 때 빠져나오게 하는 게 중요할 때 사용\n",
    "    - 예: 가위바위보"
   ]
  },
  {
   "cell_type": "code",
   "execution_count": 4,
   "id": "73b73719-64ad-4c27-898a-394464d9a1b1",
   "metadata": {
    "collapsed": true,
    "jupyter": {
     "outputs_hidden": true
    },
    "tags": []
   },
   "outputs": [
    {
     "name": "stdout",
     "output_type": "stream",
     "text": [
      "0\n",
      "1\n",
      "2\n",
      "3\n",
      "4\n",
      "5\n",
      "6\n",
      "7\n",
      "8\n",
      "9\n"
     ]
    }
   ],
   "source": [
    "for i in range(10):\n",
    "    print(i)"
   ]
  },
  {
   "cell_type": "code",
   "execution_count": 5,
   "id": "3e41bb84-9f0b-434c-90c2-541b1a567c44",
   "metadata": {
    "collapsed": true,
    "jupyter": {
     "outputs_hidden": true
    },
    "tags": []
   },
   "outputs": [
    {
     "name": "stdout",
     "output_type": "stream",
     "text": [
      "0\n",
      "1\n",
      "2\n"
     ]
    }
   ],
   "source": [
    "j = 0 # 초기화 블록\n",
    "while j < 3:   # 0, 1, 2, False\n",
    "    print(j)    # 0, 1, 2\n",
    "    j += 1      # 변화 1, 2, 3"
   ]
  },
  {
   "cell_type": "code",
   "execution_count": 8,
   "id": "5625a0fd-1064-4a02-92ee-32102144319a",
   "metadata": {
    "tags": []
   },
   "outputs": [
    {
     "name": "stdout",
     "output_type": "stream",
     "text": [
      "a\n",
      "b\n",
      "c\n",
      "d\n"
     ]
    }
   ],
   "source": [
    "abcd = ['a', 'b', 'c', 'd']\n",
    "i = 0\n",
    "\n",
    "while i < 4:\n",
    "    print(abcd[i])\n",
    "    i += 1"
   ]
  },
  {
   "cell_type": "code",
   "execution_count": 7,
   "id": "4fc2febc-2a1f-4911-b568-069c9feef90e",
   "metadata": {},
   "outputs": [
    {
     "name": "stdout",
     "output_type": "stream",
     "text": [
      "a\n",
      "b\n",
      "c\n",
      "d\n"
     ]
    }
   ],
   "source": [
    "i = 0\n",
    "while i < len(abcd):\n",
    "    print(abcd[i])\n",
    "    i += 1"
   ]
  },
  {
   "cell_type": "markdown",
   "id": "6f595a25-72b2-4624-8731-e135dcde2e40",
   "metadata": {},
   "source": [
    "### 반복문 제어\n",
    "- 되도록 사용하지 않는다. 의도치 않은 오류를 위해\n",
    "- break: 논리적으로 반복을 종료시킬 때\n",
    "- else: 어떤 조건이 완전히 끝났을 때 한 번 더 실행함. break시에 실행 안 됨. => 어느 지점에서 종료되었는지 확인할 때\n",
    "- continue: 특정 조건을 건너뛰고 다음 조건 실행"
   ]
  },
  {
   "cell_type": "code",
   "execution_count": 8,
   "id": "6fdbecd3-e464-45db-bab2-8c823f755561",
   "metadata": {
    "tags": []
   },
   "outputs": [
    {
     "name": "stdout",
     "output_type": "stream",
     "text": [
      "0\n",
      "1\n",
      "2\n",
      "3\n",
      "4\n",
      "5\n",
      "6\n"
     ]
    }
   ],
   "source": [
    "j = 0\n",
    "while j < 10:\n",
    "    print(j)\n",
    "    if j == 6: break\n",
    "    j += 1"
   ]
  },
  {
   "cell_type": "code",
   "execution_count": 13,
   "id": "0393411c-dbe2-47a6-9959-bf6124ef2678",
   "metadata": {
    "tags": []
   },
   "outputs": [
    {
     "name": "stdout",
     "output_type": "stream",
     "text": [
      "0\n",
      "1\n",
      "2\n",
      "3\n",
      "4\n",
      "5\n",
      "6\n"
     ]
    }
   ],
   "source": [
    "j = 0\n",
    "while j < 10:\n",
    "    print(j)\n",
    "    if j == 6: break\n",
    "    j += 1\n",
    "else:\n",
    "    print('ended')"
   ]
  },
  {
   "cell_type": "code",
   "execution_count": 14,
   "id": "014e1a6b-51e4-4f6b-a3b8-ce7cabf65ae5",
   "metadata": {},
   "outputs": [
    {
     "name": "stdout",
     "output_type": "stream",
     "text": [
      "0\n",
      "1\n",
      "2\n",
      "3\n",
      "4\n",
      "5\n",
      "7\n",
      "8\n",
      "9\n",
      "ended\n"
     ]
    }
   ],
   "source": [
    "for i in range(10):\n",
    "    if i == 6: continue  # i == 6인 경우 건너뜀\n",
    "    print(i)\n",
    "else:\n",
    "    print('ended')"
   ]
  },
  {
   "cell_type": "markdown",
   "id": "10c94de4-c3c7-4af6-ba92-eab181f884ba",
   "metadata": {},
   "source": [
    "### gugudan\n",
    "변수는 입력을 받아서 사용함\n",
    "- 1. n단 출력\n",
    "- 2. 1-n단까지 출력\n",
    "    - n > 10 경우 대비\n",
    "- 3. n, m 모두 입력 받아서 출력\n",
    "    - n > m\n",
    "- 4. 프로그램으로 만든다.\n",
    "    - 메뉴: 1) n 2) 1-n 3) n-m단 출력"
   ]
  },
  {
   "cell_type": "code",
   "execution_count": 15,
   "id": "38854ce1-8105-40ab-ac75-db3fc4e787bd",
   "metadata": {
    "collapsed": true,
    "jupyter": {
     "outputs_hidden": true
    },
    "tags": []
   },
   "outputs": [
    {
     "name": "stdin",
     "output_type": "stream",
     "text": [
      "단을 입력하시오 5\n"
     ]
    },
    {
     "name": "stdout",
     "output_type": "stream",
     "text": [
      "5 X 1 = 5\n",
      "5 X 2 = 10\n",
      "5 X 3 = 15\n",
      "5 X 4 = 20\n",
      "5 X 5 = 25\n",
      "5 X 6 = 30\n",
      "5 X 7 = 35\n",
      "5 X 8 = 40\n",
      "5 X 9 = 45\n"
     ]
    }
   ],
   "source": [
    "n = int(input('단을 입력하시오'))\n",
    "\n",
    "for i in range(1, 10):\n",
    "    print(f\"{n} X {i} = {i*n}\")"
   ]
  },
  {
   "cell_type": "code",
   "execution_count": 16,
   "id": "503ae6fa-5f36-44d8-854c-d98f50f5a99b",
   "metadata": {
    "collapsed": true,
    "jupyter": {
     "outputs_hidden": true
    },
    "tags": []
   },
   "outputs": [
    {
     "name": "stdin",
     "output_type": "stream",
     "text": [
      "단을 입력하시오 3\n"
     ]
    },
    {
     "name": "stdout",
     "output_type": "stream",
     "text": [
      "===1단===\n",
      "1 X 1 = 1\n",
      "1 X 2 = 2\n",
      "1 X 3 = 3\n",
      "1 X 4 = 4\n",
      "1 X 5 = 5\n",
      "1 X 6 = 6\n",
      "1 X 7 = 7\n",
      "1 X 8 = 8\n",
      "1 X 9 = 9\n",
      "===2단===\n",
      "2 X 1 = 2\n",
      "2 X 2 = 4\n",
      "2 X 3 = 6\n",
      "2 X 4 = 8\n",
      "2 X 5 = 10\n",
      "2 X 6 = 12\n",
      "2 X 7 = 14\n",
      "2 X 8 = 16\n",
      "2 X 9 = 18\n",
      "===3단===\n",
      "3 X 1 = 3\n",
      "3 X 2 = 6\n",
      "3 X 3 = 9\n",
      "3 X 4 = 12\n",
      "3 X 5 = 15\n",
      "3 X 6 = 18\n",
      "3 X 7 = 21\n",
      "3 X 8 = 24\n",
      "3 X 9 = 27\n"
     ]
    }
   ],
   "source": [
    "n = int(input('단을 입력하시오'))\n",
    "\n",
    "for k in range(1, n+1):\n",
    "    print(f\"==={k}단===\")\n",
    "    for i in range(1, 10):\n",
    "        print(f\"{k} X {i} = {i*k}\")\n"
   ]
  },
  {
   "cell_type": "code",
   "execution_count": 35,
   "id": "950a73d7-2a3a-4556-9a31-363efe8ccc72",
   "metadata": {
    "collapsed": true,
    "jupyter": {
     "outputs_hidden": true
    },
    "tags": []
   },
   "outputs": [
    {
     "name": "stdin",
     "output_type": "stream",
     "text": [
      "첫 번째 단을 입력하시오 2\n",
      "두 번째 단을 입력하시오 5\n"
     ]
    },
    {
     "name": "stdout",
     "output_type": "stream",
     "text": [
      "===2단===\n",
      "2 X 1 = 2\n",
      "2 X 2 = 4\n",
      "2 X 3 = 6\n",
      "2 X 4 = 8\n",
      "2 X 5 = 10\n",
      "2 X 6 = 12\n",
      "2 X 7 = 14\n",
      "2 X 8 = 16\n",
      "2 X 9 = 18\n",
      "===3단===\n",
      "3 X 1 = 3\n",
      "3 X 2 = 6\n",
      "3 X 3 = 9\n",
      "3 X 4 = 12\n",
      "3 X 5 = 15\n",
      "3 X 6 = 18\n",
      "3 X 7 = 21\n",
      "3 X 8 = 24\n",
      "3 X 9 = 27\n",
      "===4단===\n",
      "4 X 1 = 4\n",
      "4 X 2 = 8\n",
      "4 X 3 = 12\n",
      "4 X 4 = 16\n",
      "4 X 5 = 20\n",
      "4 X 6 = 24\n",
      "4 X 7 = 28\n",
      "4 X 8 = 32\n",
      "4 X 9 = 36\n",
      "===5단===\n",
      "5 X 1 = 5\n",
      "5 X 2 = 10\n",
      "5 X 3 = 15\n",
      "5 X 4 = 20\n",
      "5 X 5 = 25\n",
      "5 X 6 = 30\n",
      "5 X 7 = 35\n",
      "5 X 8 = 40\n",
      "5 X 9 = 45\n"
     ]
    }
   ],
   "source": [
    "m = int(input('첫 번째 단을 입력하시오'))\n",
    "n = int(input('두 번째 단을 입력하시오'))\n",
    "\n",
    "if n > m:\n",
    "    for k in range(m, n+1):\n",
    "        print(f\"==={k}단===\")\n",
    "        for i in range(1, 10):\n",
    "            print(f\"{k} X {i} = {i*k}\")\n",
    "else:\n",
    "    print('단을 잘못 입력했습니다. 다시 입력하세요')"
   ]
  },
  {
   "cell_type": "code",
   "execution_count": 36,
   "id": "aef6054c-b36d-4b73-adfa-09f1a9253e67",
   "metadata": {
    "collapsed": true,
    "jupyter": {
     "outputs_hidden": true
    },
    "tags": []
   },
   "outputs": [
    {
     "name": "stdout",
     "output_type": "stream",
     "text": [
      "메뉴: (1) n단 출력 (2) 1단부터 n단부터 출력 (3) n단부터 m단 출력\n"
     ]
    },
    {
     "name": "stdin",
     "output_type": "stream",
     "text": [
      "메뉴를 입력하시오:  1\n",
      "단을 입력하시오 2\n"
     ]
    },
    {
     "name": "stdout",
     "output_type": "stream",
     "text": [
      "===2단===\n",
      "2 X 1 = 2\n",
      "2 X 2 = 4\n",
      "2 X 3 = 6\n",
      "2 X 4 = 8\n",
      "2 X 5 = 10\n",
      "2 X 6 = 12\n",
      "2 X 7 = 14\n",
      "2 X 8 = 16\n",
      "2 X 9 = 18\n"
     ]
    }
   ],
   "source": [
    "while True:\n",
    "    print(\"메뉴: (1) n단 출력 (2) 1단부터 n단부터 출력 (3) n단부터 m단 출력\")\n",
    "    menu = int(input(\"메뉴를 입력하시오: \"))\n",
    "    \n",
    "    if menu == 1:\n",
    "        n = int(input('단을 입력하시오'))\n",
    "        print(f'==={n}단===')\n",
    "        for i in range(1, 10):\n",
    "            print(f'{n} X {i} = {n*i}')\n",
    "        break\n",
    "    elif menu == 2:\n",
    "        n = int(input('단을 입력하시오'))\n",
    "        for i in range(1, n+1):\n",
    "            print(f'==={i}단===')\n",
    "            for k in range(1, 10):\n",
    "                print(f'{i} X {k} = {i*k}')\n",
    "        break\n",
    "    \n",
    "    elif menu == 3:\n",
    "        n = int(input('첫 번째 단을 입력하시오'))\n",
    "        m = int(input('두 번째 단을 입력하시오'))\n",
    "        if m > n:\n",
    "            for i in range(n, m+1):\n",
    "                print(f'==={i}단===')\n",
    "                for k in range(1, 10):\n",
    "                    print(f'{i} X {k} = {i*k}')\n",
    "            break\n",
    "        else:\n",
    "            print('m은 n보다 커야합니다. 다시 입력해주세요.')\n",
    "    \n",
    "    else:\n",
    "        print('숫자를 잘못 입력했습니다.')\n",
    "        print('\\n')\n",
    "\n",
    "### menu 잘못 입력했을 시 다시 입력받을 수 있도록\n",
    "### 하나의 menu를 전부 올바르게 입력하여 값을 출력했을 경우 break를 활용하여 프로그램 종료"
   ]
  },
  {
   "cell_type": "markdown",
   "id": "236a6b73-c0fb-4ac6-9e44-43e746b9f8d5",
   "metadata": {
    "tags": []
   },
   "source": [
    "### 여러 text 한 번에 리스트에 담기"
   ]
  },
  {
   "cell_type": "code",
   "execution_count": 39,
   "id": "89293de6-2935-458a-a0e4-2636074f0b72",
   "metadata": {},
   "outputs": [
    {
     "name": "stdout",
     "output_type": "stream",
     "text": [
      "*** Introductory Examples for the NLTK Book ***\n",
      "Loading text1, ..., text9 and sent1, ..., sent9\n",
      "Type the name of the text or sentence to view it.\n",
      "Type: 'texts()' or 'sents()' to list the materials.\n",
      "text1: Moby Dick by Herman Melville 1851\n",
      "text2: Sense and Sensibility by Jane Austen 1811\n",
      "text3: The Book of Genesis\n",
      "text4: Inaugural Address Corpus\n",
      "text5: Chat Corpus\n",
      "text6: Monty Python and the Holy Grail\n",
      "text7: Wall Street Journal\n",
      "text8: Personals Corpus\n",
      "text9: The Man Who Was Thursday by G . K . Chesterton 1908\n"
     ]
    },
    {
     "data": {
      "text/plain": [
       "True"
      ]
     },
     "execution_count": 39,
     "metadata": {},
     "output_type": "execute_result"
    }
   ],
   "source": [
    "import nltk\n",
    "from nltk.book import*\n",
    "nltk.download('book', quiet=True)"
   ]
  },
  {
   "cell_type": "code",
   "execution_count": 40,
   "id": "a7634631-99c0-48ba-91ad-32cc485c16ff",
   "metadata": {},
   "outputs": [
    {
     "data": {
      "text/plain": [
       "['text1',\n",
       " 'text2',\n",
       " 'text3',\n",
       " 'text4',\n",
       " 'text5',\n",
       " 'text6',\n",
       " 'text7',\n",
       " 'text8',\n",
       " 'text9']"
      ]
     },
     "execution_count": 40,
     "metadata": {},
     "output_type": "execute_result"
    }
   ],
   "source": [
    "# 리스트에 text 1-9 담기 => for loop 활용\n",
    "text = [f'text{i}' for i in range(1, 10)]\n",
    "text"
   ]
  },
  {
   "cell_type": "markdown",
   "id": "fd156f23-38a6-4f61-a527-54abca76d94e",
   "metadata": {},
   "source": [
    "## NLTK corpus\n",
    "- 코퍼스 + 테마\n",
    "- 종류\n",
    "    - brown\n",
    "    - gutenberg\n",
    "    - inaugural\n",
    "- methods\n",
    "    - word(fileid) # tokens\n",
    "    - sents()\n",
    "    - raw()\n",
    "    - fileids()"
   ]
  },
  {
   "cell_type": "code",
   "execution_count": 38,
   "id": "3c512bde-ed77-4ac8-9192-9e2dbe048c72",
   "metadata": {
    "tags": []
   },
   "outputs": [
    {
     "name": "stderr",
     "output_type": "stream",
     "text": [
      "[nltk_data] Downloading package brown to\n",
      "[nltk_data]     C:\\Users\\hyobi\\AppData\\Roaming\\nltk_data...\n",
      "[nltk_data]   Package brown is already up-to-date!\n",
      "[nltk_data] Downloading package gutenberg to\n",
      "[nltk_data]     C:\\Users\\hyobi\\AppData\\Roaming\\nltk_data...\n",
      "[nltk_data]   Package gutenberg is already up-to-date!\n",
      "[nltk_data] Downloading package inaugural to\n",
      "[nltk_data]     C:\\Users\\hyobi\\AppData\\Roaming\\nltk_data...\n",
      "[nltk_data]   Package inaugural is already up-to-date!\n"
     ]
    },
    {
     "data": {
      "text/plain": [
       "True"
      ]
     },
     "execution_count": 38,
     "metadata": {},
     "output_type": "execute_result"
    }
   ],
   "source": [
    "import nltk\n",
    "from nltk.corpus import gutenberg # gutenberg\n",
    "nltk.download(['brown', 'gutenberg', 'inaugural'])"
   ]
  },
  {
   "cell_type": "code",
   "execution_count": 43,
   "id": "480ef3db-9d0b-4a3c-a17e-6467132403a2",
   "metadata": {},
   "outputs": [
    {
     "data": {
      "text/plain": [
       "['austen-emma.txt',\n",
       " 'austen-persuasion.txt',\n",
       " 'austen-sense.txt',\n",
       " 'bible-kjv.txt',\n",
       " 'blake-poems.txt',\n",
       " 'bryant-stories.txt',\n",
       " 'burgess-busterbrown.txt',\n",
       " 'carroll-alice.txt',\n",
       " 'chesterton-ball.txt',\n",
       " 'chesterton-brown.txt',\n",
       " 'chesterton-thursday.txt',\n",
       " 'edgeworth-parents.txt',\n",
       " 'melville-moby_dick.txt',\n",
       " 'milton-paradise.txt',\n",
       " 'shakespeare-caesar.txt',\n",
       " 'shakespeare-hamlet.txt',\n",
       " 'shakespeare-macbeth.txt',\n",
       " 'whitman-leaves.txt']"
      ]
     },
     "execution_count": 43,
     "metadata": {},
     "output_type": "execute_result"
    }
   ],
   "source": [
    "# gutenberg 테마에 포함된 파일 아이디\n",
    "gutenberg.fileids()"
   ]
  },
  {
   "cell_type": "markdown",
   "id": "b55b8e4c-88e5-4d66-b670-cb8e10e2f6d5",
   "metadata": {},
   "source": [
    "#### 각 파일마다 word, character, sents 개수 출력하기"
   ]
  },
  {
   "cell_type": "code",
   "execution_count": 45,
   "id": "8c0aa484-2c3a-403f-b58c-80db997e32ca",
   "metadata": {},
   "outputs": [
    {
     "name": "stdout",
     "output_type": "stream",
     "text": [
      "austen-emma.txt | 글자수: 887071, 단어수: 192427, 문장수: 7752\n",
      "austen-persuasion.txt | 글자수: 466292, 단어수: 98171, 문장수: 3747\n",
      "austen-sense.txt | 글자수: 673022, 단어수: 141576, 문장수: 4999\n",
      "bible-kjv.txt | 글자수: 4332554, 단어수: 1010654, 문장수: 30103\n",
      "blake-poems.txt | 글자수: 38153, 단어수: 8354, 문장수: 438\n",
      "bryant-stories.txt | 글자수: 249439, 단어수: 55563, 문장수: 2863\n",
      "burgess-busterbrown.txt | 글자수: 84663, 단어수: 18963, 문장수: 1054\n",
      "carroll-alice.txt | 글자수: 144395, 단어수: 34110, 문장수: 1703\n",
      "chesterton-ball.txt | 글자수: 457450, 단어수: 96996, 문장수: 4779\n",
      "chesterton-brown.txt | 글자수: 406629, 단어수: 86063, 문장수: 3806\n",
      "chesterton-thursday.txt | 글자수: 320525, 단어수: 69213, 문장수: 3742\n",
      "edgeworth-parents.txt | 글자수: 935158, 단어수: 210663, 문장수: 10230\n",
      "melville-moby_dick.txt | 글자수: 1242990, 단어수: 260819, 문장수: 10059\n",
      "milton-paradise.txt | 글자수: 468220, 단어수: 96825, 문장수: 1851\n",
      "shakespeare-caesar.txt | 글자수: 112310, 단어수: 25833, 문장수: 2163\n",
      "shakespeare-hamlet.txt | 글자수: 162881, 단어수: 37360, 문장수: 3106\n",
      "shakespeare-macbeth.txt | 글자수: 100351, 단어수: 23140, 문장수: 1907\n",
      "whitman-leaves.txt | 글자수: 711215, 단어수: 154883, 문장수: 4250\n"
     ]
    }
   ],
   "source": [
    "gutenberg.fileids()\n",
    "for i in gutenberg.fileids():\n",
    "    words = gutenberg.words(fileids = i)\n",
    "    chars = gutenberg.raw(fileids = i)\n",
    "    sents = gutenberg.sents(fileids = i)   \n",
    "    print(f'{i} | 글자수: {len(chars)}, 단어수: {len(words)}, 문장수: {len(sents)}')"
   ]
  },
  {
   "cell_type": "markdown",
   "id": "c0e95be9-04a0-47d3-848e-0168ab21c7dc",
   "metadata": {},
   "source": [
    "gutenberg.words(fileids = ['austen-emma.txt',\n",
    " 'austen-persuasion.txt',\n",
    " 'austen-sense.txt',\n",
    " 'bible-kjv.txt',\n",
    " 'blake-poems.txt',\n",
    " 'bryant-stories.txt',\n",
    " 'burgess-busterbrown.txt',\n",
    " 'carroll-alice.txt',\n",
    " 'chesterton-ball.txt',\n",
    " 'chesterton-brown.txt',\n",
    " 'chesterton-thursday.txt',\n",
    " 'edgeworth-parents.txt',\n",
    " 'melville-moby_dick.txt',\n",
    " 'milton-paradise.txt',\n",
    " 'shakespeare-caesar.txt',\n",
    " 'shakespeare-hamlet.txt',\n",
    " 'shakespeare-macbeth.txt',\n",
    " 'whitman-leaves.txt'])\n"
   ]
  },
  {
   "cell_type": "markdown",
   "id": "9f55c800-e51e-4fa9-b2e7-677a15caacd6",
   "metadata": {},
   "source": [
    "### Gutenberg\n",
    "- 1. shakespeare-caesar.txt의 중복된 단어를 거르고 각 단어의 길이를 출력하시오.\n",
    "- 2. chesterton-thursday.txt에서 길이가 4자 이하인 알파벳 중 ie를 포함하는 단어를 소문자로 출력하고, 개수를 세어라\n",
    "- 3. bryant-stories.txt에서 ch로 끝나는 단어를 출력하는데, 중복 없이, 첫글자(모두 소문자)와 끝 ch만 남기고 가운데 글자들은 모두 -로 가려라 예: much ->m-ch"
   ]
  },
  {
   "cell_type": "code",
   "execution_count": 53,
   "id": "d84dc55d-ca38-47c8-86a2-21654756a962",
   "metadata": {
    "tags": []
   },
   "outputs": [
    {
     "data": {
      "text/plain": [
       "[7, 7, 4, 10, 7, 4, 6, 4, 4, 6, 7, 1, 11, 8, 8, 4, 4, 3, 7, 5]"
      ]
     },
     "execution_count": 53,
     "metadata": {},
     "output_type": "execute_result"
    }
   ],
   "source": [
    "#1.\n",
    "list_guten = gutenberg.words(fileids = ['shakespeare-caesar.txt'])\n",
    "\n",
    "len_word = [len(word) for word in set(list_guten)]\n",
    "len_word[:20]"
   ]
  },
  {
   "cell_type": "code",
   "execution_count": 52,
   "id": "59fcbbcb-847a-4a4c-ae9a-36efe3b07305",
   "metadata": {},
   "outputs": [
    {
     "data": {
      "text/plain": [
       "[7, 7, 4, 10, 7, 4, 6, 4, 4, 6, 7, 1, 11, 8, 8, 4, 4, 3, 7, 5]"
      ]
     },
     "execution_count": 52,
     "metadata": {},
     "output_type": "execute_result"
    }
   ],
   "source": [
    "#1. 더 간단한 방법\n",
    "len_word = [len(word) for word in set(gutenberg.words(fileids = ['shakespeare-caesar.txt']))]\n",
    "len_word[:20]"
   ]
  },
  {
   "cell_type": "code",
   "execution_count": 55,
   "id": "f7e58271-b957-4721-a9f0-fedb730b4bf1",
   "metadata": {
    "tags": []
   },
   "outputs": [
    {
     "name": "stdout",
     "output_type": "stream",
     "text": [
      "['died', 'view', 'erie', 'tie', 'pier', 'lies', 'pie', 'die', 'foie', 'lie', 'tied', 'dies']\n",
      "12\n"
     ]
    }
   ],
   "source": [
    "#2.\n",
    "word = [word.lower() for word in set(gutenberg.words('chesterton-thursday.txt')) if 'ie' in word and len(word) <= 4]\n",
    "print(word)\n",
    "print(len(word))"
   ]
  },
  {
   "cell_type": "code",
   "execution_count": 63,
   "id": "ce16f108-5257-4c81-8325-60f56572cf98",
   "metadata": {
    "collapsed": true,
    "jupyter": {
     "outputs_hidden": true
    },
    "tags": []
   },
   "outputs": [
    {
     "data": {
      "text/plain": [
       "['s---ch',\n",
       " 'b--ch',\n",
       " 't--ch',\n",
       " 'p--ch',\n",
       " 'm-ch',\n",
       " 's----ch',\n",
       " 't---ch',\n",
       " 'e-ch',\n",
       " 's---ch',\n",
       " 's----ch',\n",
       " 'b---ch',\n",
       " 'f--ch',\n",
       " 'p--ch',\n",
       " 'c--ch',\n",
       " 's-ch',\n",
       " 'w--ch',\n",
       " 'l--ch',\n",
       " 'f---ch',\n",
       " 'a-ch',\n",
       " 's----ch',\n",
       " 'p--ch',\n",
       " 't--ch',\n",
       " 'b--ch',\n",
       " 'c--ch',\n",
       " 'b--ch',\n",
       " 'r-ch',\n",
       " 'w--ch',\n",
       " 's----ch',\n",
       " 'p--ch',\n",
       " 'r--ch',\n",
       " 'p--ch',\n",
       " 'c---ch',\n",
       " 's-ch',\n",
       " 't--ch',\n",
       " 'e-ch']"
      ]
     },
     "execution_count": 63,
     "metadata": {},
     "output_type": "execute_result"
    }
   ],
   "source": [
    "#3.\n",
    "[(word[0]+'-'*(len(word)-3)+'ch').lower() for word in set((gutenberg.words('bryant-stories.txt'))) if word.endswith('ch')]\n",
    "\n",
    "## 대문자, 소문자 고려하여 모두 중복 제거 된 것인가?"
   ]
  },
  {
   "cell_type": "code",
   "execution_count": 65,
   "id": "5b2eb76d-db66-4e9d-8d0a-346758034155",
   "metadata": {
    "collapsed": true,
    "jupyter": {
     "outputs_hidden": true
    },
    "tags": []
   },
   "outputs": [
    {
     "data": {
      "text/plain": [
       "['s---ch',\n",
       " 'b--ch',\n",
       " 't--ch',\n",
       " 'p--ch',\n",
       " 'm-ch',\n",
       " 's----ch',\n",
       " 't---ch',\n",
       " 'e-ch',\n",
       " 's---ch',\n",
       " 's----ch',\n",
       " 'b---ch',\n",
       " 'f--ch',\n",
       " 'p--ch',\n",
       " 'c--ch',\n",
       " 's-ch',\n",
       " 'w--ch',\n",
       " 'l--ch',\n",
       " 'f---ch',\n",
       " 'a-ch',\n",
       " 's----ch',\n",
       " 'p--ch',\n",
       " 't--ch',\n",
       " 'b--ch',\n",
       " 'c--ch',\n",
       " 'b--ch',\n",
       " 'r-ch',\n",
       " 'w--ch',\n",
       " 's----ch',\n",
       " 'p--ch',\n",
       " 'r--ch',\n",
       " 'p--ch',\n",
       " 'c---ch',\n",
       " 's-ch',\n",
       " 't--ch',\n",
       " 'e-ch']"
      ]
     },
     "execution_count": 65,
     "metadata": {},
     "output_type": "execute_result"
    }
   ],
   "source": [
    "#3. 다른 방법(단어 오프셋)\n",
    "[(word[0]+'-'*(len(word[1:-2]))+'ch').lower() for word in set((gutenberg.words('bryant-stories.txt'))) if word.endswith('ch')]"
   ]
  },
  {
   "cell_type": "markdown",
   "id": "6d2242f2-5827-46be-9989-ce5be4825597",
   "metadata": {},
   "source": [
    "### Brown\n",
    "- categories()"
   ]
  },
  {
   "cell_type": "code",
   "execution_count": 67,
   "id": "1d70c2c1-5ffe-47e8-9f52-7b1422e5b874",
   "metadata": {},
   "outputs": [],
   "source": [
    "brown = nltk.corpus.brown"
   ]
  },
  {
   "cell_type": "code",
   "execution_count": 68,
   "id": "744c4884-2e70-48bc-9352-f1103d8832db",
   "metadata": {},
   "outputs": [
    {
     "data": {
      "text/plain": [
       "['adventure',\n",
       " 'belles_lettres',\n",
       " 'editorial',\n",
       " 'fiction',\n",
       " 'government',\n",
       " 'hobbies',\n",
       " 'humor',\n",
       " 'learned',\n",
       " 'lore',\n",
       " 'mystery',\n",
       " 'news',\n",
       " 'religion',\n",
       " 'reviews',\n",
       " 'romance',\n",
       " 'science_fiction']"
      ]
     },
     "execution_count": 68,
     "metadata": {},
     "output_type": "execute_result"
    }
   ],
   "source": [
    "# 카테고리 출력\n",
    "brown.categories()"
   ]
  },
  {
   "cell_type": "code",
   "execution_count": 69,
   "id": "23698840-45b1-4a74-9699-c7e815279c27",
   "metadata": {},
   "outputs": [
    {
     "data": {
      "text/plain": [
       "83"
      ]
     },
     "execution_count": 69,
     "metadata": {},
     "output_type": "execute_result"
    }
   ],
   "source": [
    "# men 단어 개수\n",
    "fdist = nltk.FreqDist([w.lower() for w in brown.words(categories='adventure')])\n",
    "fdist['men']"
   ]
  },
  {
   "cell_type": "code",
   "execution_count": 74,
   "id": "ca7c1207-e90c-484d-8cf4-2071da05da14",
   "metadata": {},
   "outputs": [
    {
     "name": "stdout",
     "output_type": "stream",
     "text": [
      "can => 48\n",
      "could => 154\n",
      "will => 51\n",
      "would => 194\n",
      "may => 7\n",
      "might => 59\n"
     ]
    }
   ],
   "source": [
    "# modal verbs: 조동사 개수 구하기\n",
    "# 조동사를 리스트에 우선 담아놓고 fdist 활용하여 개수 출력\n",
    "\n",
    "modals = ['can', 'could', 'will', 'would', 'may', 'might']\n",
    "\n",
    "for verb in modals:\n",
    "    print(verb, '=>', fdist[verb])"
   ]
  },
  {
   "cell_type": "markdown",
   "id": "d21acc46-12a7-413d-b9fc-9a60de7c9654",
   "metadata": {},
   "source": [
    "### conditional frequency distribution\n",
    "- 조건에 따른 fdist"
   ]
  },
  {
   "cell_type": "code",
   "execution_count": 75,
   "id": "f4aebb1f-2682-49c0-8f12-1a46e856273e",
   "metadata": {},
   "outputs": [],
   "source": [
    "cfd = nltk.ConditionalFreqDist(\n",
    "    # 각 장르에 따른 frequency distribution을 만든다\n",
    "    (genre, word)\n",
    "    for genre in brown.categories()\n",
    "    for word in brown.words(categories=genre)\n",
    ")"
   ]
  },
  {
   "cell_type": "code",
   "execution_count": 79,
   "id": "26226893-b537-4bd1-88ae-3c573b108a2e",
   "metadata": {},
   "outputs": [
    {
     "data": {
      "text/plain": [
       "0.0004569992288138014"
      ]
     },
     "execution_count": 79,
     "metadata": {},
     "output_type": "execute_result"
    }
   ],
   "source": [
    "cfd['romance'].freq('love') #로맨스 카테고리에서의 love 등장 비율"
   ]
  },
  {
   "cell_type": "code",
   "execution_count": 76,
   "id": "dbce9f7f-b133-497b-8c6a-c73badcd27c3",
   "metadata": {},
   "outputs": [
    {
     "data": {
      "text/plain": [
       "32"
      ]
     },
     "execution_count": 76,
     "metadata": {},
     "output_type": "execute_result"
    }
   ],
   "source": [
    "cfd['romance']['love'] # 로맨스 카테고리에서의 love 개수"
   ]
  },
  {
   "cell_type": "code",
   "execution_count": 81,
   "id": "457c750a-fa14-4ef1-a601-1a122f0867a9",
   "metadata": {},
   "outputs": [
    {
     "data": {
      "image/png": "[encoded data removed]",
      "text/plain": [
       "<Figure size 432x288 with 1 Axes>"
      ]
     },
     "metadata": {
      "needs_background": "light"
     },
     "output_type": "display_data"
    },
    {
     "data": {
      "text/plain": [
       "<AxesSubplot:xlabel='Samples', ylabel='Cumulative Counts'>"
      ]
     },
     "execution_count": 81,
     "metadata": {},
     "output_type": "execute_result"
    }
   ],
   "source": [
    "cfd['romance'].plot(50, cumulative=True)\n",
    "# 로맨스 카테고리에서 빈번한 50개 단어의 개수를 이미지화"
   ]
  }
 ],
 "metadata": {
  "kernelspec": {
   "display_name": "Python 3 (ipykernel)",
   "language": "python",
   "name": "python3"
  },
  "language_info": {
   "codemirror_mode": {
    "name": "ipython",
    "version": 3
   },
   "file_extension": ".py",
   "mimetype": "text/x-python",
   "name": "python",
   "nbconvert_exporter": "python",
   "pygments_lexer": "ipython3",
   "version": "3.9.7"
  }
 },
 "nbformat": 4,
 "nbformat_minor": 5
}

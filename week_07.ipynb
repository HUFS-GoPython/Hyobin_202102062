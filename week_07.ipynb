{
 "cells": [
  {
   "cell_type": "markdown",
   "id": "d6e66f62-697f-4f51-b39b-2b293f5d68f0",
   "metadata": {},
   "source": [
    "### 함수\n",
    "1. 정의\n",
    "2. 인수\n",
    "3. 호출 방식"
   ]
  },
  {
   "cell_type": "markdown",
   "id": "fb166ad2-1cb0-4b55-90bc-b7d065def331",
   "metadata": {},
   "source": [
    "#### 1. 정의\n",
    "- 코드의 덩어리, 코드의 묶음\n",
    "- 간편하게 재사용하기 위해, 한 줄로 재사용(호출) 가능하다.\n",
    "- 정의(define) 부분 + 호출(call) 부분\n",
    "    - 정의하기\n",
    "    def 함수이름(매개변수1, 2, 3, ....):\n",
    "        수행문1 (매개변수를 이용)\n",
    "        수행문2\n",
    "        ....\n",
    "        return 반환값\n",
    "     - 호출하기\n",
    "     함수이름(인수1, 2, 3, ....)\n",
    "\n",
    "- 2 * 2 = 4\n",
    "    1. 매개변수 둘 다 없는\n",
    "    2. 둘 다 있는\n",
    "    3. 매개변수만 있는\n",
    "    4. 반환값만 있는"
   ]
  },
  {
   "cell_type": "code",
   "execution_count": null,
   "id": "4261cde8-5229-4d74-81c0-ea0ccffe1033",
   "metadata": {},
   "outputs": [],
   "source": [
    "#y = x + 1 # x = 매개변수, y = 반환값, x+1 = 수행문"
   ]
  },
  {
   "cell_type": "code",
   "execution_count": 6,
   "id": "c88398c3-1e73-4b20-8625-d721c70f3cf0",
   "metadata": {},
   "outputs": [
    {
     "name": "stdout",
     "output_type": "stream",
     "text": [
      "quack\n"
     ]
    }
   ],
   "source": [
    "# 1. 둘 다 없는 case\n",
    "def make_a_sound():\n",
    "    print('quack')\n",
    "    # return None: 생략\n",
    "    \n",
    "make_a_sound()"
   ]
  },
  {
   "cell_type": "code",
   "execution_count": 4,
   "id": "18baa9c1-1434-40b7-b01f-30a863a71db9",
   "metadata": {},
   "outputs": [
    {
     "data": {
      "text/plain": [
       "5"
      ]
     },
     "execution_count": 4,
     "metadata": {},
     "output_type": "execute_result"
    }
   ],
   "source": [
    "# 2. 둘 다 있는 case\n",
    "\n",
    "def ex(x):\n",
    "    y = x + 1\n",
    "    return y\n",
    "\n",
    "def ex(x):\n",
    "    return x + 1\n",
    "\n",
    "ex(4)"
   ]
  },
  {
   "cell_type": "code",
   "execution_count": 9,
   "id": "07285060-b052-4137-8ef8-b0a46eca7383",
   "metadata": {},
   "outputs": [
    {
     "name": "stdout",
     "output_type": "stream",
     "text": [
      "yay\n"
     ]
    }
   ],
   "source": [
    "#3. 매개변수만 있는 case\n",
    "def make_sound(sound):\n",
    "    print(sound)\n",
    "    \n",
    "make_sound('yay')"
   ]
  },
  {
   "cell_type": "code",
   "execution_count": 10,
   "id": "3555df60-8444-4ff5-9f51-412ff0b321d7",
   "metadata": {},
   "outputs": [
    {
     "name": "stdout",
     "output_type": "stream",
     "text": [
      "Splendid\n"
     ]
    }
   ],
   "source": [
    "#4. 반환값만 있는 case\n",
    "def agree():\n",
    "    return True\n",
    "\n",
    "if agree():\n",
    "    print('Splendid')\n",
    "else:\n",
    "    print('unexpected!')"
   ]
  },
  {
   "cell_type": "markdown",
   "id": "80a9bd46-2dcf-401d-a351-e0edca4ade99",
   "metadata": {},
   "source": [
    "- 이름 짓기\n",
    "    - 소문자만 사용한다\n",
    "        - splitWord??\n",
    "        - split_word 선호\n",
    "    - 동작과 관련되어 있기 때문에 \"동사+명사\"의 형태 주로 씀\n",
    "    - i.e., 클래스는 주로 명사 def word(): (X)\n",
    "    - 줄임말 쓰지 말 것, calc_xxx()은 가능, 최대한 명료하게 짓는다.\n",
    "        - splt_word (X)\n",
    "        - calculate -> calc (O)"
   ]
  },
  {
   "cell_type": "markdown",
   "id": "d9c31c0f-b374-49d2-a8d4-fec9855c371c",
   "metadata": {},
   "source": [
    "#### 2. 인수\n",
    "- 매개변수 vs 인수\n",
    "    - 매개변수: 함수 내('인터페이스')에서 유효한 변수, 함수에서 빠져나오면 유효하지 않음\n",
    "    - 인수: 실제 매개변수에 대입되는 변수\n",
    "    - 호출 시에 인수가 매개변수에 복제된다 yay -> sound\n",
    "- 위치 인수\n",
    "    - positional argument\n",
    "    - 매개변수를 값에 순서에 상응하게 복제함\n",
    "- 키워드 인수\n",
    "    - keyword argument\n",
    "    - 매개변수 키워드에 맞는 인수로 지정 => 위치 달라도 됨\n",
    "- 디폴트 인수\n",
    "    - default argument\n",
    "    - 매개변수를 정의할 때 값을 미리 지정해놓는 것\n",
    "    - 호출 시에 값이 입력되지 않으면 디폴트값을 사용\n",
    "    - 디폴트값이 언디폴트값 앞에 위치할 수는 없음"
   ]
  },
  {
   "cell_type": "code",
   "execution_count": 11,
   "id": "304d1978-373a-4351-b2c7-054b808d5938",
   "metadata": {},
   "outputs": [
    {
     "name": "stdout",
     "output_type": "stream",
     "text": [
      "yay\n"
     ]
    }
   ],
   "source": [
    "def make_a_sound(sound): # 매개변수 = sound, yay = 인수\n",
    "    print(sound)\n",
    "\n",
    "yay = 'yay'\n",
    "make_a_sound(yay)"
   ]
  },
  {
   "cell_type": "code",
   "execution_count": 12,
   "id": "ac666774-8d48-421b-9816-8a3bd32a9ec1",
   "metadata": {},
   "outputs": [
    {
     "data": {
      "text/plain": [
       "'black'"
      ]
     },
     "execution_count": 12,
     "metadata": {},
     "output_type": "execute_result"
    }
   ],
   "source": [
    "def commentary(color):\n",
    "    if color == 'g':\n",
    "        return 'green'\n",
    "    else:\n",
    "        return 'black'\n",
    "\n",
    "color = 'white'\n",
    "commentary(color)"
   ]
  },
  {
   "cell_type": "code",
   "execution_count": 13,
   "id": "9eaa3404-e66b-469d-97cc-d6f1f387d8ee",
   "metadata": {},
   "outputs": [
    {
     "name": "stdout",
     "output_type": "stream",
     "text": [
      "green\n",
      "black\n",
      "black\n"
     ]
    }
   ],
   "source": [
    "colors = ['g', 'b', 't']\n",
    "\n",
    "for color in colors:\n",
    "    print(commentary(color))"
   ]
  },
  {
   "cell_type": "code",
   "execution_count": 15,
   "id": "c775d59f-fbb9-4e2e-9312-9c74a79440eb",
   "metadata": {},
   "outputs": [
    {
     "data": {
      "text/plain": [
       "{'wine': 'a', 'entree': 'b', 'dessert': 'c'}"
      ]
     },
     "execution_count": 15,
     "metadata": {},
     "output_type": "execute_result"
    }
   ],
   "source": [
    "# 위치 인수\n",
    "def menu(wine, entree, dessert):\n",
    "    return {'wine':wine, 'entree':entree, 'dessert':dessert}\n",
    "\n",
    "menu('a', 'b', 'c')"
   ]
  },
  {
   "cell_type": "code",
   "execution_count": 16,
   "id": "76398ecd-33b1-4153-98bd-a7f91095968c",
   "metadata": {},
   "outputs": [
    {
     "data": {
      "text/plain": [
       "{'wine': 'c', 'entree': 'a', 'dessert': 'b'}"
      ]
     },
     "execution_count": 16,
     "metadata": {},
     "output_type": "execute_result"
    }
   ],
   "source": [
    "# 키워드 인수\n",
    "menu(entree = 'a', dessert = 'b', wine = 'c')"
   ]
  },
  {
   "cell_type": "code",
   "execution_count": 17,
   "id": "1f88c192-e008-4fc9-9037-b288afa3e795",
   "metadata": {},
   "outputs": [
    {
     "data": {
      "text/plain": [
       "{'wine': 'rioja', 'entree': 'egg', 'dessert': 'strawberry'}"
      ]
     },
     "execution_count": 17,
     "metadata": {},
     "output_type": "execute_result"
    }
   ],
   "source": [
    "# 디폴트 인수 - 넣으면 넣는 값이 나오고 안 넣으면 원래 정해져 있는 값이 나온다\n",
    "def menu2(wine, entree, dessert='strawberry'):\n",
    "    return {'wine':wine, 'entree':entree, 'dessert':dessert}\n",
    "menu2('rioja', 'egg')"
   ]
  },
  {
   "cell_type": "code",
   "execution_count": 18,
   "id": "2467dae4-2f97-4db1-9fc5-fbb64c581a0d",
   "metadata": {},
   "outputs": [
    {
     "data": {
      "text/plain": [
       "{'wine': 'rioja', 'entree': 'egg', 'dessert': 'kiwi'}"
      ]
     },
     "execution_count": 18,
     "metadata": {},
     "output_type": "execute_result"
    }
   ],
   "source": [
    "menu2('rioja', 'egg', 'kiwi')"
   ]
  },
  {
   "cell_type": "markdown",
   "id": "9fdb8268-f7c0-4360-884d-b76d96a90ce7",
   "metadata": {},
   "source": [
    "#### 3. 호출방식\n",
    "- 정의 부분은 호출 시 실행된다\n",
    "- 메모리에 저장되어 있다가 호출 시에 사용\n",
    "- 매개변수 vs 인수\n",
    "    - 참조에 의한 호출(call by reference)\n",
    "    - \"매개변수 = 인수\" copy되기 때문에 나타나는 문제점\n",
    "        - 리스트처럼 가변 객체일 때 주소값을 공유하므로 값이 변함"
   ]
  },
  {
   "cell_type": "code",
   "execution_count": 20,
   "id": "9d954d3f-aa38-4f28-854c-615d6360bd70",
   "metadata": {},
   "outputs": [
    {
     "name": "stdout",
     "output_type": "stream",
     "text": [
      "2\n",
      "3\n",
      "1\n",
      "4\n"
     ]
    }
   ],
   "source": [
    "def multiply(x, y):\n",
    "    print('1')\n",
    "    return x * y\n",
    "\n",
    "print('2')\n",
    "i = 2\n",
    "j = 4\n",
    "\n",
    "print('3')\n",
    "multiply(i, j) ### i=2, j=3 -> x =i, y = j -> shallow copy\n",
    "\n",
    "print('4')"
   ]
  },
  {
   "cell_type": "code",
   "execution_count": 21,
   "id": "253520f8-1db2-41fd-8ce9-0314c1b171f9",
   "metadata": {},
   "outputs": [
    {
     "name": "stdout",
     "output_type": "stream",
     "text": [
      "['a']\n",
      "['a', 'b']\n"
     ]
    }
   ],
   "source": [
    "def buggy(arg, result=[]):\n",
    "    result.append(arg)\n",
    "    print(result)\n",
    "\n",
    "a, b = 'a', 'b'\n",
    "buggy(a) # ['a']\n",
    "buggy(b) # ['b'] X, ['a', 'b']"
   ]
  },
  {
   "cell_type": "code",
   "execution_count": 22,
   "id": "4992af8e-5fd3-40cc-8411-791bdf1aa614",
   "metadata": {},
   "outputs": [
    {
     "name": "stdout",
     "output_type": "stream",
     "text": [
      "['a']\n",
      "['b']\n"
     ]
    }
   ],
   "source": [
    "def buggy(arg, result=[]):\n",
    "    result = []\n",
    "    result.append(arg)\n",
    "    print(result)\n",
    "\n",
    "a, b = 'a', 'b'\n",
    "buggy(a) \n",
    "buggy(b) "
   ]
  },
  {
   "cell_type": "code",
   "execution_count": 27,
   "id": "2f899848-2636-4a86-bf3c-2a34ed39519d",
   "metadata": {},
   "outputs": [
    {
     "name": "stdout",
     "output_type": "stream",
     "text": [
      "['c', 'a']\n",
      "['c', 'a', 'b']\n"
     ]
    }
   ],
   "source": [
    "# 둘 다 조건식으로 포함하는 함수로 변경하기\n",
    "def nonbuggy(arg, result=None):\n",
    "    # 리스트 없으면 빈리스트 생성하고, 있으면 그거 쓰기\n",
    "    if result is None: # ==(value), is(id 까지 같음)\n",
    "        result = []\n",
    "        \n",
    "    result.append(arg)\n",
    "    print(result)\n",
    "\n",
    "empty = ['c']\n",
    "nonbuggy(a, empty)\n",
    "nonbuggy(b, empty)\n",
    "\n",
    "# 없는 값, 아무것도 없다 => None"
   ]
  },
  {
   "cell_type": "code",
   "execution_count": 25,
   "id": "99de4f8f-de8b-4ea2-84fd-34f430929025",
   "metadata": {},
   "outputs": [
    {
     "name": "stdout",
     "output_type": "stream",
     "text": [
      "None\n"
     ]
    }
   ],
   "source": [
    "thing = None\n",
    "\n",
    "if thing:\n",
    "    print('True')\n",
    "elif thing == False:\n",
    "    print('False')\n",
    "else:\n",
    "    print('None')"
   ]
  },
  {
   "cell_type": "code",
   "execution_count": 33,
   "id": "1032409f-8135-4f58-b805-b7a88032eace",
   "metadata": {},
   "outputs": [
    {
     "name": "stdout",
     "output_type": "stream",
     "text": [
      "london\n",
      "london == london?\n"
     ]
    }
   ],
   "source": [
    "def fx():\n",
    "    global city # 전역변수\n",
    "    city = 'london' # 지역변수\n",
    "    print(city)\n",
    "\n",
    "city = 'paris'\n",
    "fx()\n",
    "print(city, '== london?')"
   ]
  },
  {
   "cell_type": "code",
   "execution_count": 35,
   "id": "92bc11b8-7eb2-4993-9912-e5f65ff0b0d6",
   "metadata": {},
   "outputs": [
    {
     "data": {
      "text/plain": [
       "'seoul'"
      ]
     },
     "execution_count": 35,
     "metadata": {},
     "output_type": "execute_result"
    }
   ],
   "source": [
    "city = 'seoul'\n",
    "city"
   ]
  },
  {
   "cell_type": "code",
   "execution_count": 32,
   "id": "6317a378-cf91-4f1a-a265-7d2f3f263727",
   "metadata": {},
   "outputs": [
    {
     "name": "stdout",
     "output_type": "stream",
     "text": [
      "london\n",
      "paris == london?\n"
     ]
    }
   ],
   "source": [
    "def fx():\n",
    "    city = 'london' # 지역변수\n",
    "    print(city)\n",
    "\n",
    "city = 'paris'\n",
    "fx()\n",
    "print(city, '== london?')"
   ]
  },
  {
   "cell_type": "markdown",
   "id": "72b87774-2ff1-40c7-80da-d91f389ff44d",
   "metadata": {},
   "source": [
    "#### doc string\n",
    "- 함수 설명\n",
    "- 매개변수 타입, 의미, 함수 기능\n",
    "- \"\"\"\n",
    "    - 독스트링\n",
    "- \"\"\""
   ]
  },
  {
   "cell_type": "code",
   "execution_count": 1,
   "id": "25f83536-1836-4ad3-815d-e8d1720ebdc2",
   "metadata": {},
   "outputs": [
    {
     "name": "stdout",
     "output_type": "stream",
     "text": [
      "london\n",
      "paris == london?\n"
     ]
    }
   ],
   "source": [
    "def buggy():\n",
    "    \"\"\"\n",
    "    arg: str, 도시 이름\n",
    "    result: list, xxxx\n",
    "    꽃 이름을 리스트에 추가한다\n",
    "    \"\"\"\n",
    "    city = 'london' # 지역변수\n",
    "    print(city)\n",
    "\n",
    "city = 'paris'\n",
    "buggy()\n",
    "print(city, '== london?')"
   ]
  },
  {
   "cell_type": "code",
   "execution_count": 2,
   "id": "3980219e-3422-421c-b1f2-c79609f5a436",
   "metadata": {},
   "outputs": [
    {
     "name": "stdout",
     "output_type": "stream",
     "text": [
      "Help on function buggy in module __main__:\n",
      "\n",
      "buggy()\n",
      "    arg: str, 도시 이름\n",
      "    result: list, xxxx\n",
      "    꽃 이름을 리스트에 추가한다\n",
      "\n"
     ]
    }
   ],
   "source": [
    "# 독스트링 확인\n",
    "help(buggy)"
   ]
  },
  {
   "cell_type": "code",
   "execution_count": 6,
   "id": "6ff5d150-7c46-4ff3-a9c4-8e1f4e633576",
   "metadata": {},
   "outputs": [
    {
     "data": {
      "text/plain": [
       "'\\n    arg: str, 도시 이름\\n    result: list, xxxx\\n    꽃 이름을 리스트에 추가한다\\n    '"
      ]
     },
     "execution_count": 6,
     "metadata": {},
     "output_type": "execute_result"
    }
   ],
   "source": [
    "buggy.__doc__"
   ]
  },
  {
   "cell_type": "code",
   "execution_count": null,
   "id": "9130e958-c7d4-44fa-bfbe-739634233ae0",
   "metadata": {},
   "outputs": [],
   "source": [
    "# 나이 -> 연도\n",
    "# 함수: 입력값 = 나이, 반환값 = 연도\n",
    "# 나이 = input"
   ]
  },
  {
   "cell_type": "code",
   "execution_count": 55,
   "id": "deca81d6-bd93-44af-98f5-4ffcc2e3e5a2",
   "metadata": {},
   "outputs": [
    {
     "name": "stdin",
     "output_type": "stream",
     "text": [
      "나이를 입력하시오:  22\n"
     ]
    },
    {
     "name": "stdout",
     "output_type": "stream",
     "text": [
      "2001\n"
     ]
    }
   ],
   "source": [
    "def age_year(age):\n",
    "    this_year = 2022\n",
    "    return this_year - age + 1\n",
    "\n",
    "age = int(input('나이를 입력하시오: '))   \n",
    "print(age_year(age))\n",
    "\n",
    "## 변수명 주의! 다른 사람도 알아보기 쉬운 변수명으로 지정!"
   ]
  },
  {
   "cell_type": "markdown",
   "id": "28198257-e20b-44d3-b0e9-7d71ea5d1c1f",
   "metadata": {},
   "source": [
    "### 브라운 정제하기\n",
    "1. 문장 분절\n",
    "2. 단어 분절\n",
    "    3. 문장부호 제거\n",
    "    4. 하이픈, 's, 'nt, 'd....\n",
    "3. 위의 것을 함수로 만들어라"
   ]
  },
  {
   "cell_type": "code",
   "execution_count": 58,
   "id": "1ded5e88-c59f-4e50-a110-84734b1b0aac",
   "metadata": {
    "collapsed": true,
    "jupyter": {
     "outputs_hidden": true
    },
    "tags": []
   },
   "outputs": [
    {
     "name": "stderr",
     "output_type": "stream",
     "text": [
      "[nltk_data] Downloading package brown to\n",
      "[nltk_data]     C:\\Users\\hyobi\\AppData\\Roaming\\nltk_data...\n",
      "[nltk_data]   Package brown is already up-to-date!\n"
     ]
    },
    {
     "data": {
      "text/plain": [
       "\"\\n\\n\\tThey/ppss neither/cc liked/vbd nor/cc disliked/vbd the/at Old/jj-tl Man/nn-tl ./.\\nTo/in them/ppo he/pps could/md have/hv been/ben the/at broken/vbn bell/nn in/in the/at church/nn tower/nn which/wdt rang/vbd before/in and/cc after/in Mass/nn-tl ,/, and/cc at/in noon/nn ,/, and/cc at/in six/cd each/dt evening/nn --/-- its/pp$ tone/nn ,/, repetitive/jj ,/, monotonous/jj ,/, never/rb breaking/vbg the/at boredom/nn of/in the/at streets/nns ./.\\nThe/at Old/jj-tl Man/nn-tl was/bedz unimportant/jj ./.\\n\\n\\n\\tYet/rb if/cs he/pps were/bed not/* there/rb ,/, they/ppss would/md have/hv missed/vbn him/ppo ,/, as/cs they/ppss would/md have/hv missed/vbn the/at sounds/nns of/in bees/nns buzzing/vbg against/in the/at screen/nn door/nn in/in early/jj June/np ;/. ;/.\\nor/cc the/at smell/nn of/in thick/jj tomato/nn paste/nn --/-- the/at ripe/jj smell/nn that/wps was/bedz both/abx sweet/jj and/cc sour/jj --/-- rising/vbg up/rp from/in aluminum/nn trays/nns wrapped/vbn in/in fly-dotted/jj cheesecloth/nn ./.\\nOr/cc the/at surging/vbg whirling/vbg sounds/nns of/in bats/nns at/in night/nn ,/, when/wrb their/pp$ black/jj bodies/nns dived/vbd into/in the/at blackness/nn above/in and/cc below/in the/at amber/jj street/nn lights/nns ./.\\nOr/cc the/at bay/nn of/in female/nn dogs/nns in/in heat/nn ./.\\n\\n\\n\\tThey/ppss never/rb called/vbd him/ppo by/in name/nn ,/, although/cs he/pps had/hvd one/pn ./.\\nFilippo/np Rossi/np ,/, that's/dt+bez what/wdt he/pps was/bedz called/vbn in/in the/at old/jj country/nn ;/. ;/.\\nbut/cc here/rb he/pps was/bedz just/rb Signore/np or/cc the/at Old/jj-tl Man/nn-tl ./.\\nBut/cc this/dt was/bedz not/* unusual/jj ,/, because/cs youth/nn in/in these/dts quarters/nns was/bedz always/rb pushed/vbn at/in a/at distance/nn from/in its/pp$ elders/nns ./.\\nYouth/nn obeyed/vbd when/wrb commanded/vbn ./.\\nIt/pps went/vbd to/in church/nn on/in Sunday/nr and/cc one/cd Saturday/nr a/at month/nn went/vbd to/in confession/nn ./.\\nBut/cc youth/nn asked/vbd nothing/pn of/in its/pp$ parents/nns --/-- not/* a/at touch/nn of/in the/at hand/nn or/cc a/at kiss/nn given/vbn in/in passing/vbg ./.\\n\\n\\n\\tThe/at only/ap thing/nn unusual/jj about/in the/at Old/jj-tl Man/nn-tl had/hvd long/jj since/rb happened/vbn ./.\\nBut/cc the/at past/nn was/bedz dead/jj here/rb as/cs the/at present/jj was/bedz dead/jj ./.\\nOnce/cs the/at Old/jj-tl Man/nn-tl had/hvd had/hvn a/at wife/nn ./.\\nAnd/cc once/cs she/pps ,/, too/rb ,/, ignored/vbd him/ppo ./.\\nWith/in a/at tiny/jj fur-piece/nn wrapped/vbd around/in her/pp$ shoulders/nns ,/, she/pps wiggled/vbd her/pp$ satin-covered/jj buttocks/nns down/in the/at street/nn before/in him/ppo and/cc didn't/dod* stop/vb ./.\\nIn/in one/cd hand/nn she/pps clutched/vbd a/at hundred/cd dollar/nn bill/nn and/cc in/in the/at other/ap a/at straw/nn suitcase/nn ./.\\nThe/at way/nn she/pps strutted/vbd down/in the/at street/nn ,/, the/at Old/jj-tl Man/nn-tl would/md have/hv been/ben blind/jj not/* to/to have/hv noticed/vbn both/abx ./.\\nWithout/in looking/vbg at/in him/ppo ,/, without/in looking/vbg at/in anything/pn except/in Drexel/np-tl Street/nn-tl directly/rb in/in front/nn of/in her/ppo ,/, she/pps climbed/vbd up/rp into/in one/cd of/in those/dts orange/jj streetcars/nns ,/, rode/vbd away/rb in/in it/ppo ,/, and/cc never/rb came/vbd back/rb ./.\\n\\n\\n\\t``/`` But/cc she/pps shouldn't/md* have/hv come/vbn here/rb in/in the/at first/od place/nn ''/'' ,/, the/at women/nns had/hvd said/vbn ./.\\n\\n\\n\\t``/`` No/rb ,/, no/rb ./.\\nNot/* that/dt one/pn ./.\\nShe/pps thought/vbd she/pps was/bedz bigger/jjr than/cs we/ppss are/ber because/cs she/pps came/vbd from/in Torino/np ''/'' ./.\\n\\n\\n\\t``/`` Eh/uh ,/, Torino/np !/. !/.\\nShe/pps gave/vbd herself/ppl fancy/jj airs/nns !/. !/.\\nJust/rb because/cs she/pps had/hvd a/at part/nn on/in the/at stage/nn in/in the/at old/jj country/nn ,/, she/pps thought/vbd she/pps could/md carry/vb her/pp$ head/nn higher/rbr than/cs ours/pp$$ ''/'' ./.\\nThey/ppss had/hvd slapped/vbn their/pp$ thighs/nns ./.\\n\\n\\n\\t``/`` It's/pps+bez not/* for/in making/vbg pretty/jj speeches/nns about/in Dante/np those/dts actresses/nns get/vb paid/vbn so/ql good/rb ''/'' ./.\\n\\n\\n\\t``/`` Henh/uh ''/'' !/. !/.\\nCalloused/vbn fingers/nns ,/, caressed/vbn only/rb by/in the/at smoothness/nn of/in polished/vbn rosaries/nns ,/, had/hvd swayed/vbn excitedly/rb beneath/in puckered/vbn chins/nns where/wrb tiny/jj black/jj hairs/nns sprouted/vbd ,/, never/rb to/to be/be tweezed/vbn away/rb ./.\\nMauve-colored/jj mouths/nns that/wps had/hvd never/rb known/vbn anything/pn sweeter/jjr than/cs the/at taste/nn of/in new/jj wine/nn and/cc the/at passion/nn of/in man's/nn$ tongue/nn had/hvd not/* smiled/vbn ,/, but/cc had/hvd condemned/vbn again/rb and/cc again/rb ./.\\n``/`` Puttana/fw-nn ''/'' !/. !/.\\n\\n\\n\\tBut/cc if/cs the/at Old/jj-tl Man/nn-tl even/rb thought/vbd about/in his/pp$ wife/nn now/rb ,/, nobody/pn cared/vbd a/at fig/nn ./.\\nIt/pps was/bedz enough/ap for/in people/nns to/to know/vb that/cs at/in one/cd time/nn he/pps had/hvd looked/vbn down/in the/at street/nn at/in the/at f\""
      ]
     },
     "execution_count": 58,
     "metadata": {},
     "output_type": "execute_result"
    }
   ],
   "source": [
    "import string\n",
    "import nltk\n",
    "\n",
    "nltk.download('brown')\n",
    "brown = nltk.corpus.brown\n",
    "romance = brown.raw(categories = 'romance')[:5000]\n",
    "romance\n"
   ]
  },
  {
   "cell_type": "code",
   "execution_count": 66,
   "id": "d23ba9c3-1258-4687-9b29-7eed0d056bc7",
   "metadata": {},
   "outputs": [
    {
     "data": {
      "text/plain": [
       "'They/ppss neither/cc liked/vbd nor/cc disliked/vbd the/at Old/jj-tl Man/nn-tl .'"
      ]
     },
     "execution_count": 66,
     "metadata": {},
     "output_type": "execute_result"
    }
   ],
   "source": [
    "sentences = [sent.strip() for sent in romance.split('/.')]\n",
    "sentences = [s for s in sentences if s != '!']\n",
    "sentences[0]"
   ]
  },
  {
   "cell_type": "code",
   "execution_count": 67,
   "id": "10840a76-be23-4b57-b226-79af92da6b19",
   "metadata": {},
   "outputs": [
    {
     "data": {
      "text/plain": [
       "['``/`` Eh/uh ,/, Torino/np !',\n",
       " 'She/pps gave/vbd herself/ppl fancy/jj airs/nns !',\n",
       " \"``/`` Henh/uh ''/'' !\",\n",
       " \"``/`` Puttana/fw-nn ''/'' !\"]"
      ]
     },
     "execution_count": 67,
     "metadata": {},
     "output_type": "execute_result"
    }
   ],
   "source": [
    "[s for s in sentences if '!' in s if s != '!']"
   ]
  },
  {
   "cell_type": "markdown",
   "id": "4e7c072b-dcbb-483c-877f-b8643fb6ee9c",
   "metadata": {},
   "source": [
    "### 단어 분절\n",
    "- sentences -> POS 제거, 단어 분절"
   ]
  },
  {
   "cell_type": "code",
   "execution_count": 71,
   "id": "304fecc2-de6d-4031-938b-4445080d1168",
   "metadata": {},
   "outputs": [
    {
     "data": {
      "text/plain": [
       "['They', 'neither', 'liked', 'nor', 'disliked', 'the', 'Old', 'Man', '.']"
      ]
     },
     "execution_count": 71,
     "metadata": {},
     "output_type": "execute_result"
    }
   ],
   "source": [
    "example = sentences[0]\n",
    "[word[:word.find('/')] if word[:word.find('/')] else word for word in example.split()]"
   ]
  },
  {
   "cell_type": "markdown",
   "id": "94fbe8b3-982a-4cd2-be72-49be2ab79ec5",
   "metadata": {},
   "source": [
    "### punctuations"
   ]
  },
  {
   "cell_type": "code",
   "execution_count": 108,
   "id": "0be15983-20d8-489a-8ca3-dba346c3f228",
   "metadata": {
    "collapsed": true,
    "jupyter": {
     "outputs_hidden": true
    },
    "tags": []
   },
   "outputs": [
    {
     "data": {
      "text/plain": [
       "['!',\n",
       " '\"',\n",
       " '#',\n",
       " '$',\n",
       " '%',\n",
       " '&',\n",
       " \"'\",\n",
       " '(',\n",
       " ')',\n",
       " '*',\n",
       " '+',\n",
       " ',',\n",
       " '-',\n",
       " '.',\n",
       " '/',\n",
       " ':',\n",
       " ';',\n",
       " '<',\n",
       " '=',\n",
       " '>',\n",
       " '?',\n",
       " '@',\n",
       " '[',\n",
       " '\\\\',\n",
       " ']',\n",
       " '^',\n",
       " '_',\n",
       " '`',\n",
       " '{',\n",
       " '|',\n",
       " '}',\n",
       " '~']"
      ]
     },
     "execution_count": 108,
     "metadata": {},
     "output_type": "execute_result"
    }
   ],
   "source": [
    "pucnt = list(string.punctuation)\n",
    "pucnt"
   ]
  },
  {
   "cell_type": "code",
   "execution_count": 109,
   "id": "da81516d-999a-4213-8ce5-925555abec90",
   "metadata": {
    "collapsed": true,
    "jupyter": {
     "outputs_hidden": true
    },
    "tags": []
   },
   "outputs": [
    {
     "data": {
      "text/plain": [
       "[['They', 'neither', 'liked', 'nor', 'disliked', 'the', 'Old', 'Man'],\n",
       " ['To',\n",
       "  'them',\n",
       "  'he',\n",
       "  'could',\n",
       "  'have',\n",
       "  'been',\n",
       "  'the',\n",
       "  'broken',\n",
       "  'bell',\n",
       "  'in',\n",
       "  'the',\n",
       "  'church',\n",
       "  'tower',\n",
       "  'which',\n",
       "  'rang',\n",
       "  'before',\n",
       "  'and',\n",
       "  'after',\n",
       "  'Mass',\n",
       "  'and',\n",
       "  'at',\n",
       "  'noon',\n",
       "  'and',\n",
       "  'at',\n",
       "  'six',\n",
       "  'each',\n",
       "  'evening',\n",
       "  '--',\n",
       "  'its',\n",
       "  'tone',\n",
       "  'repetitive',\n",
       "  'monotonous',\n",
       "  'never',\n",
       "  'breaking',\n",
       "  'the',\n",
       "  'boredom',\n",
       "  'of',\n",
       "  'the',\n",
       "  'streets'],\n",
       " ['The', 'Old', 'Man', 'was', 'unimportant'],\n",
       " ['Yet',\n",
       "  'if',\n",
       "  'he',\n",
       "  'were',\n",
       "  'not',\n",
       "  'there',\n",
       "  'they',\n",
       "  'would',\n",
       "  'have',\n",
       "  'missed',\n",
       "  'him',\n",
       "  'as',\n",
       "  'they',\n",
       "  'would',\n",
       "  'have',\n",
       "  'missed',\n",
       "  'the',\n",
       "  'sounds',\n",
       "  'of',\n",
       "  'bees',\n",
       "  'buzzing',\n",
       "  'against',\n",
       "  'the',\n",
       "  'screen',\n",
       "  'door',\n",
       "  'in',\n",
       "  'early',\n",
       "  'June'],\n",
       " [],\n",
       " ['or',\n",
       "  'the',\n",
       "  'smell',\n",
       "  'of',\n",
       "  'thick',\n",
       "  'tomato',\n",
       "  'paste',\n",
       "  '--',\n",
       "  'the',\n",
       "  'ripe',\n",
       "  'smell',\n",
       "  'that',\n",
       "  'was',\n",
       "  'both',\n",
       "  'sweet',\n",
       "  'and',\n",
       "  'sour',\n",
       "  '--',\n",
       "  'rising',\n",
       "  'up',\n",
       "  'from',\n",
       "  'aluminum',\n",
       "  'trays',\n",
       "  'wrapped',\n",
       "  'in',\n",
       "  'fly-dotted',\n",
       "  'cheesecloth'],\n",
       " ['Or',\n",
       "  'the',\n",
       "  'surging',\n",
       "  'whirling',\n",
       "  'sounds',\n",
       "  'of',\n",
       "  'bats',\n",
       "  'at',\n",
       "  'night',\n",
       "  'when',\n",
       "  'their',\n",
       "  'black',\n",
       "  'bodies',\n",
       "  'dived',\n",
       "  'into',\n",
       "  'the',\n",
       "  'blackness',\n",
       "  'above',\n",
       "  'and',\n",
       "  'below',\n",
       "  'the',\n",
       "  'amber',\n",
       "  'street',\n",
       "  'lights'],\n",
       " ['Or', 'the', 'bay', 'of', 'female', 'dogs', 'in', 'heat'],\n",
       " ['They',\n",
       "  'never',\n",
       "  'called',\n",
       "  'him',\n",
       "  'by',\n",
       "  'name',\n",
       "  'although',\n",
       "  'he',\n",
       "  'had',\n",
       "  'one'],\n",
       " ['Filippo',\n",
       "  'Rossi',\n",
       "  \"that's\",\n",
       "  'what',\n",
       "  'he',\n",
       "  'was',\n",
       "  'called',\n",
       "  'in',\n",
       "  'the',\n",
       "  'old',\n",
       "  'country'],\n",
       " [],\n",
       " ['but', 'here', 'he', 'was', 'just', 'Signore', 'or', 'the', 'Old', 'Man'],\n",
       " ['But',\n",
       "  'this',\n",
       "  'was',\n",
       "  'not',\n",
       "  'unusual',\n",
       "  'because',\n",
       "  'youth',\n",
       "  'in',\n",
       "  'these',\n",
       "  'quarters',\n",
       "  'was',\n",
       "  'always',\n",
       "  'pushed',\n",
       "  'at',\n",
       "  'a',\n",
       "  'distance',\n",
       "  'from',\n",
       "  'its',\n",
       "  'elders'],\n",
       " ['Youth', 'obeyed', 'when', 'commanded'],\n",
       " ['It',\n",
       "  'went',\n",
       "  'to',\n",
       "  'church',\n",
       "  'on',\n",
       "  'Sunday',\n",
       "  'and',\n",
       "  'one',\n",
       "  'Saturday',\n",
       "  'a',\n",
       "  'month',\n",
       "  'went',\n",
       "  'to',\n",
       "  'confession'],\n",
       " ['But',\n",
       "  'youth',\n",
       "  'asked',\n",
       "  'nothing',\n",
       "  'of',\n",
       "  'its',\n",
       "  'parents',\n",
       "  '--',\n",
       "  'not',\n",
       "  'a',\n",
       "  'touch',\n",
       "  'of',\n",
       "  'the',\n",
       "  'hand',\n",
       "  'or',\n",
       "  'a',\n",
       "  'kiss',\n",
       "  'given',\n",
       "  'in',\n",
       "  'passing'],\n",
       " ['The',\n",
       "  'only',\n",
       "  'thing',\n",
       "  'unusual',\n",
       "  'about',\n",
       "  'the',\n",
       "  'Old',\n",
       "  'Man',\n",
       "  'had',\n",
       "  'long',\n",
       "  'since',\n",
       "  'happened'],\n",
       " ['But',\n",
       "  'the',\n",
       "  'past',\n",
       "  'was',\n",
       "  'dead',\n",
       "  'here',\n",
       "  'as',\n",
       "  'the',\n",
       "  'present',\n",
       "  'was',\n",
       "  'dead'],\n",
       " ['Once', 'the', 'Old', 'Man', 'had', 'had', 'a', 'wife'],\n",
       " ['And', 'once', 'she', 'too', 'ignored', 'him'],\n",
       " ['With',\n",
       "  'a',\n",
       "  'tiny',\n",
       "  'fur-piece',\n",
       "  'wrapped',\n",
       "  'around',\n",
       "  'her',\n",
       "  'shoulders',\n",
       "  'she',\n",
       "  'wiggled',\n",
       "  'her',\n",
       "  'satin-covered',\n",
       "  'buttocks',\n",
       "  'down',\n",
       "  'the',\n",
       "  'street',\n",
       "  'before',\n",
       "  'him',\n",
       "  'and',\n",
       "  \"didn't\",\n",
       "  'stop'],\n",
       " ['In',\n",
       "  'one',\n",
       "  'hand',\n",
       "  'she',\n",
       "  'clutched',\n",
       "  'a',\n",
       "  'hundred',\n",
       "  'dollar',\n",
       "  'bill',\n",
       "  'and',\n",
       "  'in',\n",
       "  'the',\n",
       "  'other',\n",
       "  'a',\n",
       "  'straw',\n",
       "  'suitcase'],\n",
       " ['The',\n",
       "  'way',\n",
       "  'she',\n",
       "  'strutted',\n",
       "  'down',\n",
       "  'the',\n",
       "  'street',\n",
       "  'the',\n",
       "  'Old',\n",
       "  'Man',\n",
       "  'would',\n",
       "  'have',\n",
       "  'been',\n",
       "  'blind',\n",
       "  'not',\n",
       "  'to',\n",
       "  'have',\n",
       "  'noticed',\n",
       "  'both'],\n",
       " ['Without',\n",
       "  'looking',\n",
       "  'at',\n",
       "  'him',\n",
       "  'without',\n",
       "  'looking',\n",
       "  'at',\n",
       "  'anything',\n",
       "  'except',\n",
       "  'Drexel',\n",
       "  'Street',\n",
       "  'directly',\n",
       "  'in',\n",
       "  'front',\n",
       "  'of',\n",
       "  'her',\n",
       "  'she',\n",
       "  'climbed',\n",
       "  'up',\n",
       "  'into',\n",
       "  'one',\n",
       "  'of',\n",
       "  'those',\n",
       "  'orange',\n",
       "  'streetcars',\n",
       "  'rode',\n",
       "  'away',\n",
       "  'in',\n",
       "  'it',\n",
       "  'and',\n",
       "  'never',\n",
       "  'came',\n",
       "  'back'],\n",
       " ['``',\n",
       "  'But',\n",
       "  'she',\n",
       "  \"shouldn't\",\n",
       "  'have',\n",
       "  'come',\n",
       "  'here',\n",
       "  'in',\n",
       "  'the',\n",
       "  'first',\n",
       "  'place',\n",
       "  \"''\",\n",
       "  'the',\n",
       "  'women',\n",
       "  'had',\n",
       "  'said'],\n",
       " ['``', 'No', 'no'],\n",
       " ['Not', 'that', 'one'],\n",
       " ['She',\n",
       "  'thought',\n",
       "  'she',\n",
       "  'was',\n",
       "  'bigger',\n",
       "  'than',\n",
       "  'we',\n",
       "  'are',\n",
       "  'because',\n",
       "  'she',\n",
       "  'came',\n",
       "  'from',\n",
       "  'Torino',\n",
       "  \"''\"],\n",
       " ['``', 'Eh', 'Torino'],\n",
       " ['She', 'gave', 'herself', 'fancy', 'airs'],\n",
       " ['Just',\n",
       "  'because',\n",
       "  'she',\n",
       "  'had',\n",
       "  'a',\n",
       "  'part',\n",
       "  'on',\n",
       "  'the',\n",
       "  'stage',\n",
       "  'in',\n",
       "  'the',\n",
       "  'old',\n",
       "  'country',\n",
       "  'she',\n",
       "  'thought',\n",
       "  'she',\n",
       "  'could',\n",
       "  'carry',\n",
       "  'her',\n",
       "  'head',\n",
       "  'higher',\n",
       "  'than',\n",
       "  'ours',\n",
       "  \"''\"],\n",
       " ['They', 'had', 'slapped', 'their', 'thighs'],\n",
       " ['``',\n",
       "  \"It's\",\n",
       "  'not',\n",
       "  'for',\n",
       "  'making',\n",
       "  'pretty',\n",
       "  'speeches',\n",
       "  'about',\n",
       "  'Dante',\n",
       "  'those',\n",
       "  'actresses',\n",
       "  'get',\n",
       "  'paid',\n",
       "  'so',\n",
       "  'good',\n",
       "  \"''\"],\n",
       " ['``', 'Henh', \"''\"],\n",
       " ['Calloused',\n",
       "  'fingers',\n",
       "  'caressed',\n",
       "  'only',\n",
       "  'by',\n",
       "  'the',\n",
       "  'smoothness',\n",
       "  'of',\n",
       "  'polished',\n",
       "  'rosaries',\n",
       "  'had',\n",
       "  'swayed',\n",
       "  'excitedly',\n",
       "  'beneath',\n",
       "  'puckered',\n",
       "  'chins',\n",
       "  'where',\n",
       "  'tiny',\n",
       "  'black',\n",
       "  'hairs',\n",
       "  'sprouted',\n",
       "  'never',\n",
       "  'to',\n",
       "  'be',\n",
       "  'tweezed',\n",
       "  'away'],\n",
       " ['Mauve-colored',\n",
       "  'mouths',\n",
       "  'that',\n",
       "  'had',\n",
       "  'never',\n",
       "  'known',\n",
       "  'anything',\n",
       "  'sweeter',\n",
       "  'than',\n",
       "  'the',\n",
       "  'taste',\n",
       "  'of',\n",
       "  'new',\n",
       "  'wine',\n",
       "  'and',\n",
       "  'the',\n",
       "  'passion',\n",
       "  'of',\n",
       "  \"man's\",\n",
       "  'tongue',\n",
       "  'had',\n",
       "  'not',\n",
       "  'smiled',\n",
       "  'but',\n",
       "  'had',\n",
       "  'condemned',\n",
       "  'again',\n",
       "  'and',\n",
       "  'again'],\n",
       " ['``', 'Puttana', \"''\"],\n",
       " ['But',\n",
       "  'if',\n",
       "  'the',\n",
       "  'Old',\n",
       "  'Man',\n",
       "  'even',\n",
       "  'thought',\n",
       "  'about',\n",
       "  'his',\n",
       "  'wife',\n",
       "  'now',\n",
       "  'nobody',\n",
       "  'cared',\n",
       "  'a',\n",
       "  'fig'],\n",
       " ['It',\n",
       "  'was',\n",
       "  'enough',\n",
       "  'for',\n",
       "  'people',\n",
       "  'to',\n",
       "  'know',\n",
       "  'that',\n",
       "  'at',\n",
       "  'one',\n",
       "  'time',\n",
       "  'he',\n",
       "  'had',\n",
       "  'looked',\n",
       "  'down',\n",
       "  'the',\n",
       "  'street',\n",
       "  'at',\n",
       "  'the',\n",
       "  'f']]"
      ]
     },
     "execution_count": 109,
     "metadata": {},
     "output_type": "execute_result"
    }
   ],
   "source": [
    "# 문장분절 -> 단어분절\n",
    "# 괄호 위치 조심하기 - 자주 틀리는 부분\n",
    "[[word for word in sent if word not in pucnt] for sent in sentence_tokens]"
   ]
  },
  {
   "cell_type": "code",
   "execution_count": 111,
   "id": "ad1dbf46-be4b-4f8f-8058-7d23971182b0",
   "metadata": {},
   "outputs": [
    {
     "data": {
      "text/plain": [
       "('she', \"'s\")"
      ]
     },
     "execution_count": 111,
     "metadata": {},
     "output_type": "execute_result"
    }
   ],
   "source": [
    "# 하이픈 fur-piece\n",
    "'fur-piece'.split('-')\n",
    "\n",
    "# apostrophe 's\n",
    "word = 'she\\'s'\n",
    "index = word.find('\\'')\n",
    "word[:index], word[index:]\n",
    "\n",
    "# word'word\n",
    "    # 's, 'nt, 'd -> 조건1\n",
    "    # 나머지는 그냥 붙인다"
   ]
  },
  {
   "cell_type": "code",
   "execution_count": null,
   "id": "24c40123-0dbf-4d0f-82f9-5da0335c483b",
   "metadata": {},
   "outputs": [],
   "source": [
    "for word\n",
    "    list_sent.extend()"
   ]
  },
  {
   "cell_type": "code",
   "execution_count": 118,
   "id": "ef204db2-4429-471f-9998-0612a9da1d0e",
   "metadata": {},
   "outputs": [
    {
     "data": {
      "text/plain": [
       "'They/ppss neither/cc liked/vbd nor/cc disliked/vbd the/at Old/jj-tl Man/nn-tl .'"
      ]
     },
     "execution_count": 118,
     "metadata": {},
     "output_type": "execute_result"
    }
   ],
   "source": [
    "# 함수로 만들기\n",
    "\n",
    "\n",
    "def tokenize_word(text):\n",
    "    token_list = text\n",
    "    for word in text:\n",
    "        word.replace(word[word.find('/'):], '')\n",
    "    return token_list\n",
    "\n",
    "tokenize_word(example)"
   ]
  },
  {
   "cell_type": "code",
   "execution_count": 121,
   "id": "a7795dd8-1450-4fc8-b9b5-cfae0c0c2c60",
   "metadata": {},
   "outputs": [
    {
     "data": {
      "text/plain": [
       "['They', 'neither', 'liked', 'nor', 'disliked', 'the', 'Old', 'Man']"
      ]
     },
     "execution_count": 121,
     "metadata": {},
     "output_type": "execute_result"
    }
   ],
   "source": [
    "# POS 제거\n",
    "def tokenize_word(sentence):\n",
    "    return [word[:word.find('/')] for word in sentence.split() if '/' in word and word not in pucnt]\n",
    "\n",
    "tokenize_word(sentences[0])"
   ]
  }
 ],
 "metadata": {
  "kernelspec": {
   "display_name": "Python 3 (ipykernel)",
   "language": "python",
   "name": "python3"
  },
  "language_info": {
   "codemirror_mode": {
    "name": "ipython",
    "version": 3
   },
   "file_extension": ".py",
   "mimetype": "text/x-python",
   "name": "python",
   "nbconvert_exporter": "python",
   "pygments_lexer": "ipython3",
   "version": "3.9.7"
  }
 },
 "nbformat": 4,
 "nbformat_minor": 5
}

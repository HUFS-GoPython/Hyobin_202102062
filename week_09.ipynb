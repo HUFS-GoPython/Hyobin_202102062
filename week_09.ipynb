{
 "cells": [
  {
   "cell_type": "markdown",
   "id": "52c36c45-b16f-4fee-b11a-2a727851d5fc",
   "metadata": {},
   "source": [
    "## Dictionary\n",
    "- 영어 사전\n",
    "    - 단어: 뜻\n",
    "    - 키: 값\n",
    "    - 순서가 없다 => 인덱싱 불가능, 오프셋 없음\n",
    "    - 키로 값을 찾는다\n",
    "        - 키는 중복되지 않는 고유한 값\n",
    "    - 가변: 수정, 삭제, 추가 가능\n",
    "    - 타입: dict\n",
    "    - 형변환: dict()\n",
    "    - 중괄호 사용 {}, 콤마로 구분함\n",
    "    - 값에 다양한 자료구조가 올 수 있음\n",
    "        - a: 1, a: [1,2,3,4]\n",
    "        "
   ]
  },
  {
   "cell_type": "code",
   "execution_count": 1,
   "id": "fdf62f89-b193-41ae-a762-b3dda9fe969b",
   "metadata": {},
   "outputs": [
    {
     "data": {
      "text/plain": [
       "set"
      ]
     },
     "execution_count": 1,
     "metadata": {},
     "output_type": "execute_result"
    }
   ],
   "source": [
    "empty = dict()\n",
    "empty = {}\n",
    "# set {}\n",
    "empty = {} # dict type\n",
    "empty = set()\n",
    "type(empty)"
   ]
  },
  {
   "cell_type": "code",
   "execution_count": 2,
   "id": "67876423-c022-498a-8f8c-2d48a1826854",
   "metadata": {},
   "outputs": [
    {
     "data": {
      "text/plain": [
       "{1: 'apple', 2: 'banana', 3: 'kiwi'}"
      ]
     },
     "execution_count": 2,
     "metadata": {},
     "output_type": "execute_result"
    }
   ],
   "source": [
    "a = {1,2,3} # set\n",
    "a = {1:'apple', 2:'banana', 3:'kiwi'} # dict\n",
    "a"
   ]
  },
  {
   "cell_type": "code",
   "execution_count": 3,
   "id": "6fdff9a7-6a37-41b5-902a-5a98ae794be0",
   "metadata": {},
   "outputs": [
    {
     "data": {
      "text/plain": [
       "{'apple': 'a', 'banana': 'b', 'kiwi': 'c'}"
      ]
     },
     "execution_count": 3,
     "metadata": {},
     "output_type": "execute_result"
    }
   ],
   "source": [
    "b = {'':'', '':'', '':''}\n",
    "b = dict(apple='a', banana='b', kiwi='c')\n",
    "b"
   ]
  },
  {
   "cell_type": "code",
   "execution_count": null,
   "id": "e30bb14f-5d09-4fd8-ac5d-5ebdd03171d7",
   "metadata": {},
   "outputs": [],
   "source": [
    "# 출석부로 딕셔너리 만들기\n",
    "이름, 학번=key(중복없는 값), 학과\n",
    "james 202201 경제학과\n",
    "laura 202203 스페인어과\n",
    "louis 202202 컴공과"
   ]
  },
  {
   "cell_type": "code",
   "execution_count": 6,
   "id": "37462a05-ffd6-496f-a187-ecfa093d80de",
   "metadata": {},
   "outputs": [
    {
     "data": {
      "text/plain": [
       "{202201: ['james', '경제학과'],\n",
       " 202203: ['laura', '스페인어과'],\n",
       " 202202: ['louis', '컴공과']}"
      ]
     },
     "execution_count": 6,
     "metadata": {},
     "output_type": "execute_result"
    }
   ],
   "source": [
    "{202201: ['james', '경제학과'], 202203: ['laura', '스페인어과'], 202202: ['louis', '컴공과']}"
   ]
  },
  {
   "cell_type": "markdown",
   "id": "d4cf2e8e-cf6b-4bc9-845e-caabd7b44de5",
   "metadata": {},
   "source": [
    "### 형 변환"
   ]
  },
  {
   "cell_type": "code",
   "execution_count": 7,
   "id": "9334b25a-7a86-4f5a-9096-366fb40aec73",
   "metadata": {},
   "outputs": [
    {
     "data": {
      "text/plain": [
       "{1: 2, 2: 3, 3: 4}"
      ]
     },
     "execution_count": 7,
     "metadata": {},
     "output_type": "execute_result"
    }
   ],
   "source": [
    "ex1 = [[1, 2], [2, 3], [3, 4]]\n",
    "dict(ex1)"
   ]
  },
  {
   "cell_type": "code",
   "execution_count": 10,
   "id": "d26e17c5-bfc2-4f10-a78e-7f54ac8a8a27",
   "metadata": {},
   "outputs": [
    {
     "data": {
      "text/plain": [
       "{1: 4, 2: 3}"
      ]
     },
     "execution_count": 10,
     "metadata": {},
     "output_type": "execute_result"
    }
   ],
   "source": [
    "ex2 = [(1, 2), (2, 3), (1, 4)]\n",
    "dict(ex2)\n",
    "# 키 중복 안 됨"
   ]
  },
  {
   "cell_type": "code",
   "execution_count": 11,
   "id": "097c00dd-6954-4026-b505-28beaabea5e3",
   "metadata": {},
   "outputs": [
    {
     "data": {
      "text/plain": [
       "{'a': 'b', 'b': 'c', 'c': 'd'}"
      ]
     },
     "execution_count": 11,
     "metadata": {},
     "output_type": "execute_result"
    }
   ],
   "source": [
    "ex3 = ['ab', 'bc', 'cd']\n",
    "dict(ex3)"
   ]
  },
  {
   "cell_type": "code",
   "execution_count": 16,
   "id": "1bdcfd81-ea15-4da9-b634-c7bbef7a9ff4",
   "metadata": {},
   "outputs": [],
   "source": [
    "pythons = { #성: 이름 \n",
    "    'Champman':'Graham',\n",
    "    'Cleese':'John',\n",
    "    'Idle':'Eric',\n",
    "    'Jones':'Terry',\n",
    "    'Palin':'Michael'\n",
    "}"
   ]
  },
  {
   "cell_type": "code",
   "execution_count": 17,
   "id": "94dd5c2e-7aa1-4118-b61a-4b34f9c707c6",
   "metadata": {},
   "outputs": [
    {
     "data": {
      "text/plain": [
       "'Eric'"
      ]
     },
     "execution_count": 17,
     "metadata": {},
     "output_type": "execute_result"
    }
   ],
   "source": [
    "pythons['Idle']"
   ]
  },
  {
   "cell_type": "code",
   "execution_count": 18,
   "id": "b6222ec6-0f0c-45bb-a95c-6028bc40365c",
   "metadata": {},
   "outputs": [
    {
     "ename": "KeyError",
     "evalue": "'Hwa'",
     "output_type": "error",
     "traceback": [
      "\u001b[1;31m---------------------------------------------------------------------------\u001b[0m",
      "\u001b[1;31mKeyError\u001b[0m                                  Traceback (most recent call last)",
      "\u001b[1;32m~\\AppData\\Local\\Temp/ipykernel_10056/3179834019.py\u001b[0m in \u001b[0;36m<module>\u001b[1;34m\u001b[0m\n\u001b[1;32m----> 1\u001b[1;33m \u001b[0mpythons\u001b[0m\u001b[1;33m[\u001b[0m\u001b[1;34m'Hwa'\u001b[0m\u001b[1;33m]\u001b[0m\u001b[1;33m\u001b[0m\u001b[1;33m\u001b[0m\u001b[0m\n\u001b[0m",
      "\u001b[1;31mKeyError\u001b[0m: 'Hwa'"
     ]
    }
   ],
   "source": [
    "pythons['Hwa']\n",
    "# 없는 값은 오류"
   ]
  },
  {
   "cell_type": "code",
   "execution_count": 19,
   "id": "95e787d2-4644-40f7-b2ab-9d0fdd2599c5",
   "metadata": {},
   "outputs": [
    {
     "data": {
      "text/plain": [
       "{'Champman': 'Graham',\n",
       " 'Cleese': 'John',\n",
       " 'Idle': 'James',\n",
       " 'Jones': 'Terry',\n",
       " 'Palin': 'Michael'}"
      ]
     },
     "execution_count": 19,
     "metadata": {},
     "output_type": "execute_result"
    }
   ],
   "source": [
    "pythons['Idle'] = 'James' # 변경\n",
    "pythons"
   ]
  },
  {
   "cell_type": "code",
   "execution_count": 20,
   "id": "2cbdda01-4ec4-44d4-b676-e2d32c9466c9",
   "metadata": {},
   "outputs": [
    {
     "data": {
      "text/plain": [
       "{'Champman': 'Graham',\n",
       " 'Cleese': 'John',\n",
       " 'Idle': 'James',\n",
       " 'Jones': 'Terry',\n",
       " 'Palin': 'Michael',\n",
       " 'Hwa': 'Chloe'}"
      ]
     },
     "execution_count": 20,
     "metadata": {},
     "output_type": "execute_result"
    }
   ],
   "source": [
    "pythons['Hwa'] = 'Chloe' # 없는 값일 때는 추가\n",
    "pythons"
   ]
  },
  {
   "cell_type": "code",
   "execution_count": 22,
   "id": "b310fed9-8a1e-4de1-9db3-ddedc8cd6ae1",
   "metadata": {},
   "outputs": [
    {
     "data": {
      "text/plain": [
       "True"
      ]
     },
     "execution_count": 22,
     "metadata": {},
     "output_type": "execute_result"
    }
   ],
   "source": [
    "# 예외없이\n",
    "'Hwa' in pythons"
   ]
  },
  {
   "cell_type": "code",
   "execution_count": 24,
   "id": "2be08817-4d1c-4088-8f25-49f2b32d90da",
   "metadata": {},
   "outputs": [
    {
     "data": {
      "text/plain": [
       "0"
      ]
     },
     "execution_count": 24,
     "metadata": {},
     "output_type": "execute_result"
    }
   ],
   "source": [
    "#get()\n",
    "pythons.get('Lee', 0) # 없는 키는 None 반환 or 반환값 직접 설정"
   ]
  },
  {
   "cell_type": "markdown",
   "id": "d62873a0-d65c-4925-b83e-bbf093a46116",
   "metadata": {},
   "source": [
    "### 전체 조회\n",
    "- keys()\n",
    "- values()\n",
    "- items()"
   ]
  },
  {
   "cell_type": "code",
   "execution_count": 28,
   "id": "786dc534-0a42-4398-b662-d654519454b3",
   "metadata": {},
   "outputs": [
    {
     "data": {
      "text/plain": [
       "['Champman', 'Cleese', 'Idle', 'Jones', 'Palin', 'Hwa']"
      ]
     },
     "execution_count": 28,
     "metadata": {},
     "output_type": "execute_result"
    }
   ],
   "source": [
    "list(pythons.keys())"
   ]
  },
  {
   "cell_type": "code",
   "execution_count": 29,
   "id": "fd6cdb45-8311-4604-9208-029ac1e77117",
   "metadata": {},
   "outputs": [
    {
     "data": {
      "text/plain": [
       "dict_keys(['Champman', 'Cleese', 'Idle', 'Jones', 'Palin', 'Hwa'])"
      ]
     },
     "execution_count": 29,
     "metadata": {},
     "output_type": "execute_result"
    }
   ],
   "source": [
    "pythons.keys()"
   ]
  },
  {
   "cell_type": "code",
   "execution_count": 26,
   "id": "e71eb6cc-6947-40c8-bd71-2659e16997f1",
   "metadata": {},
   "outputs": [
    {
     "data": {
      "text/plain": [
       "dict_values(['Graham', 'John', 'James', 'Terry', 'Michael', 'Chloe'])"
      ]
     },
     "execution_count": 26,
     "metadata": {},
     "output_type": "execute_result"
    }
   ],
   "source": [
    "pythons.values()"
   ]
  },
  {
   "cell_type": "code",
   "execution_count": 27,
   "id": "8e03ed41-ab56-48e6-83f0-7f86efda5f16",
   "metadata": {},
   "outputs": [
    {
     "data": {
      "text/plain": [
       "dict_items([('Champman', 'Graham'), ('Cleese', 'John'), ('Idle', 'James'), ('Jones', 'Terry'), ('Palin', 'Michael'), ('Hwa', 'Chloe')])"
      ]
     },
     "execution_count": 27,
     "metadata": {},
     "output_type": "execute_result"
    }
   ],
   "source": [
    "pythons.items() # (키, 값) 튜플 형태로 => 순회 많이 씀"
   ]
  },
  {
   "cell_type": "code",
   "execution_count": 30,
   "id": "5bd4ce44-34ff-4663-b855-a688d4a76f70",
   "metadata": {},
   "outputs": [
    {
     "name": "stdout",
     "output_type": "stream",
     "text": [
      "Champman = Graham\n",
      "Cleese = John\n",
      "Idle = James\n",
      "Jones = Terry\n",
      "Palin = Michael\n",
      "Hwa = Chloe\n"
     ]
    }
   ],
   "source": [
    "for k, v in pythons.items(): # list comprehen\n",
    "    print(f'{k} = {v}')"
   ]
  },
  {
   "cell_type": "code",
   "execution_count": 32,
   "id": "4493bbc5-5e06-4afb-9c3b-febe00883aeb",
   "metadata": {},
   "outputs": [
    {
     "data": {
      "text/plain": [
       "[('Champman', 'Graham'),\n",
       " ('Cleese', 'John'),\n",
       " ('Idle', 'James'),\n",
       " ('Jones', 'Terry'),\n",
       " ('Palin', 'Michael'),\n",
       " ('Hwa', 'Chloe')]"
      ]
     },
     "execution_count": 32,
     "metadata": {},
     "output_type": "execute_result"
    }
   ],
   "source": [
    "[(k, v) for k, v in pythons.items()]"
   ]
  },
  {
   "cell_type": "code",
   "execution_count": 36,
   "id": "e817ab7a-a40f-428c-8104-ac090a176964",
   "metadata": {},
   "outputs": [
    {
     "data": {
      "text/plain": [
       "['Champman', 'Cleese', 'Idle', 'Jones', 'Palin', 'Hwa']"
      ]
     },
     "execution_count": 36,
     "metadata": {},
     "output_type": "execute_result"
    }
   ],
   "source": [
    "[k[0] for k in pythons.items()] # 0 = key, 1 = value"
   ]
  },
  {
   "cell_type": "code",
   "execution_count": 37,
   "id": "ff8ba010-833d-4d8a-a87f-851553af1650",
   "metadata": {},
   "outputs": [
    {
     "data": {
      "text/plain": [
       "['Graham', 'John', 'James', 'Terry', 'Michael', 'Chloe']"
      ]
     },
     "execution_count": 37,
     "metadata": {},
     "output_type": "execute_result"
    }
   ],
   "source": [
    "[k[1] for k in pythons.items()] # 0 = key, 1 = value"
   ]
  },
  {
   "cell_type": "code",
   "execution_count": 38,
   "id": "7dcf8b46-4319-4870-afca-575068caad1f",
   "metadata": {},
   "outputs": [
    {
     "data": {
      "text/plain": [
       "[('Champman', 'Graham'),\n",
       " ('Cleese', 'John'),\n",
       " ('Idle', 'James'),\n",
       " ('Jones', 'Terry'),\n",
       " ('Palin', 'Michael'),\n",
       " ('Hwa', 'Chloe')]"
      ]
     },
     "execution_count": 38,
     "metadata": {},
     "output_type": "execute_result"
    }
   ],
   "source": [
    "[k for k in pythons.items()] # 아무것도 없이 돌면 key 값만 나옴"
   ]
  },
  {
   "cell_type": "code",
   "execution_count": 8,
   "id": "4c3a71c6-fcc6-44c7-80c9-075a62085a28",
   "metadata": {},
   "outputs": [],
   "source": [
    "### ex\n",
    "# animal: num_leg\n",
    "animal = 'cat snake monkey ant spider'.split()\n",
    "legs = 4,0,2,4,8"
   ]
  },
  {
   "cell_type": "markdown",
   "id": "276036e4-dba0-40c4-bf6b-8c6089e6ac6d",
   "metadata": {},
   "source": [
    "### Project\n",
    "- 테스트 해결\n",
    "- 수업 30분 랜덤 코드 설명\n",
    "- 제출: 수요일 자정"
   ]
  },
  {
   "cell_type": "code",
   "execution_count": 10,
   "id": "f367665d-f041-4665-8904-159246c52359",
   "metadata": {},
   "outputs": [
    {
     "name": "stdout",
     "output_type": "stream",
     "text": [
      "{'cat': 4, 'snake': 0, 'monkey': 2, 'ant': 4, 'spider': 8}\n",
      "{'cat': 4, 'snake': 0, 'monkey': 2, 'ant': 4, 'spider': 8}\n",
      "{'cat': 4, 'snake': 0, 'monkey': 2, 'ant': 4, 'spider': 8}\n"
     ]
    }
   ],
   "source": [
    "num_leg = {}\n",
    "for k, v in zip(animal, legs):\n",
    "    num_leg[k] = v \n",
    "print(num_leg)\n",
    "\n",
    "\n",
    "# 다른 방법\n",
    "print(dict([(key, value) for key, value in zip(animal, legs)]))\n",
    "\n",
    "# 딕셔너리 comprehension 활용\n",
    "print({key:value for key, value in zip(animal, legs)})"
   ]
  },
  {
   "cell_type": "markdown",
   "id": "448bdd81-e525-4e86-a76c-02940303aeb8",
   "metadata": {},
   "source": [
    "### Q. pythons에서 성: 이름, 성 첫 글자만, 이름은 글자 개수로 이뤄진 튜플(성, 이름) 리스트로 반환하기\n",
    "    - dict comprehension 쓰지 말기"
   ]
  },
  {
   "cell_type": "code",
   "execution_count": 73,
   "id": "2c15d678-7c55-4866-ba01-4059310a9f27",
   "metadata": {},
   "outputs": [
    {
     "data": {
      "text/plain": [
       "{'Champman': 'Graham',\n",
       " 'Cleese': 'John',\n",
       " 'Idle': 'James',\n",
       " 'Jones': 'Terry',\n",
       " 'Palin': 'Michael',\n",
       " 'Hwa': 'Chloe'}"
      ]
     },
     "execution_count": 73,
     "metadata": {},
     "output_type": "execute_result"
    }
   ],
   "source": [
    "pythons"
   ]
  },
  {
   "cell_type": "code",
   "execution_count": 90,
   "id": "f244f79c-f153-428a-8bf4-955dd67cf9a3",
   "metadata": {},
   "outputs": [
    {
     "data": {
      "text/plain": [
       "[('C', 6), ('C', 4), ('I', 5), ('J', 5), ('P', 7), ('H', 5)]"
      ]
     },
     "execution_count": 90,
     "metadata": {},
     "output_type": "execute_result"
    }
   ],
   "source": [
    "[(key[0], len(value)) for key, value in pythons.items()]"
   ]
  },
  {
   "cell_type": "code",
   "execution_count": 91,
   "id": "eb861769-b385-4c4d-b7b2-54936b2969c3",
   "metadata": {},
   "outputs": [
    {
     "data": {
      "text/plain": [
       "[('C', 6), ('C', 4), ('I', 5), ('J', 5), ('P', 7), ('H', 5)]"
      ]
     },
     "execution_count": 91,
     "metadata": {},
     "output_type": "execute_result"
    }
   ],
   "source": [
    "#[(), ()] => items()\n",
    "[(k[0] ,len(v)) for k, v in pythons.items()]"
   ]
  },
  {
   "cell_type": "markdown",
   "id": "2d5db933-981a-4529-849f-6066d2d3d8a5",
   "metadata": {},
   "source": [
    "### 값 수정, 삭제, 복제, 비교"
   ]
  },
  {
   "cell_type": "code",
   "execution_count": 92,
   "id": "70a2cd45-099b-4633-a599-d6b53d32ea35",
   "metadata": {},
   "outputs": [
    {
     "data": {
      "text/plain": [
       "{'Champman': 'Graham',\n",
       " 'Cleese': 'John',\n",
       " 'Idle': 'James',\n",
       " 'Jones': 'Terry',\n",
       " 'Palin': 'Michael',\n",
       " 'Hwa': 'Chloe'}"
      ]
     },
     "execution_count": 92,
     "metadata": {},
     "output_type": "execute_result"
    }
   ],
   "source": [
    "pythons"
   ]
  },
  {
   "cell_type": "code",
   "execution_count": 93,
   "id": "63cc9b81-2cae-4532-a228-29e2c140270e",
   "metadata": {},
   "outputs": [
    {
     "data": {
      "text/plain": [
       "{'Marx': 'Groucho', 'Howard': 'Moe'}"
      ]
     },
     "execution_count": 93,
     "metadata": {},
     "output_type": "execute_result"
    }
   ],
   "source": [
    "others = {\n",
    "    'Marx':'Groucho',\n",
    "    'Howard':'Moe'\n",
    "}\n",
    "others"
   ]
  },
  {
   "cell_type": "code",
   "execution_count": 95,
   "id": "564388e8-9e87-40e0-a07f-fe0d9d602834",
   "metadata": {},
   "outputs": [],
   "source": [
    "pythons.update(others)"
   ]
  },
  {
   "cell_type": "code",
   "execution_count": 96,
   "id": "9c12a14a-bf4d-428c-9e20-ebdc8091ca05",
   "metadata": {},
   "outputs": [
    {
     "data": {
      "text/plain": [
       "{'Champman': 'Graham',\n",
       " 'Cleese': 'John',\n",
       " 'Idle': 'James',\n",
       " 'Jones': 'Terry',\n",
       " 'Palin': 'Michael',\n",
       " 'Hwa': 'Chloe',\n",
       " 'Marx': 'Groucho',\n",
       " 'Howard': 'Moe'}"
      ]
     },
     "execution_count": 96,
     "metadata": {},
     "output_type": "execute_result"
    }
   ],
   "source": [
    "pythons"
   ]
  },
  {
   "cell_type": "code",
   "execution_count": 97,
   "id": "4ecb4ed1-a4b3-491c-b4f1-ac06fa21175f",
   "metadata": {},
   "outputs": [
    {
     "data": {
      "text/plain": [
       "{'Marx': 'Groucho',\n",
       " 'Howard': 'Moe',\n",
       " 'Champman': 'Graham',\n",
       " 'Cleese': 'John',\n",
       " 'Idle': 'James',\n",
       " 'Jones': 'Terry',\n",
       " 'Palin': 'Michael',\n",
       " 'Hwa': 'Chloe'}"
      ]
     },
     "execution_count": 97,
     "metadata": {},
     "output_type": "execute_result"
    }
   ],
   "source": [
    "# py3\n",
    "{**others, **pythons}"
   ]
  },
  {
   "cell_type": "code",
   "execution_count": 98,
   "id": "1ebf813b-94d0-4ae3-b45d-cebfc8546b3c",
   "metadata": {},
   "outputs": [
    {
     "data": {
      "text/plain": [
       "{'Champman': 'Graham',\n",
       " 'Cleese': 'John',\n",
       " 'Idle': 'James',\n",
       " 'Jones': 'Terry',\n",
       " 'Palin': 'Michael',\n",
       " 'Marx': 'Groucho',\n",
       " 'Howard': 'Moe'}"
      ]
     },
     "execution_count": 98,
     "metadata": {},
     "output_type": "execute_result"
    }
   ],
   "source": [
    "# 삭제\n",
    "del pythons['Hwa']\n",
    "pythons"
   ]
  },
  {
   "cell_type": "code",
   "execution_count": 99,
   "id": "76f4164a-4954-4b34-ae38-4e64d8406349",
   "metadata": {},
   "outputs": [
    {
     "ename": "KeyError",
     "evalue": "'Lee'",
     "output_type": "error",
     "traceback": [
      "\u001b[1;31m---------------------------------------------------------------------------\u001b[0m",
      "\u001b[1;31mKeyError\u001b[0m                                  Traceback (most recent call last)",
      "\u001b[1;32m~\\AppData\\Local\\Temp/ipykernel_10056/2522327117.py\u001b[0m in \u001b[0;36m<module>\u001b[1;34m\u001b[0m\n\u001b[1;32m----> 1\u001b[1;33m \u001b[1;32mdel\u001b[0m \u001b[0mpythons\u001b[0m\u001b[1;33m[\u001b[0m\u001b[1;34m'Lee'\u001b[0m\u001b[1;33m]\u001b[0m\u001b[1;33m\u001b[0m\u001b[1;33m\u001b[0m\u001b[0m\n\u001b[0m",
      "\u001b[1;31mKeyError\u001b[0m: 'Lee'"
     ]
    }
   ],
   "source": [
    "del pythons['Lee'] #없을 때 오류"
   ]
  },
  {
   "cell_type": "code",
   "execution_count": 100,
   "id": "f9322a81-fccd-44a7-8395-c65eb7bc9cc3",
   "metadata": {},
   "outputs": [
    {
     "data": {
      "text/plain": [
       "{'Champman': 'Graham',\n",
       " 'Cleese': 'John',\n",
       " 'Idle': 'James',\n",
       " 'Jones': 'Terry',\n",
       " 'Palin': 'Michael',\n",
       " 'Howard': 'Moe'}"
      ]
     },
     "execution_count": 100,
     "metadata": {},
     "output_type": "execute_result"
    }
   ],
   "source": [
    "pythons.pop('Marx')\n",
    "pythons"
   ]
  },
  {
   "cell_type": "code",
   "execution_count": 101,
   "id": "51d7c5e0-a6ac-434b-9c93-65ad5ba53ae6",
   "metadata": {},
   "outputs": [
    {
     "data": {
      "text/plain": [
       "0"
      ]
     },
     "execution_count": 101,
     "metadata": {},
     "output_type": "execute_result"
    }
   ],
   "source": [
    "pythons.pop('Lee', 0) #없으면 오류 나지만 출력 값을 지정할 수는 있음"
   ]
  },
  {
   "cell_type": "code",
   "execution_count": 102,
   "id": "63790e3d-3799-430c-b77e-6226c1d74326",
   "metadata": {},
   "outputs": [
    {
     "data": {
      "text/plain": [
       "{}"
      ]
     },
     "execution_count": 102,
     "metadata": {},
     "output_type": "execute_result"
    }
   ],
   "source": [
    "#전체 삭제\n",
    "pythons.clear()\n",
    "pythons = {}\n",
    "pythons"
   ]
  },
  {
   "cell_type": "markdown",
   "id": "079f3867-21a8-4026-b3f8-9f4c42415639",
   "metadata": {},
   "source": [
    "### 복제\n",
    "- 할당\n",
    "- 얕은 복사: c = a.copy()\n",
    "- 깊은 복사: deepcopy"
   ]
  },
  {
   "cell_type": "code",
   "execution_count": 103,
   "id": "874c5a28-3eed-465d-a7ad-42c490c94a4d",
   "metadata": {},
   "outputs": [
    {
     "data": {
      "text/plain": [
       "({1: 45, 2: 2, 3: 3}, {1: 45, 2: 2, 3: 3})"
      ]
     },
     "execution_count": 103,
     "metadata": {},
     "output_type": "execute_result"
    }
   ],
   "source": [
    "a = {1:1, 2:2, 3:3}\n",
    "b = a\n",
    "a[1] = 45\n",
    "a, b"
   ]
  },
  {
   "cell_type": "code",
   "execution_count": 104,
   "id": "d03216f5-fea6-481c-83b0-343a32d7c722",
   "metadata": {},
   "outputs": [
    {
     "data": {
      "text/plain": [
       "({1: 45, 2: 22, 3: 3}, {1: 45, 2: 2, 3: 3})"
      ]
     },
     "execution_count": 104,
     "metadata": {},
     "output_type": "execute_result"
    }
   ],
   "source": [
    "c = a.copy()\n",
    "a[2] = 22\n",
    "a, c"
   ]
  },
  {
   "cell_type": "code",
   "execution_count": 105,
   "id": "97eea3fc-16d6-4902-95dc-d5ca39f81420",
   "metadata": {},
   "outputs": [
    {
     "data": {
      "text/plain": [
       "({1: [100, 2, 3], 2: [2, 3, 4]}, {1: [100, 2, 3], 2: [2, 3, 4]})"
      ]
     },
     "execution_count": 105,
     "metadata": {},
     "output_type": "execute_result"
    }
   ],
   "source": [
    "a = {1:[1,2,3], 2:[2,3,4]}\n",
    "d = a.copy()\n",
    "a[1][0] = 100\n",
    "a, d"
   ]
  },
  {
   "cell_type": "code",
   "execution_count": 106,
   "id": "0cabbaa8-194d-4cd9-9870-d611af0d6d96",
   "metadata": {},
   "outputs": [
    {
     "data": {
      "text/plain": [
       "({1: [100, 999, 3], 2: [2, 3, 4]}, {1: [100, 2, 3], 2: [2, 3, 4]})"
      ]
     },
     "execution_count": 106,
     "metadata": {},
     "output_type": "execute_result"
    }
   ],
   "source": [
    "import copy\n",
    "e = copy.deepcopy(a)\n",
    "a[1][1] = 999\n",
    "a, e"
   ]
  },
  {
   "cell_type": "markdown",
   "id": "837f5c05-fce4-46bc-af2e-fba486c84f06",
   "metadata": {},
   "source": [
    "### 비교\n",
    "    - 같다, 다르다만 된다"
   ]
  },
  {
   "cell_type": "code",
   "execution_count": 107,
   "id": "5611423f-d309-4d5d-afbb-43224e7543d7",
   "metadata": {},
   "outputs": [
    {
     "data": {
      "text/plain": [
       "True"
      ]
     },
     "execution_count": 107,
     "metadata": {},
     "output_type": "execute_result"
    }
   ],
   "source": [
    "a!=b"
   ]
  },
  {
   "cell_type": "markdown",
   "id": "a44d47d1-e953-4c3b-99f6-3ac625318879",
   "metadata": {},
   "source": [
    "### EX\n",
    "1. 두 리스트로 하나의 딕셔너리 생성\n",
    "2. 명왕성 = pluto 추가\n",
    "3. '성으로 끝나지 않는 키 삭제하기'\n",
    "4. sorted 이용해서 값을 정렬하기 i) key 기준, ii) value 기준"
   ]
  },
  {
   "cell_type": "code",
   "execution_count": 108,
   "id": "788bd49e-6fc9-4897-9db8-4316cab82349",
   "metadata": {},
   "outputs": [],
   "source": [
    "solar_kor = '태양 수성 금성 지구 화성 목성 토성 천왕성 해왕성'.split()\n",
    "solar_eng = 'sun mercury venus earth mars jupiter saturn uranus neptune'.split()\n"
   ]
  },
  {
   "cell_type": "code",
   "execution_count": 143,
   "id": "92ab2d84-d6e2-4f1e-b174-6583b470d335",
   "metadata": {},
   "outputs": [
    {
     "data": {
      "text/plain": [
       "{'명왕성': 'pluto'}"
      ]
     },
     "execution_count": 143,
     "metadata": {},
     "output_type": "execute_result"
    }
   ],
   "source": [
    "universe = {}\n",
    "for k in range(len(solar_kor)):\n",
    "    universe[solar_kor[k]] = solar_eng[k]\n",
    "    \n",
    "universe['명왕성'] = 'pluto'\n",
    "\n",
    "for k in range(len(solar_kor)):\n",
    "    if not universe[solar_kor[k]].endswith('성'):\n",
    "        del universe[solar_kor[k]]\n",
    "        \n",
    "universe"
   ]
  },
  {
   "cell_type": "code",
   "execution_count": 150,
   "id": "106475c3-5cf6-4dee-b8bb-387e989f4105",
   "metadata": {},
   "outputs": [
    {
     "data": {
      "text/plain": [
       "{'수성': 'mercury',\n",
       " '금성': 'venus',\n",
       " '화성': 'mars',\n",
       " '목성': 'jupiter',\n",
       " '토성': 'saturn',\n",
       " '천왕성': 'uranus',\n",
       " '해왕성': 'neptune',\n",
       " '명왕성': 'pluto'}"
      ]
     },
     "execution_count": 150,
     "metadata": {},
     "output_type": "execute_result"
    }
   ],
   "source": [
    "universe = {}\n",
    "for k in range(len(solar_kor)):\n",
    "    universe[solar_kor[k]] = solar_eng[k]\n",
    "    \n",
    "universe['명왕성'] = 'pluto'\n",
    "\n",
    "for k in list(universe.keys()):\n",
    "    if not k.endswith('성'):\n",
    "        del universe[k]\n",
    "        \n",
    "universe"
   ]
  },
  {
   "cell_type": "code",
   "execution_count": 151,
   "id": "089e7b04-e672-43eb-9d49-b75d1020f989",
   "metadata": {},
   "outputs": [
    {
     "data": {
      "text/plain": [
       "{'태양': 'sun',\n",
       " '수성': 'mercury',\n",
       " '금성': 'venus',\n",
       " '지구': 'earth',\n",
       " '화성': 'mars',\n",
       " '목성': 'jupiter',\n",
       " '토성': 'saturn',\n",
       " '천왕성': 'uranus',\n",
       " '해왕성': 'neptune'}"
      ]
     },
     "execution_count": 151,
     "metadata": {},
     "output_type": "execute_result"
    }
   ],
   "source": [
    "system = {}\n",
    "for k, v in zip(solar_kor, solar_eng):\n",
    "    system[k] = v\n",
    "system"
   ]
  },
  {
   "cell_type": "code",
   "execution_count": 153,
   "id": "3e4d4a71-f28b-4890-a46c-75395f1f808f",
   "metadata": {},
   "outputs": [
    {
     "data": {
      "text/plain": [
       "{'태양': 'sun',\n",
       " '수성': 'mercury',\n",
       " '금성': 'venus',\n",
       " '지구': 'earth',\n",
       " '화성': 'mars',\n",
       " '목성': 'jupiter',\n",
       " '토성': 'saturn',\n",
       " '천왕성': 'uranus',\n",
       " '해왕성': 'neptune',\n",
       " '명왕성': 'pluto'}"
      ]
     },
     "execution_count": 153,
     "metadata": {},
     "output_type": "execute_result"
    }
   ],
   "source": [
    "system['명왕성'] = 'pluto'\n",
    "system"
   ]
  },
  {
   "cell_type": "code",
   "execution_count": 154,
   "id": "735c64ef-7d7f-4691-ab99-5db63122440f",
   "metadata": {},
   "outputs": [
    {
     "data": {
      "text/plain": [
       "{'수성': 'mercury',\n",
       " '금성': 'venus',\n",
       " '화성': 'mars',\n",
       " '목성': 'jupiter',\n",
       " '토성': 'saturn',\n",
       " '천왕성': 'uranus',\n",
       " '해왕성': 'neptune',\n",
       " '명왕성': 'pluto'}"
      ]
     },
     "execution_count": 154,
     "metadata": {},
     "output_type": "execute_result"
    }
   ],
   "source": [
    "dict([(k, system[k]) for k in system if k.endswith('성')])"
   ]
  },
  {
   "cell_type": "code",
   "execution_count": 155,
   "id": "1989a318-f218-4bfb-a64c-99523b5908cf",
   "metadata": {},
   "outputs": [
    {
     "data": {
      "text/plain": [
       "{'수성': 'mercury',\n",
       " '금성': 'venus',\n",
       " '화성': 'mars',\n",
       " '목성': 'jupiter',\n",
       " '토성': 'saturn',\n",
       " '천왕성': 'uranus',\n",
       " '해왕성': 'neptune',\n",
       " '명왕성': 'pluto'}"
      ]
     },
     "execution_count": 155,
     "metadata": {},
     "output_type": "execute_result"
    }
   ],
   "source": [
    "dict([(k, v) for k, v in system.items() if k.endswith('성')])"
   ]
  },
  {
   "cell_type": "code",
   "execution_count": 156,
   "id": "cedb1f59-818f-4d7b-ad1e-aad072ffbc7a",
   "metadata": {},
   "outputs": [
    {
     "data": {
      "text/plain": [
       "{'a': 1, 'p': 2, 'l': 1, 'e': 1}"
      ]
     },
     "execution_count": 156,
     "metadata": {},
     "output_type": "execute_result"
    }
   ],
   "source": [
    "letter = 'apple'\n",
    "# a: 1, p: 2, ...\n",
    "{ch: letter.count(ch) for ch in letter}"
   ]
  },
  {
   "cell_type": "code",
   "execution_count": 158,
   "id": "29cf4b6c-52ce-4931-9ff2-64f7da642055",
   "metadata": {},
   "outputs": [],
   "source": [
    "# 단어의 모음세기\n",
    "vowels = 'aeiou'\n",
    "word = 'onomatopoeia'\n",
    "\n",
    "# word 순회\n",
    "# vowels 순회"
   ]
  },
  {
   "cell_type": "code",
   "execution_count": 164,
   "id": "d130305c-0ad7-46dc-94cd-1fe405c93c57",
   "metadata": {},
   "outputs": [
    {
     "data": {
      "text/plain": [
       "{'a': 2, 'e': 1, 'i': 1, 'o': 4}"
      ]
     },
     "execution_count": 164,
     "metadata": {},
     "output_type": "execute_result"
    }
   ],
   "source": [
    "{v: word.count(v) for v in vowels if v in word}"
   ]
  },
  {
   "cell_type": "code",
   "execution_count": 167,
   "id": "43f79c26-dd5b-4587-a404-22a29abedd86",
   "metadata": {},
   "outputs": [
    {
     "data": {
      "text/plain": [
       "{'o': 4, 'i': 1, 'a': 2, 'e': 1}"
      ]
     },
     "execution_count": 167,
     "metadata": {},
     "output_type": "execute_result"
    }
   ],
   "source": [
    "{w: word.count(w) for w in set(word) if w in vowels}"
   ]
  },
  {
   "cell_type": "code",
   "execution_count": 169,
   "id": "e2f96eb4-0040-4dcb-9813-1977c9c8bf41",
   "metadata": {},
   "outputs": [],
   "source": [
    "# {k: v for k, v i system.items() if k.endswith('성')}"
   ]
  },
  {
   "cell_type": "code",
   "execution_count": 172,
   "id": "21ac491b-4a58-47d3-a7b7-238d9e18a79f",
   "metadata": {},
   "outputs": [
    {
     "data": {
      "text/plain": [
       "['금성', '명왕성', '목성', '수성', '지구', '천왕성', '태양', '토성', '해왕성', '화성']"
      ]
     },
     "execution_count": 172,
     "metadata": {},
     "output_type": "execute_result"
    }
   ],
   "source": [
    "sorted(system) # 키만 가져옴, 리스트로 반환"
   ]
  },
  {
   "cell_type": "code",
   "execution_count": 181,
   "id": "b1577f1a-0833-4006-a73a-03602f5dec3a",
   "metadata": {},
   "outputs": [
    {
     "data": {
      "text/plain": [
       "[('금성', 'venus'),\n",
       " ('명왕성', 'pluto'),\n",
       " ('목성', 'jupiter'),\n",
       " ('수성', 'mercury'),\n",
       " ('지구', 'earth'),\n",
       " ('천왕성', 'uranus'),\n",
       " ('태양', 'sun'),\n",
       " ('토성', 'saturn'),\n",
       " ('해왕성', 'neptune'),\n",
       " ('화성', 'mars')]"
      ]
     },
     "execution_count": 181,
     "metadata": {},
     "output_type": "execute_result"
    }
   ],
   "source": [
    "sorted(system.items(), key=fx)"
   ]
  },
  {
   "cell_type": "code",
   "execution_count": 178,
   "id": "1afa6a66-216a-495f-a9d2-713b115eb9e5",
   "metadata": {},
   "outputs": [],
   "source": [
    "def fx(x):\n",
    "    return x[1]"
   ]
  },
  {
   "cell_type": "code",
   "execution_count": 180,
   "id": "1acb234d-3efd-4a3c-93ff-31244f307a18",
   "metadata": {},
   "outputs": [],
   "source": [
    "def fx2(x):\n",
    "    return x[0]"
   ]
  },
  {
   "cell_type": "code",
   "execution_count": 183,
   "id": "e57b62f9-b969-4fcc-aa12-856f8a7d9eed",
   "metadata": {},
   "outputs": [
    {
     "data": {
      "text/plain": [
       "[('지구', 'earth'),\n",
       " ('목성', 'jupiter'),\n",
       " ('화성', 'mars'),\n",
       " ('수성', 'mercury'),\n",
       " ('해왕성', 'neptune'),\n",
       " ('명왕성', 'pluto'),\n",
       " ('토성', 'saturn'),\n",
       " ('태양', 'sun'),\n",
       " ('천왕성', 'uranus'),\n",
       " ('금성', 'venus')]"
      ]
     },
     "execution_count": 183,
     "metadata": {},
     "output_type": "execute_result"
    }
   ],
   "source": [
    "sorted(system.items(), key=lambda x: x[1])"
   ]
  },
  {
   "cell_type": "markdown",
   "id": "83441148-9acf-4ed7-8b0f-3aaf0e6286a1",
   "metadata": {},
   "source": [
    "### Set\n",
    "- 중복이 없다\n",
    "- 집합 => 교집합, 합집합, 차집합, ...\n",
    "- bag, 인덱싱도 없다"
   ]
  },
  {
   "cell_type": "code",
   "execution_count": 184,
   "id": "47f2d03d-1a9f-4189-bd9b-f69890396913",
   "metadata": {},
   "outputs": [
    {
     "data": {
      "text/plain": [
       "set()"
      ]
     },
     "execution_count": 184,
     "metadata": {},
     "output_type": "execute_result"
    }
   ],
   "source": [
    "empty = set()\n",
    "# empty = {} 이렇게 빈 셋 선언 안 됨\n",
    "empty"
   ]
  },
  {
   "cell_type": "code",
   "execution_count": 185,
   "id": "172e6406-9d8a-4259-8d4f-04eb1dd4724b",
   "metadata": {},
   "outputs": [
    {
     "data": {
      "text/plain": [
       "{1, 2, 3}"
      ]
     },
     "execution_count": 185,
     "metadata": {},
     "output_type": "execute_result"
    }
   ],
   "source": [
    "a = {1,2,3}\n",
    "a"
   ]
  },
  {
   "cell_type": "code",
   "execution_count": 186,
   "id": "9b7927da-a678-4fe0-aa46-750f736a8024",
   "metadata": {},
   "outputs": [
    {
     "data": {
      "text/plain": [
       "{1, 2, 3}"
      ]
     },
     "execution_count": 186,
     "metadata": {},
     "output_type": "execute_result"
    }
   ],
   "source": [
    "a = set((1,2,3)) # 선언, 형변환\n",
    "a"
   ]
  },
  {
   "cell_type": "code",
   "execution_count": 187,
   "id": "b710e666-3405-4a5c-b0d6-8d179fb3056b",
   "metadata": {},
   "outputs": [
    {
     "data": {
      "text/plain": [
       "{1, 2, 3, 4}"
      ]
     },
     "execution_count": 187,
     "metadata": {},
     "output_type": "execute_result"
    }
   ],
   "source": [
    "# 추가\n",
    "a.add(4)\n",
    "a"
   ]
  },
  {
   "cell_type": "code",
   "execution_count": 188,
   "id": "f2582ee7-1c84-4679-9f3f-4aad9f370853",
   "metadata": {},
   "outputs": [
    {
     "data": {
      "text/plain": [
       "{1, 2, 3}"
      ]
     },
     "execution_count": 188,
     "metadata": {},
     "output_type": "execute_result"
    }
   ],
   "source": [
    "# 삭제\n",
    "a.remove(4)\n",
    "a"
   ]
  },
  {
   "cell_type": "code",
   "execution_count": 227,
   "id": "1b39efe1-c249-4782-9c49-a3e69d889d38",
   "metadata": {},
   "outputs": [],
   "source": [
    "drinks = {\n",
    "    'martini':{'vodka', 'vermouth'},\n",
    "    'black russian':{'vodka', 'kahlua'},\n",
    "    'white russian':{'cream', 'kahlua', 'vodka'},\n",
    "    'manhattan':{'rye', 'vermouth', 'bitters'},\n",
    "    'screwdriver':{'orange juice', 'vodka'}\n",
    "}\n",
    "\n",
    "# vodka가 포함된 술 출력하기\n",
    "# vodka는 있지만 cream, vermouth가 없는 술 출력하기"
   ]
  },
  {
   "cell_type": "code",
   "execution_count": 217,
   "id": "4d87780a-edf4-4a28-ab68-1ed7a4581f8a",
   "metadata": {},
   "outputs": [
    {
     "name": "stdout",
     "output_type": "stream",
     "text": [
      "martini\n",
      "black russian\n",
      "white russian\n",
      "screwdriver\n",
      "black russian\n",
      "screwdriver\n"
     ]
    }
   ],
   "source": [
    "#1\n",
    "for k, v in drinks.items():\n",
    "    if 'vodka' in v:\n",
    "        print(k)\n",
    "\n",
    "#2\n",
    "for k, v in drinks.items():\n",
    "    #if 'vodka' in v and not 'cream' in v and not 'vermouth' in v:\n",
    "    if 'vodka' in v and not ('cream' in v or 'vermouth' in v):\n",
    "        print(k)"
   ]
  },
  {
   "cell_type": "code",
   "execution_count": null,
   "id": "69163365-4315-4aa3-bcb5-558b2fd85528",
   "metadata": {},
   "outputs": [],
   "source": [
    "dict([]) # X"
   ]
  },
  {
   "cell_type": "code",
   "execution_count": 201,
   "id": "c8c42c14-7fe3-4293-9c57-1ec16e8b50c0",
   "metadata": {},
   "outputs": [
    {
     "data": {
      "text/plain": [
       "({1}, {4})"
      ]
     },
     "execution_count": 201,
     "metadata": {},
     "output_type": "execute_result"
    }
   ],
   "source": [
    "a = {1, 2, 3}\n",
    "b = {2, 3, 4}\n",
    "\n",
    "# 교집합 | intersection\n",
    "a.intersection(b)\n",
    "a & b\n",
    "\n",
    "# 합집합 | union\n",
    "a.union(b)\n",
    "a | b\n",
    "\n",
    "# 차집합 | difference\n",
    "a.difference(b)\n",
    "a - b, b - a\n"
   ]
  },
  {
   "cell_type": "code",
   "execution_count": 6,
   "id": "ad05ebae-4ff2-4fc9-bb13-5eeb673ecd16",
   "metadata": {},
   "outputs": [
    {
     "name": "stdout",
     "output_type": "stream",
     "text": [
      "black russian\n",
      "screwdriver\n",
      "\n",
      "black russian\n",
      "screwdriver\n"
     ]
    }
   ],
   "source": [
    "# 위 문제 set을 활용하여 작성하기\n",
    "drinks = {\n",
    "    'martini':{'vodka', 'vermouth'},\n",
    "    'black russian':{'vodka', 'kahlua'},\n",
    "    'white russian':{'cream', 'kahlua', 'vodka'},\n",
    "    'manhattan':{'rye', 'vermouth', 'bitters'},\n",
    "    'screwdriver':{'orange juice', 'vodka'}\n",
    "}\n",
    "\n",
    "for k, v in drinks.items():\n",
    "    if ('vodka' in v) and not('cream' in v or 'vermouth' in v):\n",
    "        print(k)\n",
    "\n",
    "print()\n",
    "\n",
    "for k, v in drinks.items():\n",
    "    if 'vodka' in v and not (v & {'cream', 'vermouth'}):\n",
    "        print(k)\n"
   ]
  },
  {
   "cell_type": "code",
   "execution_count": null,
   "id": "05769a7a-89bf-47f1-94fb-d971291a2358",
   "metadata": {},
   "outputs": [],
   "source": [
    "# issubset"
   ]
  },
  {
   "cell_type": "code",
   "execution_count": 237,
   "id": "4b6c7a9c-825f-464e-95d4-336aaa251eff",
   "metadata": {},
   "outputs": [
    {
     "data": {
      "text/plain": [
       "{0, 1, 2, 3, 4}"
      ]
     },
     "execution_count": 237,
     "metadata": {},
     "output_type": "execute_result"
    }
   ],
   "source": [
    "{s for s in range(5)}"
   ]
  },
  {
   "cell_type": "code",
   "execution_count": 238,
   "id": "ebdcd5fa-9cac-4a2a-9f7e-597a0423c3e7",
   "metadata": {},
   "outputs": [
    {
     "data": {
      "text/plain": [
       "frozenset({1, 2})"
      ]
     },
     "execution_count": 238,
     "metadata": {},
     "output_type": "execute_result"
    }
   ],
   "source": [
    "# frozenset\n",
    "set([1, 2])\n",
    "frozenset([1, 2])"
   ]
  }
 ],
 "metadata": {
  "kernelspec": {
   "display_name": "Python 3 (ipykernel)",
   "language": "python",
   "name": "python3"
  },
  "language_info": {
   "codemirror_mode": {
    "name": "ipython",
    "version": 3
   },
   "file_extension": ".py",
   "mimetype": "text/x-python",
   "name": "python",
   "nbconvert_exporter": "python",
   "pygments_lexer": "ipython3",
   "version": "3.9.7"
  }
 },
 "nbformat": 4,
 "nbformat_minor": 5
}

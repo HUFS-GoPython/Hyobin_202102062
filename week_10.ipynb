{
 "cells": [
  {
   "cell_type": "markdown",
   "id": "dab01b9a-35aa-4fa8-81fe-48ca36c05f4e",
   "metadata": {
    "tags": []
   },
   "source": [
    "### 10. 객체와 클래스\n",
    "- 객체를 구현하는 것이 클래스\n",
    "- object??\n",
    "- 객체지향프로그래밍\n",
    "- 객체 = 속성과 행동을 가지는 개념, 실존하는 물체(?)\n",
    "    - 예: 자동차, 강아지, 꽃, ..thing\n",
    "    - 자동차 속성: 브랜드, 색, 속도, 모델, ..  => 변수\n",
    "    - 강아지 속성: 이름, 종, 색 무게,...\n",
    "    - 자동차 행동: 가다, 서다, 회전, 주차, ...  => 메소드(함수)\n",
    "    - 강아지 행동: 뛰다, 짖다, 자다, 핥다, ...\n",
    "    - 때로 속성과 행동 존재하지 않을 수도 있음\n",
    "    \n",
    "- 편의점=> \"고객이 편의점에서 과자를 샀다\"\n",
    "    => 객체: 고객 => 사람, 편의점, 과자 => 물건\n",
    "        - 이름                  - 재고, 수익                    - 이름, 브랜드, 가격\n",
    "        - 물건 사다, 돈 내다     - 팔다, 수익 남기다, 물건 등록    - X\n",
    "    => 상호작용으로 코드를 구성하는 것\n"
   ]
  },
  {
   "cell_type": "markdown",
   "id": "b660d92b-a184-414f-9c80-ddbc9e475e92",
   "metadata": {},
   "source": [
    "class\n",
    "- 첫 글자 대문자\n",
    "    - nice car -> Nice_car(x)\n",
    "    - NiceCar(O)\n",
    "\n",
    "\n",
    "- 정의부와 선언부\n",
    "    - 정의부 = 붕어빵 틀\n",
    "    - 선언부 = 붕어빵"
   ]
  },
  {
   "cell_type": "code",
   "execution_count": 3,
   "id": "7908f3f8-405e-4e92-93fb-c4db94cad105",
   "metadata": {},
   "outputs": [
    {
     "data": {
      "text/plain": [
       "<__main__.Car at 0x2264fde3160>"
      ]
     },
     "execution_count": 3,
     "metadata": {},
     "output_type": "execute_result"
    }
   ],
   "source": [
    "# 정의부\n",
    "class Car: # 객체\n",
    "    pass\n",
    "\n",
    "# 선언부\n",
    "my_car = Car()\n",
    "my_car #instance == 붕어빵"
   ]
  },
  {
   "cell_type": "code",
   "execution_count": 5,
   "id": "46ceef30-d725-4e15-a019-6439f0435b60",
   "metadata": {},
   "outputs": [],
   "source": [
    "my_car.name = 'bmw'\n",
    "my_car.color = 'white'"
   ]
  },
  {
   "cell_type": "code",
   "execution_count": 6,
   "id": "bb43c95b-46ba-4513-873f-061a70ee4530",
   "metadata": {},
   "outputs": [
    {
     "data": {
      "text/plain": [
       "'bmw'"
      ]
     },
     "execution_count": 6,
     "metadata": {},
     "output_type": "execute_result"
    }
   ],
   "source": [
    "my_car.name"
   ]
  },
  {
   "cell_type": "code",
   "execution_count": 7,
   "id": "725cf7e3-99ae-4cfd-ad7f-d2dfe71609ad",
   "metadata": {},
   "outputs": [],
   "source": [
    "class Car:\n",
    "    #1. 속성을 정의하기\n",
    "    name = 'BMW'"
   ]
  },
  {
   "cell_type": "code",
   "execution_count": 8,
   "id": "41daa6f4-6972-4005-bd81-faad7deb081a",
   "metadata": {},
   "outputs": [],
   "source": [
    "your_car = Car()"
   ]
  },
  {
   "cell_type": "code",
   "execution_count": 9,
   "id": "a01d04f0-9bc5-44e8-9833-0e7943d5b667",
   "metadata": {},
   "outputs": [
    {
     "data": {
      "text/plain": [
       "'BMW'"
      ]
     },
     "execution_count": 9,
     "metadata": {},
     "output_type": "execute_result"
    }
   ],
   "source": [
    "your_car.name"
   ]
  },
  {
   "cell_type": "code",
   "execution_count": 10,
   "id": "67570207-6fa6-4578-a8f9-6cb5f8ecf3d6",
   "metadata": {},
   "outputs": [
    {
     "data": {
      "text/plain": [
       "'Kia'"
      ]
     },
     "execution_count": 10,
     "metadata": {},
     "output_type": "execute_result"
    }
   ],
   "source": [
    "your_car.name = 'Kia'\n",
    "your_car.name"
   ]
  },
  {
   "cell_type": "code",
   "execution_count": 11,
   "id": "a9fb02c2-1284-451f-8c11-efc66468ef90",
   "metadata": {},
   "outputs": [],
   "source": [
    "#2.\n",
    "class Car:\n",
    "    def __init__(self, name):  # 속성을 초기화하는 함수\n",
    "        # 객체 만들 때 들어오는 값으로 이름을 설정하고 싶다.\n",
    "        self.name = name\n",
    "        # self == instance (her_car): 나 자신, 인스턴스 자신"
   ]
  },
  {
   "cell_type": "code",
   "execution_count": 13,
   "id": "37200604-28e5-403f-99bc-4f51771b56cb",
   "metadata": {},
   "outputs": [],
   "source": [
    "her_car = Car(name='Hyandai')"
   ]
  },
  {
   "cell_type": "code",
   "execution_count": 14,
   "id": "265ce5da-86be-4ea9-b43a-b1aa4c6576e0",
   "metadata": {},
   "outputs": [
    {
     "data": {
      "text/plain": [
       "'Hyandai'"
      ]
     },
     "execution_count": 14,
     "metadata": {},
     "output_type": "execute_result"
    }
   ],
   "source": [
    "her_car.name"
   ]
  },
  {
   "cell_type": "code",
   "execution_count": 15,
   "id": "820cf01b-4938-451f-8f4f-68e15d4be893",
   "metadata": {},
   "outputs": [
    {
     "data": {
      "text/plain": [
       "'Toyota'"
      ]
     },
     "execution_count": 15,
     "metadata": {},
     "output_type": "execute_result"
    }
   ],
   "source": [
    "car2 = Car('Toyota')\n",
    "car2.name"
   ]
  },
  {
   "cell_type": "code",
   "execution_count": 18,
   "id": "9ff5022e-5cbf-4d4d-8cc8-5208be88ff9d",
   "metadata": {},
   "outputs": [
    {
     "data": {
      "text/plain": [
       "'black'"
      ]
     },
     "execution_count": 18,
     "metadata": {},
     "output_type": "execute_result"
    }
   ],
   "source": [
    "# 색\n",
    "class Car:\n",
    "    def __init__(self, color): \n",
    "        self.color = color\n",
    "\n",
    "my_color = Car(color = 'black')\n",
    "my_color.color"
   ]
  },
  {
   "cell_type": "code",
   "execution_count": 30,
   "id": "886d27a4-4623-4bf2-b8e4-59530f58f903",
   "metadata": {},
   "outputs": [
    {
     "data": {
      "text/plain": [
       "'Kia'"
      ]
     },
     "execution_count": 30,
     "metadata": {},
     "output_type": "execute_result"
    }
   ],
   "source": [
    "# 모델\n",
    "class Car:\n",
    "    def __init__(self, name, model, color): \n",
    "        self.name = name\n",
    "        self.model = model\n",
    "        self.color = color\n",
    "\n",
    "car3 = Car('Kia', 'SM6', 'black')\n",
    "\n",
    "car3.name"
   ]
  },
  {
   "cell_type": "code",
   "execution_count": 31,
   "id": "632df3ea-f920-4a10-8377-8fc3d02a846a",
   "metadata": {},
   "outputs": [
    {
     "data": {
      "text/plain": [
       "'SM6'"
      ]
     },
     "execution_count": 31,
     "metadata": {},
     "output_type": "execute_result"
    }
   ],
   "source": [
    "car3.model"
   ]
  },
  {
   "cell_type": "code",
   "execution_count": 32,
   "id": "7cfe92c2-cbf5-4e48-bc47-25505cf0571c",
   "metadata": {},
   "outputs": [
    {
     "data": {
      "text/plain": [
       "'black'"
      ]
     },
     "execution_count": 32,
     "metadata": {},
     "output_type": "execute_result"
    }
   ],
   "source": [
    "car3.color"
   ]
  },
  {
   "cell_type": "code",
   "execution_count": 22,
   "id": "ce350ec4-794a-4249-9dc4-91129724c3e1",
   "metadata": {},
   "outputs": [],
   "source": [
    "class Car:\n",
    "    def __init__(self, name, model, color): \n",
    "        self.name = name\n",
    "        self.model = model\n",
    "        self.color = color\n",
    "        \n",
    "    def drive(self):\n",
    "        # {차 이름}가 출발합니다.\n",
    "        print('차가 갑니다')\n",
    "        \n",
    "    def stop(self):\n",
    "        print('차가 섭니다.')\n",
    "        \n",
    "    def change_color(self):\n",
    "        # gray로 색 변경"
   ]
  },
  {
   "cell_type": "code",
   "execution_count": 35,
   "id": "9e4fc413-0a48-4d99-bb0c-735d734c55b4",
   "metadata": {},
   "outputs": [
    {
     "name": "stdout",
     "output_type": "stream",
     "text": [
      "Kia차가 갑니다\n"
     ]
    }
   ],
   "source": [
    "car3 = Car('Kia', 'SM6', 'black')\n",
    "car3.drive()"
   ]
  },
  {
   "cell_type": "code",
   "execution_count": 70,
   "id": "9ef67e82-38cc-4426-84fe-49eb249ba966",
   "metadata": {},
   "outputs": [],
   "source": [
    "class Car:\n",
    "    def __init__(self, name, model, color): \n",
    "        self.name = name\n",
    "        self.model = model\n",
    "        self.color = color\n",
    "        \n",
    "    def drive(self):\n",
    "        # {차 이름}가 출발합니다.\n",
    "        print(f'{self.name}차가 갑니다')\n",
    "        \n",
    "    def stop(self):\n",
    "        print('차가 섭니다.')\n",
    "        \n",
    "    def change_color(self):\n",
    "        self.color = 'gray'\n",
    "        # 2. gray로 바꾼다\n",
    "        \n",
    "    #4 color이 들어오면 그 값으로 설정, 아니면 'black'으로"
   ]
  },
  {
   "cell_type": "code",
   "execution_count": 71,
   "id": "3e32b1ca-8f50-46b1-9017-949f485840f5",
   "metadata": {},
   "outputs": [
    {
     "name": "stdout",
     "output_type": "stream",
     "text": [
      "Kia차가 갑니다\n"
     ]
    }
   ],
   "source": [
    "car3 = Car('Kia', 'SM6', 'black')\n",
    "car3.drive()"
   ]
  },
  {
   "cell_type": "code",
   "execution_count": 40,
   "id": "707f58d1-98b1-439a-909b-734ae1543013",
   "metadata": {},
   "outputs": [
    {
     "name": "stdout",
     "output_type": "stream",
     "text": [
      "Kia차가 갑니다\n"
     ]
    }
   ],
   "source": [
    "car3.drive()"
   ]
  },
  {
   "cell_type": "code",
   "execution_count": 54,
   "id": "ec4bec93-2ff4-4fd3-9ced-ad37f4409de0",
   "metadata": {},
   "outputs": [
    {
     "data": {
      "text/plain": [
       "'black'"
      ]
     },
     "execution_count": 54,
     "metadata": {},
     "output_type": "execute_result"
    }
   ],
   "source": [
    "car3.color"
   ]
  },
  {
   "cell_type": "code",
   "execution_count": 62,
   "id": "7359d9bc-4efb-45f0-9acf-d14f131d9e3e",
   "metadata": {},
   "outputs": [
    {
     "data": {
      "text/plain": [
       "'gray'"
      ]
     },
     "execution_count": 62,
     "metadata": {},
     "output_type": "execute_result"
    }
   ],
   "source": [
    "car3.change_color()\n",
    "car3.color"
   ]
  },
  {
   "cell_type": "code",
   "execution_count": 80,
   "id": "be46dacb-2df9-497f-a293-a421489018cd",
   "metadata": {},
   "outputs": [],
   "source": [
    "# 1번 수정 & 3번\n",
    "class Car:\n",
    "    def __init__(self, name, model, color): \n",
    "        self.name = name\n",
    "        self.model = model\n",
    "        self.color = color\n",
    "        \n",
    "    def drive(self):\n",
    "        # {차 이름}가 출발합니다.\n",
    "        print(f'{self.name}차가 갑니다')\n",
    "        \n",
    "    def stop(self):\n",
    "        print('차가 섭니다.')\n",
    "        \n",
    "    def change_color(self, color):\n",
    "        self.color = color\n",
    "        \n",
    "        # 3. color을 받아서 그걸로 지정하게"
   ]
  },
  {
   "cell_type": "code",
   "execution_count": 82,
   "id": "f32a3f42-5e38-4430-9dd8-8111578fa333",
   "metadata": {},
   "outputs": [
    {
     "data": {
      "text/plain": [
       "'gray'"
      ]
     },
     "execution_count": 82,
     "metadata": {},
     "output_type": "execute_result"
    }
   ],
   "source": [
    "car3 = Car('Kia', 'SM6', 'black')\n",
    "\n",
    "car3.change_color('gray')\n",
    "car3.color"
   ]
  },
  {
   "cell_type": "code",
   "execution_count": 94,
   "id": "38ef6f6a-09ea-4538-a568-25b0ce612cff",
   "metadata": {},
   "outputs": [],
   "source": [
    "#4 color이 들어오면 그 값으로 설정, 아니면 'black'으로\n",
    "class Car:\n",
    "    def __init__(self, name, model, color = 'black'): \n",
    "        self.name = name\n",
    "        self.model = model\n",
    "        self.color = color\n",
    "        \n",
    "    def drive(self):\n",
    "        # {차 이름}가 출발합니다.\n",
    "        print(f'{self.name}차가 갑니다')\n",
    "        \n",
    "    def stop(self):\n",
    "        print('차가 섭니다.')\n",
    "        \n",
    "    def change_color(self):\n",
    "        self.color = color\n"
   ]
  },
  {
   "cell_type": "code",
   "execution_count": 92,
   "id": "f684516a-d136-4a03-a6ec-43398254280a",
   "metadata": {},
   "outputs": [],
   "source": [
    "#5 model을 생성할 떄 안 넣어도 되게 설정하기\n",
    "\n",
    "class Car:\n",
    "    def __init__(self, name, model=None, color = 'black'): \n",
    "        self.name = name\n",
    "        self.model = model\n",
    "        # None == 없음\n",
    "        self.color = color\n",
    "        \n",
    "    def drive(self):\n",
    "        # {차 이름}가 출발합니다.\n",
    "        print(f'{self.name}차가 갑니다')\n",
    "        \n",
    "    def stop(self):\n",
    "        print('차가 섭니다.')\n",
    "        \n",
    "    def change_color(self):\n",
    "        self.color = color"
   ]
  },
  {
   "cell_type": "code",
   "execution_count": 93,
   "id": "bb866d38-698c-480b-9a73-c81cf40cd612",
   "metadata": {},
   "outputs": [
    {
     "data": {
      "text/plain": [
       "'Porsche'"
      ]
     },
     "execution_count": 93,
     "metadata": {},
     "output_type": "execute_result"
    }
   ],
   "source": [
    "car = Car('Porsche')\n",
    "car.name"
   ]
  },
  {
   "cell_type": "markdown",
   "id": "30938c22-d09e-4871-a405-71022a88cf48",
   "metadata": {},
   "source": [
    "### 캡슐화, 정보 은닉\n",
    "- public -> private\n",
    "- getter, setter\n",
    "- 자바 내용"
   ]
  },
  {
   "cell_type": "code",
   "execution_count": 96,
   "id": "0b15eb6b-e857-449d-824c-aac8fa5f6d0a",
   "metadata": {},
   "outputs": [
    {
     "data": {
      "text/plain": [
       "'red'"
      ]
     },
     "execution_count": 96,
     "metadata": {},
     "output_type": "execute_result"
    }
   ],
   "source": [
    "class Fruit:\n",
    "    color = 'red'\n",
    "    \n",
    "kiwi = Fruit()\n",
    "kiwi.color"
   ]
  },
  {
   "cell_type": "code",
   "execution_count": 97,
   "id": "78d6bbbf-fa7d-4df2-a7f4-694b51817a61",
   "metadata": {},
   "outputs": [],
   "source": [
    "Fruit.color = 'black'"
   ]
  },
  {
   "cell_type": "code",
   "execution_count": 98,
   "id": "b9c96c24-2f2c-4908-8878-57140cdb8158",
   "metadata": {},
   "outputs": [
    {
     "data": {
      "text/plain": [
       "'black'"
      ]
     },
     "execution_count": 98,
     "metadata": {},
     "output_type": "execute_result"
    }
   ],
   "source": [
    "apple = Fruit()\n",
    "apple.color"
   ]
  },
  {
   "cell_type": "markdown",
   "id": "71f4df37-2ef0-45ea-896f-4fdbbff83915",
   "metadata": {},
   "source": [
    "#### get set\n",
    "- getter: 클래스 내 객체 변수 반환\n",
    "- setter: == 변수 설정"
   ]
  },
  {
   "cell_type": "code",
   "execution_count": 99,
   "id": "eb8cf11d-20eb-4d8b-bf6a-1dcd710887d5",
   "metadata": {},
   "outputs": [],
   "source": [
    "class Car:\n",
    "    def __init__(self, input_name):\n",
    "        self.name = input_name\n",
    "    \n",
    "    def get_name(self):\n",
    "        # 변수 반환\n",
    "        return self.name\n",
    "    \n",
    "        \n",
    "    def set_name(self, input_name):\n",
    "        self.name = input_name\n",
    "        \n",
    "c = Car('name1')\n",
    "        "
   ]
  },
  {
   "cell_type": "code",
   "execution_count": 100,
   "id": "5c4ae52e-4953-49b6-afab-84855efb251c",
   "metadata": {},
   "outputs": [
    {
     "data": {
      "text/plain": [
       "'name1'"
      ]
     },
     "execution_count": 100,
     "metadata": {},
     "output_type": "execute_result"
    }
   ],
   "source": [
    "c.get_name()"
   ]
  },
  {
   "cell_type": "code",
   "execution_count": 101,
   "id": "fc97d49d-c8d4-4eec-878b-64afce33364f",
   "metadata": {},
   "outputs": [
    {
     "data": {
      "text/plain": [
       "'name2'"
      ]
     },
     "execution_count": 101,
     "metadata": {},
     "output_type": "execute_result"
    }
   ],
   "source": [
    "c.set_name('name2')\n",
    "c.name"
   ]
  },
  {
   "cell_type": "code",
   "execution_count": 102,
   "id": "398cafe3-e74d-410b-86c8-e145bfc972ad",
   "metadata": {},
   "outputs": [
    {
     "data": {
      "text/plain": [
       "'name3'"
      ]
     },
     "execution_count": 102,
     "metadata": {},
     "output_type": "execute_result"
    }
   ],
   "source": [
    "c.name = 'name3'\n",
    "c.name"
   ]
  },
  {
   "cell_type": "markdown",
   "id": "330a111b-e4b8-42a1-8c7a-273269b9424e",
   "metadata": {},
   "source": [
    "## 2"
   ]
  },
  {
   "cell_type": "code",
   "execution_count": 103,
   "id": "d7c68c67-4955-4e8c-8622-b41797e8b2da",
   "metadata": {},
   "outputs": [
    {
     "data": {
      "text/plain": [
       "'name_1'"
      ]
     },
     "execution_count": 103,
     "metadata": {},
     "output_type": "execute_result"
    }
   ],
   "source": [
    "class Car:\n",
    "    def __init__(self, input_name):\n",
    "        self.hidden_name = input_name\n",
    "    \n",
    "    def get_name(self):\n",
    "        # 변수 반환\n",
    "        return self.hidden_name\n",
    "    \n",
    "        \n",
    "    def set_name(self, input_name):\n",
    "        self.hidden_name = input_name\n",
    "        \n",
    "    name = property(get_name, set_name)\n",
    "    \n",
    "d = Car('name_1')\n",
    "d.name"
   ]
  },
  {
   "cell_type": "markdown",
   "id": "3eacf1ad-503f-419d-83e0-1e67491206b8",
   "metadata": {},
   "source": [
    "## 3"
   ]
  },
  {
   "cell_type": "code",
   "execution_count": 104,
   "id": "91b89436-d17d-4c64-aaf4-384ce6b3fa4a",
   "metadata": {},
   "outputs": [],
   "source": [
    "class Car:\n",
    "    def __init__(self, input_name):\n",
    "        self.hidden_name = input_name\n",
    "    #decorator\n",
    "    @property\n",
    "    def name(self):\n",
    "        # 변수 반환\n",
    "        return self.hidden_name\n",
    "    \n",
    "    @name.setter    \n",
    "    def set_name(self, input_name):\n",
    "        self.hidden_name = input_name"
   ]
  },
  {
   "cell_type": "code",
   "execution_count": 105,
   "id": "f243c225-6c68-4c11-8380-7d3aa342640d",
   "metadata": {},
   "outputs": [
    {
     "data": {
      "text/plain": [
       "'name a'"
      ]
     },
     "execution_count": 105,
     "metadata": {},
     "output_type": "execute_result"
    }
   ],
   "source": [
    "e = Car('name a')\n",
    "e.name"
   ]
  },
  {
   "cell_type": "code",
   "execution_count": 106,
   "id": "58195291-56b2-498a-b610-43db34fcad1a",
   "metadata": {},
   "outputs": [
    {
     "data": {
      "text/plain": [
       "'name a'"
      ]
     },
     "execution_count": 106,
     "metadata": {},
     "output_type": "execute_result"
    }
   ],
   "source": [
    "e.hidden_name"
   ]
  },
  {
   "cell_type": "markdown",
   "id": "4916230a-8495-403c-8605-783632b28c16",
   "metadata": {},
   "source": [
    "## 4"
   ]
  },
  {
   "cell_type": "code",
   "execution_count": 107,
   "id": "8f07bcb6-ac9c-40de-a77e-c2e7cce954ba",
   "metadata": {},
   "outputs": [],
   "source": [
    "class Car:\n",
    "    def __init__(self, input_name):\n",
    "        self.__name = input_name\n",
    "    #decorator\n",
    "    @property\n",
    "    def name(self):\n",
    "        # 변수 반환\n",
    "        return self.__name\n",
    "    \n",
    "    @name.setter    \n",
    "    def set_name(self, input_name):\n",
    "        self.__name = input_name"
   ]
  },
  {
   "cell_type": "code",
   "execution_count": 109,
   "id": "9fb11602-eda8-4ca0-89ad-524d10d0fc94",
   "metadata": {},
   "outputs": [
    {
     "ename": "AttributeError",
     "evalue": "'Car' object has no attribute '__name'",
     "output_type": "error",
     "traceback": [
      "\u001b[1;31m---------------------------------------------------------------------------\u001b[0m",
      "\u001b[1;31mAttributeError\u001b[0m                            Traceback (most recent call last)",
      "\u001b[1;32m~\\AppData\\Local\\Temp/ipykernel_30432/2987939567.py\u001b[0m in \u001b[0;36m<module>\u001b[1;34m\u001b[0m\n\u001b[0;32m      1\u001b[0m \u001b[0mf\u001b[0m \u001b[1;33m=\u001b[0m \u001b[0mCar\u001b[0m\u001b[1;33m(\u001b[0m\u001b[1;34m'name b'\u001b[0m\u001b[1;33m)\u001b[0m\u001b[1;33m\u001b[0m\u001b[1;33m\u001b[0m\u001b[0m\n\u001b[1;32m----> 2\u001b[1;33m \u001b[0mf\u001b[0m\u001b[1;33m.\u001b[0m\u001b[0m__name\u001b[0m\u001b[1;33m\u001b[0m\u001b[1;33m\u001b[0m\u001b[0m\n\u001b[0m\u001b[0;32m      3\u001b[0m \u001b[1;33m\u001b[0m\u001b[0m\n\u001b[0;32m      4\u001b[0m \u001b[1;31m# 아예 접근할 수 없음(언더바 두 개)\u001b[0m\u001b[1;33m\u001b[0m\u001b[1;33m\u001b[0m\u001b[0m\n\u001b[0;32m      5\u001b[0m \u001b[1;31m# 밖에서 변경할 수 없음\u001b[0m\u001b[1;33m\u001b[0m\u001b[1;33m\u001b[0m\u001b[0m\n",
      "\u001b[1;31mAttributeError\u001b[0m: 'Car' object has no attribute '__name'"
     ]
    }
   ],
   "source": [
    "f = Car('name b')\n",
    "f.__name\n",
    "\n",
    "# 아예 접근할 수 없음(언더바 두 개) => error 메시지 뜸\n",
    "# 밖에서 변경할 수 없음"
   ]
  },
  {
   "cell_type": "code",
   "execution_count": 110,
   "id": "ae6886b1-a9d0-4832-9652-6588d8978d7d",
   "metadata": {},
   "outputs": [
    {
     "data": {
      "text/plain": [
       "100"
      ]
     },
     "execution_count": 110,
     "metadata": {},
     "output_type": "execute_result"
    }
   ],
   "source": [
    "class Circle:\n",
    "    def __init__(self, radius):\n",
    "        self.radius = radius\n",
    "        \n",
    "    @property\n",
    "    def parameter(self):\n",
    "        return self.radius * 2\n",
    "    \n",
    "ex = Circle(50)\n",
    "ex.parameter"
   ]
  },
  {
   "cell_type": "code",
   "execution_count": 111,
   "id": "4dba6435-7686-4c48-9822-d276a2f90cc2",
   "metadata": {},
   "outputs": [
    {
     "data": {
      "text/plain": [
       "38"
      ]
     },
     "execution_count": 111,
     "metadata": {},
     "output_type": "execute_result"
    }
   ],
   "source": [
    "ex.radius = 19\n",
    "ex.parameter"
   ]
  },
  {
   "cell_type": "markdown",
   "id": "99cf6e6f-fa90-40bd-b457-ca6063798841",
   "metadata": {},
   "source": [
    "### 실습\n",
    "- 메모장, 메모 구현하기\n",
    "- 메모장\n",
    "    - 속성: 제목, 페이지번호, 메모\n",
    "    - 메모 추가하다, 메모 삭제하다, 페이지번소 확인하다 \n",
    "- 메모\n",
    "    - 속성: 글귀\n",
    "    - 행동: 쓰다, 지우다\n",
    "\n",
    "- 사용:\n",
    "    - 메모 쓴다\n",
    "    - 메모장에 추가\n",
    "    - 페이지번호가 늘어난다\n",
    "    - 메모 삭제\n",
    "    - 페이지 번호 줄어든다\n",
    "    - 메모장> 제목만 은닉"
   ]
  },
  {
   "cell_type": "code",
   "execution_count": 13,
   "id": "fff9ec2b-d04c-46c2-bb5e-d424b6867df5",
   "metadata": {},
   "outputs": [],
   "source": [
    "class Notebook:\n",
    "    def __init__(self, title, page_num = 0, memos = []):\n",
    "        self.__title = title\n",
    "        self.memos = memos\n",
    "        self.page_num = page_num\n",
    "    @property\n",
    "    def title(self):\n",
    "        return self.__title\n",
    "    def add_note(self, note = []):\n",
    "        self.memos.extend(note)\n",
    "        self.page_num += len(note)\n",
    "    def remove_note(self, note):\n",
    "        self.memos.remove(note)\n",
    "        self.page_num -= 1\n",
    "    def get_page_num(self):\n",
    "        return self.page_num\n",
    "    def print_book(self):\n",
    "        print('Notebook')\n",
    "        for p, m in enumerate(self.memos, start = 1):\n",
    "            print(m)\n",
    "            print(f'page {p}')\n",
    "        print()\n",
    "        \n",
    "class Note:\n",
    "    def __init__(self, memo=[]):\n",
    "        self.memo = memo\n",
    "    def write(self, line):\n",
    "        self.memo.append(line)\n",
    "    def erase(self, line):\n",
    "        self.memo.remove(line)\n",
    "    def print_memo(self):\n",
    "        print('Note')\n",
    "        for p, m in enumerate(self.memo, start = 1):\n",
    "            print(m)\n",
    "            print(f'page {p}')\n",
    "        print()"
   ]
  },
  {
   "cell_type": "code",
   "execution_count": 14,
   "id": "fec8228e-40ac-4458-b256-644440fa4a62",
   "metadata": {},
   "outputs": [
    {
     "name": "stdout",
     "output_type": "stream",
     "text": [
      "Note\n",
      "우리 모두 스스로가 원하는 리더가 됩시다.\n",
      "page 1\n",
      "모두가 함께 앞으로 나아가면 성공은 저절로 따라옵니다.\n",
      "page 2\n",
      "혼자서는 작은 한 방울이지만 함께 모이면 바다를 이룹니다.\n",
      "page 3\n",
      "\n",
      "Note\n",
      "우리 모두 스스로가 원하는 리더가 됩시다.\n",
      "page 1\n",
      "혼자서는 작은 한 방울이지만 함께 모이면 바다를 이룹니다.\n",
      "page 2\n",
      "\n",
      "Notebook\n",
      "우리 모두 스스로가 원하는 리더가 됩시다.\n",
      "page 1\n",
      "혼자서는 작은 한 방울이지만 함께 모이면 바다를 이룹니다.\n",
      "page 2\n",
      "\n",
      "Notebook\n",
      "우리 모두 스스로가 원하는 리더가 됩시다.\n",
      "page 1\n",
      "\n"
     ]
    },
    {
     "data": {
      "text/plain": [
       "1"
      ]
     },
     "execution_count": 14,
     "metadata": {},
     "output_type": "execute_result"
    }
   ],
   "source": [
    "line1 = '우리 모두 스스로가 원하는 리더가 됩시다.'\n",
    "line2 = '모두가 함께 앞으로 나아가면 성공은 저절로 따라옵니다.'\n",
    "line3 = '혼자서는 작은 한 방울이지만 함께 모이면 바다를 이룹니다.'\n",
    "\n",
    "# 메모 추가\n",
    "my_note = Note()\n",
    "my_note.write(line1)\n",
    "my_note.write(line2)\n",
    "my_note.write(line3)\n",
    "my_note.print_memo()\n",
    "\n",
    "# 메모 삭제\n",
    "my_note.erase(line2)\n",
    "my_note.print_memo()\n",
    "\n",
    "# 메모장에 추가\n",
    "my_book = Notebook('1')\n",
    "my_book.add_note(my_note.memo)\n",
    "my_book.print_book()\n",
    "\n",
    "# 메모장 삭제\n",
    "my_book.remove_note(line3)\n",
    "my_book.print_book()\n",
    "\n",
    "# 페이지 번호 확인\n",
    "my_book.get_page_num()\n",
    "\n",
    "\n",
    "# 계속 시도하다가 해결하지 못해 다른 분들 코드 참고하여 완성했습니다"
   ]
  },
  {
   "cell_type": "code",
   "execution_count": null,
   "id": "912c0db8-8906-48cb-8c24-817374f2215c",
   "metadata": {},
   "outputs": [],
   "source": []
  },
  {
   "cell_type": "code",
   "execution_count": null,
   "id": "5800dd5c-dd80-4b9c-96db-3faa09ca3f90",
   "metadata": {},
   "outputs": [],
   "source": []
  },
  {
   "cell_type": "code",
   "execution_count": null,
   "id": "c780a957-c960-4cd9-8c36-f0c02a7a7bd0",
   "metadata": {},
   "outputs": [],
   "source": []
  },
  {
   "cell_type": "code",
   "execution_count": null,
   "id": "195b88df-8e59-474f-8a7c-b01ba2ce48a6",
   "metadata": {},
   "outputs": [],
   "source": []
  },
  {
   "cell_type": "code",
   "execution_count": null,
   "id": "e8e0d77f-ef08-41e0-8dc5-b731330dc3ba",
   "metadata": {},
   "outputs": [],
   "source": []
  }
 ],
 "metadata": {
  "kernelspec": {
   "display_name": "Python 3 (ipykernel)",
   "language": "python",
   "name": "python3"
  },
  "language_info": {
   "codemirror_mode": {
    "name": "ipython",
    "version": 3
   },
   "file_extension": ".py",
   "mimetype": "text/x-python",
   "name": "python",
   "nbconvert_exporter": "python",
   "pygments_lexer": "ipython3",
   "version": "3.9.7"
  }
 },
 "nbformat": 4,
 "nbformat_minor": 5
}

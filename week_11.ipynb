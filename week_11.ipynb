{
 "cells": [
  {
   "cell_type": "markdown",
   "id": "71127e81-01d6-4e81-934c-e035790ceebb",
   "metadata": {},
   "source": [
    "### 객체 II\n",
    "- 상속 (inheritance)\n",
    "- 재사용할 때, A vs B\n",
    "    - A의 대부분을 쓰고, 나머지를 추가/변경하고 싶다\n",
    "    - 부모의 모든 속성을 그대로 가져와서 쓰겠다\n",
    "- 반복되는 부분을 가져오겠다. 물려받겠다.\n",
    "- A <- B\n",
    "- A: \"부모, 슈퍼, 베이스\" 클래스라고 부름\n",
    "- B: \"자식, 서브, derived\" 클래스라고 부름\n",
    "- 자식클래스는 부모클래스를 구체화한다.\n",
    "- is-a관계라고 함: Car is-a Vehicle (포함된다)"
   ]
  },
  {
   "cell_type": "code",
   "execution_count": 1,
   "id": "2764dce5-943a-4bd7-b8c5-8027430d49b9",
   "metadata": {},
   "outputs": [],
   "source": [
    "class Vehicle: # parent, super\n",
    "    def __init__(self, speed):\n",
    "        self.speed = speed\n",
    "        \n",
    "    def go(self):\n",
    "        print(f'{self.speed}의 속도로 달린다.')\n",
    "\n",
    "# child -> 위 함수를 상속받음\n",
    "class Car(Vehicle): # child, sub\n",
    "    pass"
   ]
  },
  {
   "cell_type": "code",
   "execution_count": 3,
   "id": "729cc960-bed8-4ed8-abef-abb70fce79c8",
   "metadata": {},
   "outputs": [
    {
     "data": {
      "text/plain": [
       "<__main__.Car at 0x170f57f5520>"
      ]
     },
     "execution_count": 3,
     "metadata": {},
     "output_type": "execute_result"
    }
   ],
   "source": [
    "car = Car('20km/h')\n",
    "car"
   ]
  },
  {
   "cell_type": "code",
   "execution_count": 4,
   "id": "68a561eb-ab59-4452-a700-743aa5ade2f6",
   "metadata": {},
   "outputs": [
    {
     "name": "stdout",
     "output_type": "stream",
     "text": [
      "20km/h의 속도로 달린다.\n"
     ]
    }
   ],
   "source": [
    "car.go()"
   ]
  },
  {
   "cell_type": "markdown",
   "id": "5892ed0a-c4d5-4665-8758-3731695d014b",
   "metadata": {},
   "source": [
    "### 변수 추가, 변경"
   ]
  },
  {
   "cell_type": "code",
   "execution_count": 7,
   "id": "9775cac1-00da-4fb9-982f-7cb8cc69e49c",
   "metadata": {},
   "outputs": [],
   "source": [
    "# Vehicle의 자식 클래스\n",
    "# class 부모(자식):\n",
    "\n",
    "class Car(Vehicle): # child, sub\n",
    "    def __init__(self, speed, brand):\n",
    "        # speed == 부모\n",
    "        super().__init__(speed)\n",
    "        # brand == 자식\n",
    "        self.brand = brand # 나의 고유한 특성이 된다"
   ]
  },
  {
   "cell_type": "code",
   "execution_count": 8,
   "id": "7f01887f-7410-4791-bd5f-7fbb7c372c78",
   "metadata": {},
   "outputs": [
    {
     "data": {
      "text/plain": [
       "'kia'"
      ]
     },
     "execution_count": 8,
     "metadata": {},
     "output_type": "execute_result"
    }
   ],
   "source": [
    "car2 = Car('20km/h', 'kia')\n",
    "car2.brand"
   ]
  },
  {
   "cell_type": "code",
   "execution_count": 9,
   "id": "546e3a41-222a-41c2-b0dc-796d9e466f47",
   "metadata": {},
   "outputs": [
    {
     "ename": "AttributeError",
     "evalue": "'Vehicle' object has no attribute 'brand'",
     "output_type": "error",
     "traceback": [
      "\u001b[1;31m---------------------------------------------------------------------------\u001b[0m",
      "\u001b[1;31mAttributeError\u001b[0m                            Traceback (most recent call last)",
      "\u001b[1;32m~\\AppData\\Local\\Temp/ipykernel_8892/2184005269.py\u001b[0m in \u001b[0;36m<module>\u001b[1;34m\u001b[0m\n\u001b[0;32m      1\u001b[0m \u001b[0mv\u001b[0m \u001b[1;33m=\u001b[0m \u001b[0mVehicle\u001b[0m\u001b[1;33m(\u001b[0m\u001b[1;34m'33km/h'\u001b[0m\u001b[1;33m)\u001b[0m\u001b[1;33m\u001b[0m\u001b[1;33m\u001b[0m\u001b[0m\n\u001b[1;32m----> 2\u001b[1;33m \u001b[0mv\u001b[0m\u001b[1;33m.\u001b[0m\u001b[0mbrand\u001b[0m\u001b[1;33m\u001b[0m\u001b[1;33m\u001b[0m\u001b[0m\n\u001b[0m",
      "\u001b[1;31mAttributeError\u001b[0m: 'Vehicle' object has no attribute 'brand'"
     ]
    }
   ],
   "source": [
    "v = Vehicle('33km/h')\n",
    "v.brand\n",
    "\n",
    "# 부모는 brand 없음, 내리사랑같은 개념!! => error 뜸!!"
   ]
  },
  {
   "cell_type": "markdown",
   "id": "fdd0c930-7505-404c-a3b6-239fa579402e",
   "metadata": {},
   "source": [
    "### 메소드 추가, 변경\n",
    "- override하면 부모의 메서드가 잊힌다."
   ]
  },
  {
   "cell_type": "code",
   "execution_count": 20,
   "id": "0beddfc2-e7f8-444c-9b68-388e5858ca18",
   "metadata": {},
   "outputs": [],
   "source": [
    "class Car(Vehicle): # child, sub\n",
    "    def __init__(self, speed, brand):\n",
    "        # speed == 부모\n",
    "        super().__init__(speed) # Vehicle().speed\n",
    "        # brand == 자식\n",
    "        self.brand = brand # 나의 고유한 특성이 된다\n",
    "        \n",
    "    # 오버라이드(override): 재정의, 있는 것을 바꾸는 것\n",
    "    def go(self): # chlid에서 override\n",
    "        # 부모의 go도 함께 가져가고 싶다면?\n",
    "        super().go()\n",
    "        print(f'차종 {self.brand}의 속도 {self.speed}')\n",
    "    \n",
    "    # 메소드 추가\n",
    "    def stop(self):\n",
    "        pass"
   ]
  },
  {
   "cell_type": "code",
   "execution_count": 21,
   "id": "5ab3e11a-b761-4a7b-900e-4fdc629eb8dc",
   "metadata": {},
   "outputs": [
    {
     "name": "stdout",
     "output_type": "stream",
     "text": [
      "33km/h의 속도로 달린다.\n",
      "차종 mini의 속도 33km/h\n"
     ]
    }
   ],
   "source": [
    "car3 = Car('33km/h', 'mini')\n",
    "car3.go()"
   ]
  },
  {
   "cell_type": "markdown",
   "id": "bba41430-8572-4b5f-af0f-87999d79a147",
   "metadata": {},
   "source": [
    "### 실습"
   ]
  },
  {
   "cell_type": "code",
   "execution_count": 27,
   "id": "32b7eafb-0d2d-45d6-90c2-3d26f8162878",
   "metadata": {},
   "outputs": [],
   "source": [
    "class Person:\n",
    "    def __init__(self, name):\n",
    "        self.name = name  # 호출할 때 pablo를 name으로 지정한다고 가정\n",
    "\n",
    "# -------------Person의 자식 클래스들-------------------\n",
    "class Doctor(Person): # Dr. pablo(부모 클래스에서 불러오기)로 출력되도록\n",
    "    def __init__(self, name):\n",
    "        super().__init__(name)\n",
    "        self.name = 'Dr.' + name\n",
    "        print(self.name)\n",
    "\n",
    "class Male(Person):      # Mr. pablo로 출력되도록\n",
    "    def __init__(self, name):\n",
    "        super().__init__('Mr.' + name) # 가장 올바른 답\n",
    "        \n",
    "\n",
    "class Female(Person):  # Mrs. pablo\n",
    "    def __init__(self, name):\n",
    "        super().__init__('Mrs.' + name)"
   ]
  },
  {
   "cell_type": "code",
   "execution_count": 28,
   "id": "0a3cc5e0-b566-4d6d-a2b2-5d3b1dbcb18d",
   "metadata": {},
   "outputs": [
    {
     "name": "stdout",
     "output_type": "stream",
     "text": [
      "Dr.pablo\n",
      "Dr.pablo Mr.pablo Mrs.pablo\n"
     ]
    }
   ],
   "source": [
    "name1 = Doctor('pablo')\n",
    "name2 = Male('pablo')\n",
    "name3 = Female('pablo')\n",
    "\n",
    "print(name1.name, name2.name, name3.name)"
   ]
  },
  {
   "cell_type": "markdown",
   "id": "b169f81c-6392-459b-848f-a086c0af547d",
   "metadata": {},
   "source": [
    "### 다중상속\n",
    "- 부모 - 자식 - 손주 (상속이 2번 이상)\n",
    "- mothod resolution order (MRO)\n",
    "- Animal <- Horse, Donkey\n",
    "            <- Mule(Donkey > Horse)\n",
    "            <- Hinny(Horse > Donkey)\n",
    "- 상속하는 클래스를 가까운 순서대로 써준다"
   ]
  },
  {
   "cell_type": "code",
   "execution_count": 52,
   "id": "784f6ab4-6aa2-41f5-bf51-7589ea668b27",
   "metadata": {},
   "outputs": [],
   "source": [
    "class Animal:\n",
    "    def says(self):\n",
    "        return '동물이 운다.'\n",
    "# 자식\n",
    "class Horse(Animal):\n",
    "    def says(self):\n",
    "        super().says()  # 할머니를 기억하려면 super() 사용하기\n",
    "        return '히히힝'\n",
    "\n",
    "class Donkey(Animal):\n",
    "    def says(self):\n",
    "        return '히이호'\n",
    "    \n",
    "# 손주\n",
    "class Mule(Donkey, Horse):\n",
    "    pass\n",
    "\n",
    "class Hinny(Horse, Donkey):\n",
    "    pass"
   ]
  },
  {
   "cell_type": "code",
   "execution_count": 53,
   "id": "216612ef-ddbc-4b4c-a806-61453d7d1af5",
   "metadata": {},
   "outputs": [
    {
     "data": {
      "text/plain": [
       "'히이호'"
      ]
     },
     "execution_count": 53,
     "metadata": {},
     "output_type": "execute_result"
    }
   ],
   "source": [
    "m = Mule()\n",
    "m.says()"
   ]
  },
  {
   "cell_type": "code",
   "execution_count": 54,
   "id": "93cb0018-e773-4666-91fc-97a97044705b",
   "metadata": {},
   "outputs": [
    {
     "data": {
      "text/plain": [
       "'히히힝'"
      ]
     },
     "execution_count": 54,
     "metadata": {},
     "output_type": "execute_result"
    }
   ],
   "source": [
    "Hinny().says()"
   ]
  },
  {
   "cell_type": "code",
   "execution_count": 55,
   "id": "6a148352-af2c-48dc-9ea4-0eb3d9981a9d",
   "metadata": {},
   "outputs": [
    {
     "data": {
      "text/plain": [
       "[__main__.Mule, __main__.Donkey, __main__.Horse, __main__.Animal, object]"
      ]
     },
     "execution_count": 55,
     "metadata": {},
     "output_type": "execute_result"
    }
   ],
   "source": [
    "Mule.mro()\n",
    "# 무엇이 가장 가까운지 보여줌, 내 자신 -> ... -> ..."
   ]
  },
  {
   "cell_type": "markdown",
   "id": "1cb17bc1-2b4f-4bf6-a647-c15e233c1e72",
   "metadata": {},
   "source": [
    "### 다형성\n",
    "- 형태가 다른데 기능이 같다.\n",
    "- 객체가 다른데도 같은 메소드를 가지고 있으면 같은 기능을 수행할 수 있다"
   ]
  },
  {
   "cell_type": "code",
   "execution_count": 57,
   "id": "1aeb89ea-fa48-47ad-b478-17a9e42e176a",
   "metadata": {},
   "outputs": [
    {
     "name": "stdout",
     "output_type": "stream",
     "text": [
      "히이호\n",
      "히이호\n",
      "동물이 운다.\n"
     ]
    }
   ],
   "source": [
    "for animal in [Mule(), Donkey(), Animal()]:\n",
    "    print(animal.says())\n",
    "    \n",
    "# 다 다른 객체이지만 says를 가지므로 같이 기능함"
   ]
  },
  {
   "cell_type": "markdown",
   "id": "f7e46a6b-0fb9-4b5d-ac9b-4556e8c1b6c4",
   "metadata": {},
   "source": [
    "### 메서드 타입\n",
    "- 인스턴스 메서드\n",
    "    - self가 1번 인자\n",
    "    - 객체 생성 -> 사용 가능\n",
    "- 클래스 메서드\n",
    "    - 객체 생성하지 않아도 사용 가능\n",
    "    - 클래스에 접근하는 메서드\n",
    "    - @classmethod\n",
    "    - 예약어: cls\n",
    "    - 함수(cls)가 첫 인자\n",
    "    - 붕어빵이랑 상관없음\n",
    "    - 붕어빵이 아무리 많이 만들어져도 상관없음\n",
    "    - class Person일 때 cls == Person 자체\n",
    "    - 어려우면 넘기기\n",
    "- 정적 메서드\n",
    "    - 객체 생성하지 않고 접근 가능\n",
    "    - 클래스랑 전혀 상관없기 때문에 접근 가능한 것\n",
    "    - 내용, 기능이 비슷해서 클래스 내에 묶어 둠\n",
    "- 추상 메서드\n",
    "    - 추상 클래스: abstract 이름만 존재하는 클래스\n",
    "    - 설계도 역할: \n",
    "    - 상속하는 자식클래스 => 반드시 구현해야 하는 메소드를 정의한다. 반드시 overriding 해야 함\n",
    "    - 주로 자식클래스를 상속"
   ]
  },
  {
   "cell_type": "code",
   "execution_count": 59,
   "id": "328d5c5c-3b2e-4712-97e3-e8b712419a9d",
   "metadata": {},
   "outputs": [],
   "source": [
    "# 1. 클래스 메서드\n",
    "\n",
    "class A:\n",
    "    cnt = 0\n",
    "    \n",
    "    @classmethod\n",
    "    def move(cls):\n",
    "        return cls.cnt"
   ]
  },
  {
   "cell_type": "code",
   "execution_count": 60,
   "id": "8a9ee9e8-c8c1-4a98-93eb-6bb280e70615",
   "metadata": {},
   "outputs": [
    {
     "data": {
      "text/plain": [
       "0"
      ]
     },
     "execution_count": 60,
     "metadata": {},
     "output_type": "execute_result"
    }
   ],
   "source": [
    "A().move()"
   ]
  },
  {
   "cell_type": "code",
   "execution_count": 61,
   "id": "fd37a1ee-fc68-4da9-8b1b-c85f0355e325",
   "metadata": {},
   "outputs": [
    {
     "data": {
      "text/plain": [
       "0"
      ]
     },
     "execution_count": 61,
     "metadata": {},
     "output_type": "execute_result"
    }
   ],
   "source": [
    "A.move()"
   ]
  },
  {
   "cell_type": "code",
   "execution_count": 63,
   "id": "0598b314-6f5c-4c73-8a82-7492ce4861d1",
   "metadata": {},
   "outputs": [],
   "source": [
    "class Person:\n",
    "    def __init__(self, name, age):\n",
    "        self.name = name\n",
    "        self.age = age\n",
    "    \n",
    "    @classmethod\n",
    "    def tuple_object(cls, args): # cls -> Person\n",
    "        return cls(args[0], args[1])\n",
    "    \n",
    "name = 'kim'\n",
    "age = 24\n",
    "p = Person(name, age)\n",
    "\n",
    "info = name, age\n",
    "p = Person.tuple_object(info) # p객체 생성하게"
   ]
  },
  {
   "cell_type": "code",
   "execution_count": 64,
   "id": "f2968702-5772-4fe2-afa4-beda661a16fd",
   "metadata": {},
   "outputs": [
    {
     "data": {
      "text/plain": [
       "'kim'"
      ]
     },
     "execution_count": 64,
     "metadata": {},
     "output_type": "execute_result"
    }
   ],
   "source": [
    "p.name"
   ]
  },
  {
   "cell_type": "code",
   "execution_count": 86,
   "id": "7f873804-b4d7-47f7-b327-e60b6b653809",
   "metadata": {},
   "outputs": [
    {
     "data": {
      "text/plain": [
       "'객체 수: 3'"
      ]
     },
     "execution_count": 86,
     "metadata": {},
     "output_type": "execute_result"
    }
   ],
   "source": [
    "# 어려우면 이런 기능이 있다는 정도만 알기\n",
    "\n",
    "class A:\n",
    "    # 붕어빵 몇 개?\n",
    "    cnt = 0\n",
    "    def __init__(self):\n",
    "        A.cnt += 1\n",
    "\n",
    "    @classmethod\n",
    "    def count(cls):\n",
    "        return f'객체 수: {cls.cnt}'\n",
    "    \n",
    "A()\n",
    "A()\n",
    "A()\n",
    "A.count() # 3 => 3번 호출"
   ]
  },
  {
   "cell_type": "code",
   "execution_count": 89,
   "id": "b5b4b2e2-c197-4c03-9989-51ea4ce4d817",
   "metadata": {},
   "outputs": [],
   "source": [
    "# 2. 정적 메서드\n",
    "\n",
    "class Coyote:\n",
    "    @staticmethod\n",
    "    def says(): # self 안 씀, 객체랑 상관없기 때문에, 마치 딕셔너리에서 변수 저장하는 것 같은 기능\n",
    "        print('hi')"
   ]
  },
  {
   "cell_type": "code",
   "execution_count": 88,
   "id": "89083391-aab0-4de4-a83f-a3b76cc29d47",
   "metadata": {},
   "outputs": [
    {
     "name": "stdout",
     "output_type": "stream",
     "text": [
      "hi\n"
     ]
    }
   ],
   "source": [
    "Coyote.says()"
   ]
  },
  {
   "cell_type": "code",
   "execution_count": 30,
   "id": "9688d98b-516f-4021-a54f-85747e4c2589",
   "metadata": {},
   "outputs": [],
   "source": [
    "# 3. 추상 메서드\n",
    "from abc import *\n",
    "\n",
    "class Vehicle(metaclass = ABCMeta):\n",
    "    # 추상 클래스 설정하는 방법\n",
    "    speed = '속도'\n",
    "    @abstractmethod\n",
    "    def go(self):\n",
    "        print('출발!!')\n",
    "    \"\"\"\n",
    "    def stop(self):\n",
    "        pass\"\"\"\n",
    "\n",
    "class Car(Vehicle):\n",
    "    def go(self):\n",
    "        print(\"\")"
   ]
  },
  {
   "cell_type": "code",
   "execution_count": 31,
   "id": "85a55c02-9f53-4508-a54a-328bd25ffb88",
   "metadata": {},
   "outputs": [
    {
     "data": {
      "text/plain": [
       "<__main__.Car at 0x28ddef62f40>"
      ]
     },
     "execution_count": 31,
     "metadata": {},
     "output_type": "execute_result"
    }
   ],
   "source": [
    "Car()"
   ]
  }
 ],
 "metadata": {
  "kernelspec": {
   "display_name": "Python 3 (ipykernel)",
   "language": "python",
   "name": "python3"
  },
  "language_info": {
   "codemirror_mode": {
    "name": "ipython",
    "version": 3
   },
   "file_extension": ".py",
   "mimetype": "text/x-python",
   "name": "python",
   "nbconvert_exporter": "python",
   "pygments_lexer": "ipython3",
   "version": "3.9.7"
  }
 },
 "nbformat": 4,
 "nbformat_minor": 5
}

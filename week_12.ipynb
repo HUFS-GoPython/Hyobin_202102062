{
 "cells": [
  {
   "cell_type": "markdown",
   "id": "134c156d-4711-455d-8280-2e7d36cc7d99",
   "metadata": {},
   "source": [
    "### project_03 (편의점 운영해보기) 지적된 부분 + 스스로 피드백해보기\n",
    "\n",
    "1. 상속은 비슷한 기능을 하도록 해야함\n",
    "    - 예를 들어 Person이 부모 클래스, Customer/Seller등이 자식 클래스\n",
    "    - 그런데 우리 조는 클래스 간의 관계성, 연결성이 안 맞음\n",
    "2. 창의력 부족\n",
    "    - 문제에 주어진 것들만 코딩하고 다른 창의력은 발휘하지 못함\n",
    "    - print할 때 보기 좋게 코딩했으면 더 좋았을 것\n",
    "    - 다른 조 코드 참고할 것\n",
    "3. 클래스에 대한 이해 부족\n",
    "    - 정적 메서드의 사용 용도를 정확히 이해하고 사용했어야 함\n",
    "    - 클래스에 대한 전체적인 이해도를 좀 키워야 할 듯"
   ]
  },
  {
   "cell_type": "markdown",
   "id": "3f602f0e-d392-46bb-afc3-477111eb4711",
   "metadata": {},
   "source": [
    "### 매직메소드\n",
    "- special method\n",
    "- 특별한 용도의 메소드, 종류 다양함\n",
    "- __<name>__ => 던더로 시작해서 던더로 끝남\n",
    "- __str__, __repr__"
   ]
  },
  {
   "cell_type": "code",
   "execution_count": 11,
   "id": "8d0ee02c-1123-4437-8a39-0db3a13f435a",
   "metadata": {},
   "outputs": [],
   "source": [
    "class Customer:  # object를 상속받음 -> 당연하기 때문에 안 써줌\n",
    "    def __init__(self, name):\n",
    "        self.name = name\n",
    "        \n",
    "    def __str__(self):\n",
    "        # print() 함수로 나온 출력값을 변경하는 것\n",
    "        # 문자열로 객체를 표현\n",
    "        return self.name\n",
    "        \n",
    "    def __repr__(self):\n",
    "        # 설정을 안 하면 __str__과 동일하게 됨\n",
    "        # 인스턴스를 출력하는 방식 => 사용자가 이해하는 객체의 모습을 표현\n",
    "        return f'Customer({self.name})' # Customer(객체 이름)\n",
    "    \n",
    "c = Customer('kim')"
   ]
  },
  {
   "cell_type": "code",
   "execution_count": 13,
   "id": "96be4372-2562-42fb-97d5-87f81317894d",
   "metadata": {},
   "outputs": [
    {
     "data": {
      "text/plain": [
       "Customer(kim)"
      ]
     },
     "execution_count": 13,
     "metadata": {},
     "output_type": "execute_result"
    }
   ],
   "source": [
    "c\n",
    "# 메모리 주소가 나오는 것을 방지하기 위한 것임"
   ]
  },
  {
   "cell_type": "code",
   "execution_count": 3,
   "id": "b944f433-94dc-40c8-892f-7c922c967090",
   "metadata": {},
   "outputs": [
    {
     "name": "stdout",
     "output_type": "stream",
     "text": [
      "<__main__.Customer object at 0x000002D08EADEB20>\n"
     ]
    }
   ],
   "source": [
    "print(c)"
   ]
  },
  {
   "cell_type": "code",
   "execution_count": 14,
   "id": "17ac4255-9e2b-442e-ab36-61f49c52469d",
   "metadata": {},
   "outputs": [
    {
     "data": {
      "text/plain": [
       "'Customer(kim)'"
      ]
     },
     "execution_count": 14,
     "metadata": {},
     "output_type": "execute_result"
    }
   ],
   "source": [
    "repr(c)"
   ]
  },
  {
   "cell_type": "markdown",
   "id": "86e2e8da-b3b1-4623-ac91-5dfd1fc9f926",
   "metadata": {},
   "source": [
    "### NamedTuple, Dataclass\n",
    "- 객체보다 효율적임 (간단한 속성만 가진 클래스일 경우 활용)\n",
    "- 딕셔너리의 키처럼 사용 가능하다\n",
    "- 불변 객체"
   ]
  },
  {
   "cell_type": "code",
   "execution_count": 16,
   "id": "afb94bad-3948-4b0c-bc02-65f7cb0e2094",
   "metadata": {},
   "outputs": [
    {
     "data": {
      "text/plain": [
       "('lee', 44)"
      ]
     },
     "execution_count": 16,
     "metadata": {},
     "output_type": "execute_result"
    }
   ],
   "source": [
    "from collections import namedtuple\n",
    "\n",
    "Customer = namedtuple('Customer', 'name age') # 변수가 여러개면 공백으로 구분\n",
    "a = Customer('lee', 44)\n",
    "a.name, a.age"
   ]
  },
  {
   "cell_type": "code",
   "execution_count": 18,
   "id": "66c8cb75-e5e5-41cf-9c84-e5ac2594e567",
   "metadata": {},
   "outputs": [
    {
     "data": {
      "text/plain": [
       "('hong', 88)"
      ]
     },
     "execution_count": 18,
     "metadata": {},
     "output_type": "execute_result"
    }
   ],
   "source": [
    "from dataclasses import dataclass\n",
    "# 파이썬 3.7 이상에서만 가능\n",
    "\n",
    "@dataclass\n",
    "class Customer2:\n",
    "    name: str\n",
    "    age: int\n",
    "    \n",
    "b = Customer2('hong', 88)\n",
    "b.name, b.age"
   ]
  },
  {
   "cell_type": "markdown",
   "id": "f3749799-bc64-4366-b42d-7b5d73cf55c8",
   "metadata": {},
   "source": [
    "### 함수 II\n",
    "- *, **\n",
    "- 일급객체\n",
    "- 내부함수, 클로저\n",
    "- 익명함수\n",
    "- 제너레이터\n",
    "- 재귀함수"
   ]
  },
  {
   "cell_type": "markdown",
   "id": "16460e9c-226e-4f8f-8e21-f637dea28618",
   "metadata": {},
   "source": [
    "asterisk: *"
   ]
  },
  {
   "cell_type": "code",
   "execution_count": 19,
   "id": "6472e674-5221-415a-abaa-aa3630ca3fa5",
   "metadata": {},
   "outputs": [
    {
     "name": "stdout",
     "output_type": "stream",
     "text": [
      "(1, 2, 3, 4, 5, 6)\n"
     ]
    }
   ],
   "source": [
    "def print_arg(*args): # 1. 여러개의 인자 => 패킹, 즉 여러개가 들어왔을 때 하나로 묶어줌\n",
    "    print(args)\n",
    "\n",
    "print_arg(1,2,3,4,5,6)"
   ]
  },
  {
   "cell_type": "code",
   "execution_count": 21,
   "id": "116a0c9e-c5bf-4dfc-b747-6f40e3df8435",
   "metadata": {},
   "outputs": [
    {
     "name": "stdout",
     "output_type": "stream",
     "text": [
      "1 2 3 4 5 6\n"
     ]
    }
   ],
   "source": [
    "def print_arg(*args): # 2. 여러개의 인자 => 언패킹\n",
    "    print(*args)\n",
    "\n",
    "print_arg(1,2,3,4,5,6)"
   ]
  },
  {
   "cell_type": "code",
   "execution_count": 22,
   "id": "8ff60ddd-c12e-4e2e-b754-c19d50a11cfe",
   "metadata": {},
   "outputs": [
    {
     "name": "stdout",
     "output_type": "stream",
     "text": [
      "1 2\n",
      "hi hello optional\n",
      "1 2\n",
      "optional\n"
     ]
    }
   ],
   "source": [
    "def print_more(num1, num2, *args): # 앞 두 인자는 반드시 있어야 함\n",
    "    print(num1, num2)\n",
    "    print(*args, 'optional')\n",
    "    \n",
    "print_more(1, 2, 'hi', 'hello')\n",
    "print_more(1, 2)"
   ]
  },
  {
   "cell_type": "code",
   "execution_count": 23,
   "id": "c5345d60-799c-4acb-893a-278c05c02ccd",
   "metadata": {},
   "outputs": [
    {
     "name": "stdout",
     "output_type": "stream",
     "text": [
      "0 1 2 3 4 5 6 7 8 9\n"
     ]
    }
   ],
   "source": [
    "# 함수 외부에서도 사용 가능\n",
    "empty = list(range(10))\n",
    "print(*empty)  # 언패킹돼서 출력됨"
   ]
  },
  {
   "cell_type": "code",
   "execution_count": 24,
   "id": "803e8923-cc32-4734-ae3b-8156766c5921",
   "metadata": {},
   "outputs": [
    {
     "name": "stdout",
     "output_type": "stream",
     "text": [
      "(1, 3, 5)\n",
      "(2, 4, 6)\n"
     ]
    }
   ],
   "source": [
    "# 행렬, 테이블 데이터\n",
    "matrix = [\n",
    "    [1,2],\n",
    "    [3,4],\n",
    "    [5,6]\n",
    "]\n",
    "\n",
    "# 1, 3, 5 / 2, 4, 6 이런 식으로 출력하고 싶을 떄\n",
    "for item in zip(*matrix):\n",
    "    print(item)"
   ]
  },
  {
   "cell_type": "code",
   "execution_count": 26,
   "id": "da605275-5327-4e60-a8b7-24b64a71c778",
   "metadata": {},
   "outputs": [
    {
     "name": "stdout",
     "output_type": "stream",
     "text": [
      "(1, 3, 5)\n",
      "(2, 4, 6)\n"
     ]
    }
   ],
   "source": [
    "# zip의 기능 복습하기\n",
    "for item in zip([1, 2], [3, 4], [5, 6]):\n",
    "    print(item)"
   ]
  },
  {
   "cell_type": "code",
   "execution_count": 29,
   "id": "d24d5ced-98b7-4be9-82e6-c8c09816d5e1",
   "metadata": {},
   "outputs": [
    {
     "name": "stdout",
     "output_type": "stream",
     "text": [
      "0\n",
      "1\n",
      "2\n",
      "3\n"
     ]
    }
   ],
   "source": [
    "# 키워드 전용 인수 선언 시 사용\n",
    "def print_data(data, *, start, end):\n",
    "    for item in data[start:end]:\n",
    "        print(item)\n",
    "        \n",
    "print_data(empty, start=0, end = 4)\n",
    "# print_data(empty, 0, 1) -> 오류"
   ]
  },
  {
   "cell_type": "markdown",
   "id": "4f3be33a-cc64-4c68-be34-1f8213c796d8",
   "metadata": {},
   "source": [
    "#### kargs: **"
   ]
  },
  {
   "cell_type": "code",
   "execution_count": 33,
   "id": "a51ea10c-9a42-4bc7-9662-93f97615db59",
   "metadata": {},
   "outputs": [
    {
     "name": "stdout",
     "output_type": "stream",
     "text": [
      "{'wine': 'crianza', 'drink': 'water'}\n"
     ]
    }
   ],
   "source": [
    "def print_kargs(**kargs): # 키: 값 => 딕셔너리로 반환 (따로 설정하지 않아도 되는 것임!!)\n",
    "    kargs['wine'] = 'crianza'\n",
    "    print(kargs)\n",
    "    # print(**kargs) => 언패킹 안 되므로 사용 불가\n",
    "    \n",
    "print_kargs(wine = 'crianza', drink = 'water')"
   ]
  },
  {
   "cell_type": "code",
   "execution_count": 37,
   "id": "d4859c8f-cf31-4321-8837-7a506d193de1",
   "metadata": {},
   "outputs": [
    {
     "name": "stdout",
     "output_type": "stream",
     "text": [
      "{'wine': 'crianza', 'drink': 'water'}\n",
      "{'wine': 'crianza', 'drink': 'water'}\n",
      "{'wine': 'crianza', 'drink': 'water'}\n"
     ]
    }
   ],
   "source": [
    "# 언제 활용할까?\n",
    "for wine in ['cabernet', 'crianza', 'shiraz']:\n",
    "    print_kargs(wine = wine, drink = 'water')"
   ]
  },
  {
   "cell_type": "code",
   "execution_count": 39,
   "id": "f9491fc5-87ff-4a9d-96aa-d661893f3817",
   "metadata": {},
   "outputs": [
    {
     "name": "stdout",
     "output_type": "stream",
     "text": [
      "1 2\n",
      "18\n",
      "{'num': 4}\n"
     ]
    }
   ],
   "source": [
    "def print_all(num1, num2, *args, **kargs):\n",
    "    print(num1, num2)\n",
    "    print(sum(args))\n",
    "    print(kargs)\n",
    "    \n",
    "print_all(1,2,3,4,5,6, num=4)"
   ]
  },
  {
   "cell_type": "code",
   "execution_count": 40,
   "id": "7bc23451-5502-4bd3-bcad-e850eb3b1c33",
   "metadata": {},
   "outputs": [
    {
     "data": {
      "text/plain": [
       "{1: 'a', 2: 'c', 3: 'd'}"
      ]
     },
     "execution_count": 40,
     "metadata": {},
     "output_type": "execute_result"
    }
   ],
   "source": [
    "# 딕셔너리 조인\n",
    "a = {1: 'a', 2: 'b'}\n",
    "b = {2: 'c', 3: 'd'}\n",
    "{**a, **b}"
   ]
  }
 ],
 "metadata": {
  "kernelspec": {
   "display_name": "Python 3 (ipykernel)",
   "language": "python",
   "name": "python3"
  },
  "language_info": {
   "codemirror_mode": {
    "name": "ipython",
    "version": 3
   },
   "file_extension": ".py",
   "mimetype": "text/x-python",
   "name": "python",
   "nbconvert_exporter": "python",
   "pygments_lexer": "ipython3",
   "version": "3.9.7"
  }
 },
 "nbformat": 4,
 "nbformat_minor": 5
}

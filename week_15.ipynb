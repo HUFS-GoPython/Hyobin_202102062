{
 "cells": [
  {
   "cell_type": "markdown",
   "id": "8a0012fa-cce4-4002-88e5-0ca98fb6d62b",
   "metadata": {},
   "source": [
    "### 파일과 디렉터리\n",
    "- 디렉터리: 폴더의 다른 말, 파일이 논리적으로 묶인 단위\n",
    "- 파일: 컴퓨터를 실행하는 기본 단위\n",
    "    - 파일명 + 확장자\n",
    "    - 확장자: 파일의 쓰임을 구분하는 형식\n",
    "        - .pdf, .xlsx, .txt, ..\n",
    "    - 종류: 바이너리 파일, 텍스트 파일\n",
    "        - 바이너리: 이진 정보로 저장됨\n",
    "            - 내용을 확인할 수 없음\n",
    "            - 해당 확장자를 열 수 있는 프로그램이 필요함\n",
    "        - 텍스트: 사람이 이해할 수 있는 문자열로 저장됨\n",
    "            - 메모장, html, py\n",
    "            - 변경 기준: 아스키코드, 유니코드\n",
    "            - 인코딩 (encoding)\n",
    "            - utf-8\n",
    "            - cp949"
   ]
  },
  {
   "cell_type": "markdown",
   "id": "6be42bd8-765d-4cf3-b7e2-7fa9d08c1e10",
   "metadata": {},
   "source": [
    "#### 파일 열기\n",
    "- open(파일명, 모드)\n",
    "- 모드\n",
    "    - r: read (default)\n",
    "    \n",
    "    - w: write - 파일이 있으면 덮어쓰고, 없으면 만든다\n",
    "    - x: 파일이 없을 때만 생성\n",
    "    - a: 파일이 있을 때 마지막 라인에 추가\n",
    "    \n",
    "    추가 모드\n",
    "    - b: binary\n",
    "    - t: text (default)\n",
    "    \n",
    "    'rb', 'rt'"
   ]
  },
  {
   "cell_type": "code",
   "execution_count": 20,
   "id": "865fae15-2c75-4d63-95e5-d6d0eee6c053",
   "metadata": {},
   "outputs": [],
   "source": [
    "file = 'test.txt'\n",
    "f = open(file, 'r')"
   ]
  },
  {
   "cell_type": "code",
   "execution_count": 12,
   "id": "d1692fb1-7996-488b-92b4-70a21258d1da",
   "metadata": {},
   "outputs": [
    {
     "data": {
      "text/plain": [
       "<_io.TextIOWrapper name='test.txt' mode='r' encoding='cp949'>"
      ]
     },
     "execution_count": 12,
     "metadata": {},
     "output_type": "execute_result"
    }
   ],
   "source": [
    "f"
   ]
  },
  {
   "cell_type": "markdown",
   "id": "331ab17b-2ad6-4323-a599-a394fc87694b",
   "metadata": {},
   "source": [
    "#### 파일 읽기\n",
    "- read(): 전체를 하나의 str\n",
    "    - 포인터\n",
    "- readline(): 한 줄만 str\n",
    "- readlines(): 전체를 list, 각 줄이 한 str"
   ]
  },
  {
   "cell_type": "code",
   "execution_count": 21,
   "id": "5f8e7bde-5011-48b9-a463-2b1c00b21c53",
   "metadata": {},
   "outputs": [
    {
     "data": {
      "text/plain": [
       "''"
      ]
     },
     "execution_count": 21,
     "metadata": {},
     "output_type": "execute_result"
    }
   ],
   "source": [
    "# 파일 읽기\n",
    "f.read(5)"
   ]
  },
  {
   "cell_type": "code",
   "execution_count": 14,
   "id": "3ee55560-90e2-4875-8aa4-fb7dbde78e6a",
   "metadata": {},
   "outputs": [],
   "source": [
    "f.close()"
   ]
  },
  {
   "cell_type": "code",
   "execution_count": 22,
   "id": "f480d32c-eed9-4636-9ffb-716e1e427acc",
   "metadata": {},
   "outputs": [],
   "source": [
    "f = open(file, 'r')\n",
    "sents = f.readline()\n",
    "sents = [s.strip() for s in sents]\n",
    "f.close()"
   ]
  },
  {
   "cell_type": "code",
   "execution_count": 23,
   "id": "a19e67f3-0c27-4384-8ac9-2e3bb2b2f4c2",
   "metadata": {},
   "outputs": [
    {
     "data": {
      "text/plain": [
       "['h', 'e', 'l', 'l', 'o', '']"
      ]
     },
     "execution_count": 23,
     "metadata": {},
     "output_type": "execute_result"
    }
   ],
   "source": [
    "sents"
   ]
  },
  {
   "cell_type": "markdown",
   "id": "2bae9356-2af4-4c52-9df3-c2b06b891dcb",
   "metadata": {},
   "source": [
    "#### 파일 닫기\n",
    "- 파일 여는 즉시 닫기, 메모리 관련\n",
    "- 자원 해제\n",
    "- 내용만 변수에 담아놓으면 닫아도 변수는 사용 가능"
   ]
  },
  {
   "cell_type": "code",
   "execution_count": 27,
   "id": "04219a1c-2064-430c-9411-fbaad5cadf38",
   "metadata": {},
   "outputs": [],
   "source": [
    "file = 'test.txt'\n",
    "with open(file, 'r') as f:\n",
    "    # open() 적용되는 블럭\n",
    "    content = f.read()\n",
    "# 파일이 자동으로 닫힘 => close 안 써도 됨"
   ]
  },
  {
   "cell_type": "code",
   "execution_count": 28,
   "id": "5348da99-8871-4d2f-9639-fb9c7283ce11",
   "metadata": {},
   "outputs": [
    {
     "data": {
      "text/plain": [
       "'hello\\npython'"
      ]
     },
     "execution_count": 28,
     "metadata": {},
     "output_type": "execute_result"
    }
   ],
   "source": [
    "content"
   ]
  },
  {
   "cell_type": "code",
   "execution_count": 42,
   "id": "63264a26-75a0-48c9-9019-98a2073a6544",
   "metadata": {},
   "outputs": [],
   "source": [
    "# readline 파일 읽는데, while 사용해서 한 줄씩 읽고 strip\n",
    "\n",
    "file = 'test.txt'\n",
    "sents = []\n",
    "with open(file, 'r') as f:\n",
    "    while True:\n",
    "        line = f.readline()\n",
    "        if not line: # ''의 길이는 1, 내용이 없을 때는 0\n",
    "            break # 내용이 없을 때 break\n",
    "        sent = line.strip()\n",
    "        sents.append(sent)"
   ]
  },
  {
   "cell_type": "code",
   "execution_count": 43,
   "id": "f429dc83-7048-49e2-921f-627215224262",
   "metadata": {},
   "outputs": [
    {
     "data": {
      "text/plain": [
       "['hello', 'python', 'this', 'is', 'last class']"
      ]
     },
     "execution_count": 43,
     "metadata": {},
     "output_type": "execute_result"
    }
   ],
   "source": [
    "sents"
   ]
  },
  {
   "cell_type": "markdown",
   "id": "acc1a2ea-08ca-47d6-b16c-73762a8ce6e7",
   "metadata": {},
   "source": [
    "#### 경로가 달라질 때\n",
    "- . : 현재 경로\n",
    "- .. : 상위 경로"
   ]
  },
  {
   "cell_type": "markdown",
   "id": "38ef73a9-e734-491e-a3da-1437d33e94db",
   "metadata": {},
   "source": [
    "file = './folder/test.txt'\n",
    "\n",
    "with open(file) as f:\n",
    "    print(f.read())"
   ]
  },
  {
   "cell_type": "markdown",
   "id": "509e4d34-e2ea-48cb-89d9-aec624698a99",
   "metadata": {},
   "source": [
    "#### 쓰기\n",
    "- 인코딩 유의"
   ]
  },
  {
   "cell_type": "code",
   "execution_count": 46,
   "id": "405dbac4-0581-43ad-8fad-0ab97cd91482",
   "metadata": {},
   "outputs": [],
   "source": [
    "data = list(range(10))\n",
    "with open('test2', 'w', encoding = 'utf-8') as f:\n",
    "    for i in range(10):\n",
    "        data = f'{i}번째 줄입니다.\\n'\n",
    "        f.write(data)"
   ]
  },
  {
   "cell_type": "code",
   "execution_count": 48,
   "id": "9616f83d-d984-41ef-b429-fdcd8475372b",
   "metadata": {},
   "outputs": [],
   "source": [
    "# print\n",
    "file_out = open('test2', 'a', encoding = 'utf-8')\n",
    "print('한 줄 추가했습니다.', file = file_out)\n",
    "file_out.close()"
   ]
  },
  {
   "cell_type": "markdown",
   "id": "b6e6927e-59a5-4298-825a-9503a7446274",
   "metadata": {
    "tags": []
   },
   "source": [
    "#### folder 만들어서 추가하는 방법\n",
    "    - 폴더를 만들어야 함\n",
    "    - 만들고난 후 접근"
   ]
  },
  {
   "cell_type": "code",
   "execution_count": 51,
   "id": "98c90aaf-ce0f-46e7-b793-f4785807379f",
   "metadata": {},
   "outputs": [],
   "source": [
    "with open('./abc/test2', 'w', encoding = 'utf-8') as f:\n",
    "    for i in range(10):\n",
    "        data = f'{i}번째 줄입니다.\\n'\n",
    "        f.write(data)"
   ]
  },
  {
   "cell_type": "code",
   "execution_count": 50,
   "id": "1862fc2d-988f-4cbf-b254-dec542b5014a",
   "metadata": {},
   "outputs": [],
   "source": [
    "# 폴더 만들기 전에 import\n",
    "import os\n",
    "os.mkdir('abc')"
   ]
  },
  {
   "cell_type": "code",
   "execution_count": null,
   "id": "48c667d9-1db4-4008-91dd-2cbc209dd007",
   "metadata": {},
   "outputs": [],
   "source": [
    "path = 'abc'\n",
    "\n",
    "# 있는지 확인하기\n",
    "if not os.isdir(path):\n",
    "    os.mkdir(path)\n",
    "    \n",
    "dir_name = os.path.join(path, 'test2')\n",
    "\n",
    "# 재확인\n",
    "if not os.path.exists(dir_name):\n",
    "    with open(dir_name, 'w') as f:\n",
    "        #..."
   ]
  },
  {
   "cell_type": "code",
   "execution_count": null,
   "id": "3e1951ad-4852-4d40-a1f6-eef42d4b19c9",
   "metadata": {},
   "outputs": [],
   "source": [
    "# 파일 지우기\n",
    "os.remove(file_name)\n",
    "# 디렉터리 지우기\n",
    "os.rmdir(folder_name) # but 폴더 안에 파일이 있으면 삭제 못함"
   ]
  },
  {
   "cell_type": "code",
   "execution_count": null,
   "id": "6c98a6df-03f2-4c6d-a1c2-a0ccdb322487",
   "metadata": {},
   "outputs": [],
   "source": [
    "import shutil\n",
    "shutil.rmtree(dir_name) # 폴더 안에 파일이 몇 개가 있든 강제로 삭제 가능"
   ]
  },
  {
   "cell_type": "code",
   "execution_count": null,
   "id": "f144df4d-6b9b-4a18-9541-03d7618653cd",
   "metadata": {},
   "outputs": [],
   "source": [
    "# folder 새로 만들어서\n",
    "# 파일에 내용 쓰기\n",
    "# 파일 열기\n",
    "\n",
    "import os\n",
    "os.mkdir('new_folder')"
   ]
  },
  {
   "cell_type": "code",
   "execution_count": 52,
   "id": "e92fca47-a0a2-4896-a5b7-9f7477e9d7dd",
   "metadata": {},
   "outputs": [
    {
     "data": {
      "text/plain": [
       "'C:\\\\Users\\\\hyobi\\\\START'"
      ]
     },
     "execution_count": 52,
     "metadata": {},
     "output_type": "execute_result"
    }
   ],
   "source": [
    "os.getcwd() # 경로 알기"
   ]
  },
  {
   "cell_type": "code",
   "execution_count": 53,
   "id": "35ec13f0-84ec-42e8-83d0-5a2fe551a82e",
   "metadata": {},
   "outputs": [],
   "source": [
    "os.chdir('..')"
   ]
  },
  {
   "cell_type": "markdown",
   "id": "c47fb0da-76be-4220-b7b1-cc0ce4002db1",
   "metadata": {},
   "source": [
    "#### pickle\n",
    "- 객체를 파일로 저장하는 기능 제공"
   ]
  },
  {
   "cell_type": "code",
   "execution_count": 54,
   "id": "d07f9f11-4212-4db6-9844-b96895b299a5",
   "metadata": {},
   "outputs": [],
   "source": [
    "nums = list(range(10))\n",
    "\n",
    "import pickle\n",
    "with open('test.pickle', 'wb') as f:\n",
    "    pickle.dump(nums, f)"
   ]
  },
  {
   "cell_type": "code",
   "execution_count": 55,
   "id": "73aed621-cb82-4868-a21a-5fe05c7eab2a",
   "metadata": {},
   "outputs": [],
   "source": [
    "with open('test.pickle', 'rb') as f:\n",
    "    number = pickle.load(f)"
   ]
  },
  {
   "cell_type": "code",
   "execution_count": 56,
   "id": "f399b34b-a42f-463c-8956-b6a7efb26334",
   "metadata": {},
   "outputs": [
    {
     "data": {
      "text/plain": [
       "[0, 1, 2, 3, 4, 5, 6, 7, 8, 9]"
      ]
     },
     "execution_count": 56,
     "metadata": {},
     "output_type": "execute_result"
    }
   ],
   "source": [
    "number"
   ]
  },
  {
   "cell_type": "markdown",
   "id": "e18e5eac-eaf5-4c68-9fef-22a70f18ca5e",
   "metadata": {},
   "source": [
    "#### 기말고사\n",
    "\n",
    "- 3시간\n",
    "- 문제 하나\n",
    "- 웹엑스 입장 X\n",
    "- 과제로 제출\n",
    "- 채점 기준\n",
    "    - 구현해야 할 기능을 전부 구현했는가\n",
    "    - 프로그램의 완결성\n",
    "- 연습\n",
    "    - 구구단 루프 활용\n",
    "\n",
    "- 지각 제출 X\n",
    "- 가산점: 효율성, 섬세함(error 관리)"
   ]
  }
 ],
 "metadata": {
  "kernelspec": {
   "display_name": "Python 3 (ipykernel)",
   "language": "python",
   "name": "python3"
  },
  "language_info": {
   "codemirror_mode": {
    "name": "ipython",
    "version": 3
   },
   "file_extension": ".py",
   "mimetype": "text/x-python",
   "name": "python",
   "nbconvert_exporter": "python",
   "pygments_lexer": "ipython3",
   "version": "3.9.7"
  }
 },
 "nbformat": 4,
 "nbformat_minor": 5
}
